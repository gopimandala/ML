{
 "cells": [
  {
   "cell_type": "code",
   "execution_count": 62,
   "id": "bb7c556f",
   "metadata": {},
   "outputs": [
    {
     "name": "stdout",
     "output_type": "stream",
     "text": [
      "tf.Tensor(\n",
      "[[[ 1  8]\n",
      "  [ 7  3]]\n",
      "\n",
      " [[ 5  4]\n",
      "  [ 6 12]]], shape=(2, 2, 2), dtype=int32) 3\n"
     ]
    }
   ],
   "source": [
    "# importing the library\n",
    "import tensorflow as tf\n",
    " \n",
    "# initializing the constant tensor\n",
    "a = tf.constant(value = [1,8,7,3,5,4,6,12],shape = (2,2,2))\n",
    " \n",
    "# printing the initialized tensor\n",
    "print(a, a.ndim)"
   ]
  },
  {
   "cell_type": "code",
   "execution_count": 10,
   "id": "496100a6",
   "metadata": {},
   "outputs": [
    {
     "data": {
      "text/plain": [
       "<tf.Tensor: shape=(2,), dtype=int64, numpy=array([1, 3], dtype=int64)>"
      ]
     },
     "execution_count": 10,
     "metadata": {},
     "output_type": "execute_result"
    }
   ],
   "source": [
    "# getting the maximum value indices tensor\n",
    "tf.math.argmax(a,0)"
   ]
  },
  {
   "cell_type": "code",
   "execution_count": 11,
   "id": "89e31c68",
   "metadata": {},
   "outputs": [
    {
     "data": {
      "text/plain": [
       "<tf.Tensor: shape=(4,), dtype=int64, numpy=array([1, 0, 0, 1], dtype=int64)>"
      ]
     },
     "execution_count": 11,
     "metadata": {},
     "output_type": "execute_result"
    }
   ],
   "source": [
    "tf.argmax(a,1)"
   ]
  },
  {
   "cell_type": "code",
   "execution_count": 12,
   "id": "79f85ec2",
   "metadata": {},
   "outputs": [
    {
     "data": {
      "text/plain": [
       "<tf.Tensor: shape=(4,), dtype=int64, numpy=array([1, 0, 0, 1], dtype=int64)>"
      ]
     },
     "execution_count": 12,
     "metadata": {},
     "output_type": "execute_result"
    }
   ],
   "source": [
    "tf.argmax(a,-1)"
   ]
  },
  {
   "cell_type": "code",
   "execution_count": 14,
   "id": "2470382f",
   "metadata": {},
   "outputs": [
    {
     "name": "stdout",
     "output_type": "stream",
     "text": [
      "[[0. 1.]\n",
      " [2. 3.]\n",
      " [4. 5.]\n",
      " [6. 7.]\n",
      " [8. 9.]]\n"
     ]
    }
   ],
   "source": [
    "import numpy as np\n",
    "tf.random.set_seed(0)\n",
    "\n",
    "data = np.arange(10).reshape(5, 2).astype(np.float32)\n",
    "print(data)"
   ]
  },
  {
   "cell_type": "code",
   "execution_count": 64,
   "id": "c1fc00fd",
   "metadata": {},
   "outputs": [
    {
     "data": {
      "text/plain": [
       "(<tf.Tensor: shape=(2, 3, 4, 5), dtype=float32, numpy=\n",
       " array([[[[0., 0., 0., 0., 0.],\n",
       "          [0., 0., 0., 0., 0.],\n",
       "          [0., 0., 0., 0., 0.],\n",
       "          [0., 0., 0., 0., 0.]],\n",
       " \n",
       "         [[0., 0., 0., 0., 0.],\n",
       "          [0., 0., 0., 0., 0.],\n",
       "          [0., 0., 0., 0., 0.],\n",
       "          [0., 0., 0., 0., 0.]],\n",
       " \n",
       "         [[0., 0., 0., 0., 0.],\n",
       "          [0., 0., 0., 0., 0.],\n",
       "          [0., 0., 0., 0., 0.],\n",
       "          [0., 0., 0., 0., 0.]]],\n",
       " \n",
       " \n",
       "        [[[0., 0., 0., 0., 0.],\n",
       "          [0., 0., 0., 0., 0.],\n",
       "          [0., 0., 0., 0., 0.],\n",
       "          [0., 0., 0., 0., 0.]],\n",
       " \n",
       "         [[0., 0., 0., 0., 0.],\n",
       "          [0., 0., 0., 0., 0.],\n",
       "          [0., 0., 0., 0., 0.],\n",
       "          [0., 0., 0., 0., 0.]],\n",
       " \n",
       "         [[0., 0., 0., 0., 0.],\n",
       "          [0., 0., 0., 0., 0.],\n",
       "          [0., 0., 0., 0., 0.],\n",
       "          [0., 0., 0., 0., 0.]]]], dtype=float32)>,\n",
       " TensorShape([2, 3, 4, 5]),\n",
       " 4,\n",
       " <tf.Tensor: shape=(), dtype=int32, numpy=120>)"
      ]
     },
     "execution_count": 64,
     "metadata": {},
     "output_type": "execute_result"
    }
   ],
   "source": [
    "rank_4_tensor = tf.zeros([2, 3, 4, 5])\n",
    "rank_4_tensor, rank_4_tensor.shape, rank_4_tensor.ndim, tf.size(rank_4_tensor)"
   ]
  },
  {
   "cell_type": "code",
   "execution_count": 33,
   "id": "fcb9dccc",
   "metadata": {},
   "outputs": [
    {
     "name": "stdout",
     "output_type": "stream",
     "text": [
      "tf.Tensor(\n",
      "[[ 0.         0.       ]\n",
      " [ 2.2222223  3.3333335]\n",
      " [ 4.4444447  5.555556 ]\n",
      " [ 6.666667   7.777778 ]\n",
      " [ 8.888889  10.       ]], shape=(5, 2), dtype=float32)\n"
     ]
    }
   ],
   "source": [
    "layer = tf.keras.layers.Dropout(.1, input_shape=(None,2))\n",
    "outputs = layer(data, training=True)\n",
    "print(outputs)"
   ]
  },
  {
   "cell_type": "code",
   "execution_count": 44,
   "id": "f7e344c2",
   "metadata": {},
   "outputs": [],
   "source": [
    "import tensorflow as tf\n",
    "import numpy as np\n",
    "input_shape = (2, 3, 4)\n",
    "x = tf.random.normal(input_shape)\n",
    "y = tf.keras.layers.GlobalAveragePooling1D()(x)\n",
    "x, y\n",
    "\n",
    "input_shape2 = (2, 5, 4, 3)\n",
    "x2 = tf.random.normal(input_shape2)\n",
    "y2 = tf.keras.layers.GlobalAveragePooling2D()(x2)\n",
    "#x, y1, x2, y2"
   ]
  },
  {
   "cell_type": "code",
   "execution_count": 59,
   "id": "9e04896b",
   "metadata": {},
   "outputs": [
    {
     "data": {
      "text/plain": [
       "(<tf.Tensor: shape=(6,), dtype=int32, numpy=array([1, 2, 4, 6, 7, 9])>,\n",
       " <tf.Tensor: shape=(2, 3), dtype=int32, numpy=\n",
       " array([[1, 2, 4],\n",
       "        [6, 7, 9]])>)"
      ]
     },
     "execution_count": 59,
     "metadata": {},
     "output_type": "execute_result"
    }
   ],
   "source": [
    "x = tf.constant([[1,2,4],[6,7,9]])\n",
    "#tf.reshape(x, [-1]), \n",
    "tf.reshape(x,[-1]), x\n"
   ]
  },
  {
   "cell_type": "code",
   "execution_count": 69,
   "id": "5eccda71",
   "metadata": {},
   "outputs": [
    {
     "data": {
      "text/plain": [
       "(<tf.Tensor: shape=(2,), dtype=float32, numpy=array([ 1.7, -7.4], dtype=float32)>,\n",
       " <tf.Tensor: shape=(2,), dtype=float16, numpy=array([ 1.7, -7.4], dtype=float16)>,\n",
       " <tf.Tensor: shape=(2,), dtype=float32, numpy=array([1.7, 7.4], dtype=float32)>)"
      ]
     },
     "execution_count": 69,
     "metadata": {},
     "output_type": "execute_result"
    }
   ],
   "source": [
    "B = tf.constant([1.7, -7.4])\n",
    "C = tf.cast(B,dtype=tf.float16)\n",
    "B,C, tf.abs(B)"
   ]
  },
  {
   "cell_type": "code",
   "execution_count": 88,
   "id": "27454348",
   "metadata": {},
   "outputs": [
    {
     "data": {
      "text/plain": [
       "(<tf.Tensor: shape=(3, 3), dtype=float64, numpy=\n",
       " array([[0.15416284, 0.7400497 , 0.26331502],\n",
       "        [0.53373939, 0.01457496, 0.91874701],\n",
       "        [0.90071485, 0.03342143, 0.95694934]])>,\n",
       " <tf.Tensor: shape=(3,), dtype=int64, numpy=array([2, 0, 2], dtype=int64)>)"
      ]
     },
     "execution_count": 88,
     "metadata": {},
     "output_type": "execute_result"
    }
   ],
   "source": [
    "np.random.seed(12)\n",
    "F = tf.constant(np.random.random(9),shape=(3,3))\n",
    "F, tf.argmax(F)"
   ]
  },
  {
   "cell_type": "code",
   "execution_count": 96,
   "id": "ecf9c4d4",
   "metadata": {},
   "outputs": [
    {
     "name": "stdout",
     "output_type": "stream",
     "text": [
      "here..\n"
     ]
    },
    {
     "data": {
      "text/plain": [
       "(<tf.Tensor: shape=(10,), dtype=int32, numpy=array([ 10,  12,  16,  22,  30,  40,  52,  66,  82, 100])>,\n",
       " <tf.Tensor: shape=(10,), dtype=int32, numpy=array([ 10,  12,  16,  22,  30,  40,  52,  66,  82, 100])>)"
      ]
     },
     "execution_count": 96,
     "metadata": {},
     "output_type": "execute_result"
    }
   ],
   "source": [
    "# Create a simple function\n",
    "def function(x, y):\n",
    "  return x ** 2 + y\n",
    "\n",
    "x = tf.constant(np.arange(0, 10))\n",
    "y = tf.constant(np.arange(10, 20))\n",
    "# print(function(x, y))\n",
    "\n",
    "# Create the same function and decorate it with tf.function\n",
    "@tf.function\n",
    "def tf_function(x, y):\n",
    "    print('here..')\n",
    "    return x ** 2 + y\n",
    "\n",
    "tf_function(x, y), function(x, y)"
   ]
  },
  {
   "cell_type": "code",
   "execution_count": 100,
   "id": "d6851364",
   "metadata": {},
   "outputs": [
    {
     "name": "stderr",
     "output_type": "stream",
     "text": [
      "  % Total    % Received % Xferd  Average Speed   Time    Time     Time  Current\n",
      "                                 Dload  Upload   Total   Spent    Left  Speed\n",
      "\n",
      "  0     0    0     0    0     0      0      0 --:--:-- --:--:-- --:--:--     0\n",
      "  0     0    0     0    0     0      0      0 --:--:-- --:--:-- --:--:--     0\n",
      "100  593k  100  593k    0     0   793k      0 --:--:-- --:--:-- --:--:--  793k\n"
     ]
    }
   ],
   "source": [
    "!curl -O \"https://storage.googleapis.com/ztm_tf_course/nlp_getting_started.zip\""
   ]
  },
  {
   "cell_type": "code",
   "execution_count": null,
   "id": "6ecfd876",
   "metadata": {},
   "outputs": [],
   "source": [
    "\n",
    "len(i.split()"
   ]
  }
 ],
 "metadata": {
  "kernelspec": {
   "display_name": "Anaconda (base)",
   "language": "python",
   "name": "anaconda-base"
  },
  "language_info": {
   "codemirror_mode": {
    "name": "ipython",
    "version": 3
   },
   "file_extension": ".py",
   "mimetype": "text/x-python",
   "name": "python",
   "nbconvert_exporter": "python",
   "pygments_lexer": "ipython3",
   "version": "3.9.7"
  }
 },
 "nbformat": 4,
 "nbformat_minor": 5
}
