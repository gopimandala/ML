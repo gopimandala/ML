{
 "cells": [
  {
   "cell_type": "code",
   "execution_count": 1,
   "id": "3a713832",
   "metadata": {
    "scrolled": true
   },
   "outputs": [
    {
     "data": {
      "text/plain": [
       "{'data': array([[   8.3252    ,   41.        ,    6.98412698, ...,    2.55555556,\n",
       "           37.88      , -122.23      ],\n",
       "        [   8.3014    ,   21.        ,    6.23813708, ...,    2.10984183,\n",
       "           37.86      , -122.22      ],\n",
       "        [   7.2574    ,   52.        ,    8.28813559, ...,    2.80225989,\n",
       "           37.85      , -122.24      ],\n",
       "        ...,\n",
       "        [   1.7       ,   17.        ,    5.20554273, ...,    2.3256351 ,\n",
       "           39.43      , -121.22      ],\n",
       "        [   1.8672    ,   18.        ,    5.32951289, ...,    2.12320917,\n",
       "           39.43      , -121.32      ],\n",
       "        [   2.3886    ,   16.        ,    5.25471698, ...,    2.61698113,\n",
       "           39.37      , -121.24      ]]),\n",
       " 'target': array([4.526, 3.585, 3.521, ..., 0.923, 0.847, 0.894]),\n",
       " 'frame': None,\n",
       " 'target_names': ['MedHouseVal'],\n",
       " 'feature_names': ['MedInc',\n",
       "  'HouseAge',\n",
       "  'AveRooms',\n",
       "  'AveBedrms',\n",
       "  'Population',\n",
       "  'AveOccup',\n",
       "  'Latitude',\n",
       "  'Longitude'],\n",
       " 'DESCR': '.. _california_housing_dataset:\\n\\nCalifornia Housing dataset\\n--------------------------\\n\\n**Data Set Characteristics:**\\n\\n    :Number of Instances: 20640\\n\\n    :Number of Attributes: 8 numeric, predictive attributes and the target\\n\\n    :Attribute Information:\\n        - MedInc        median income in block\\n        - HouseAge      median house age in block\\n        - AveRooms      average number of rooms\\n        - AveBedrms     average number of bedrooms\\n        - Population    block population\\n        - AveOccup      average house occupancy\\n        - Latitude      house block latitude\\n        - Longitude     house block longitude\\n\\n    :Missing Attribute Values: None\\n\\nThis dataset was obtained from the StatLib repository.\\nhttp://lib.stat.cmu.edu/datasets/\\n\\nThe target variable is the median house value for California districts.\\n\\nThis dataset was derived from the 1990 U.S. census, using one row per census\\nblock group. A block group is the smallest geographical unit for which the U.S.\\nCensus Bureau publishes sample data (a block group typically has a population\\nof 600 to 3,000 people).\\n\\nIt can be downloaded/loaded using the\\n:func:`sklearn.datasets.fetch_california_housing` function.\\n\\n.. topic:: References\\n\\n    - Pace, R. Kelley and Ronald Barry, Sparse Spatial Autoregressions,\\n      Statistics and Probability Letters, 33 (1997) 291-297\\n'}"
      ]
     },
     "execution_count": 1,
     "metadata": {},
     "output_type": "execute_result"
    }
   ],
   "source": [
    "import tensorflow as tf\n",
    "from tensorflow.keras import Sequential\n",
    "from tensorflow.keras.layers import Dense, Dropout\n",
    "import pandas as pd\n",
    "from sklearn.datasets import fetch_california_housing\n",
    "\n",
    "# MedInc median income in block group\n",
    "# HouseAge median house age in block group\n",
    "# AveRooms average number of rooms per household\n",
    "# AveBedrms average number of bedrooms per household\n",
    "# Population block group population\n",
    "# AveOccup average number of household members\n",
    "# Latitude block group latitude\n",
    "# Longitude block group longitude\n",
    "\n",
    "dataset = fetch_california_housing()\n",
    "dataset"
   ]
  },
  {
   "cell_type": "code",
   "execution_count": 2,
   "id": "7ca2d843",
   "metadata": {},
   "outputs": [
    {
     "data": {
      "text/plain": [
       "((20640, 8), (20640,))"
      ]
     },
     "execution_count": 2,
     "metadata": {},
     "output_type": "execute_result"
    }
   ],
   "source": [
    "X = dataset['data']\n",
    "y = dataset['target']\n",
    "X.shape,y.shape"
   ]
  },
  {
   "cell_type": "code",
   "execution_count": 3,
   "id": "487142a7",
   "metadata": {},
   "outputs": [
    {
     "data": {
      "text/html": [
       "<div>\n",
       "<style scoped>\n",
       "    .dataframe tbody tr th:only-of-type {\n",
       "        vertical-align: middle;\n",
       "    }\n",
       "\n",
       "    .dataframe tbody tr th {\n",
       "        vertical-align: top;\n",
       "    }\n",
       "\n",
       "    .dataframe thead th {\n",
       "        text-align: right;\n",
       "    }\n",
       "</style>\n",
       "<table border=\"1\" class=\"dataframe\">\n",
       "  <thead>\n",
       "    <tr style=\"text-align: right;\">\n",
       "      <th></th>\n",
       "      <th>0</th>\n",
       "      <th>1</th>\n",
       "      <th>2</th>\n",
       "      <th>3</th>\n",
       "      <th>4</th>\n",
       "      <th>5</th>\n",
       "      <th>6</th>\n",
       "      <th>7</th>\n",
       "    </tr>\n",
       "  </thead>\n",
       "  <tbody>\n",
       "    <tr>\n",
       "      <th>0</th>\n",
       "      <td>8.3252</td>\n",
       "      <td>41.0</td>\n",
       "      <td>6.984127</td>\n",
       "      <td>1.023810</td>\n",
       "      <td>322.0</td>\n",
       "      <td>2.555556</td>\n",
       "      <td>37.88</td>\n",
       "      <td>-122.23</td>\n",
       "    </tr>\n",
       "    <tr>\n",
       "      <th>1</th>\n",
       "      <td>8.3014</td>\n",
       "      <td>21.0</td>\n",
       "      <td>6.238137</td>\n",
       "      <td>0.971880</td>\n",
       "      <td>2401.0</td>\n",
       "      <td>2.109842</td>\n",
       "      <td>37.86</td>\n",
       "      <td>-122.22</td>\n",
       "    </tr>\n",
       "    <tr>\n",
       "      <th>2</th>\n",
       "      <td>7.2574</td>\n",
       "      <td>52.0</td>\n",
       "      <td>8.288136</td>\n",
       "      <td>1.073446</td>\n",
       "      <td>496.0</td>\n",
       "      <td>2.802260</td>\n",
       "      <td>37.85</td>\n",
       "      <td>-122.24</td>\n",
       "    </tr>\n",
       "    <tr>\n",
       "      <th>3</th>\n",
       "      <td>5.6431</td>\n",
       "      <td>52.0</td>\n",
       "      <td>5.817352</td>\n",
       "      <td>1.073059</td>\n",
       "      <td>558.0</td>\n",
       "      <td>2.547945</td>\n",
       "      <td>37.85</td>\n",
       "      <td>-122.25</td>\n",
       "    </tr>\n",
       "    <tr>\n",
       "      <th>4</th>\n",
       "      <td>3.8462</td>\n",
       "      <td>52.0</td>\n",
       "      <td>6.281853</td>\n",
       "      <td>1.081081</td>\n",
       "      <td>565.0</td>\n",
       "      <td>2.181467</td>\n",
       "      <td>37.85</td>\n",
       "      <td>-122.25</td>\n",
       "    </tr>\n",
       "  </tbody>\n",
       "</table>\n",
       "</div>"
      ],
      "text/plain": [
       "        0     1         2         3       4         5      6       7\n",
       "0  8.3252  41.0  6.984127  1.023810   322.0  2.555556  37.88 -122.23\n",
       "1  8.3014  21.0  6.238137  0.971880  2401.0  2.109842  37.86 -122.22\n",
       "2  7.2574  52.0  8.288136  1.073446   496.0  2.802260  37.85 -122.24\n",
       "3  5.6431  52.0  5.817352  1.073059   558.0  2.547945  37.85 -122.25\n",
       "4  3.8462  52.0  6.281853  1.081081   565.0  2.181467  37.85 -122.25"
      ]
     },
     "execution_count": 3,
     "metadata": {},
     "output_type": "execute_result"
    }
   ],
   "source": [
    "Xpd = pd.DataFrame(X)\n",
    "Xpd.head()"
   ]
  },
  {
   "cell_type": "code",
   "execution_count": 4,
   "id": "9ce2434b",
   "metadata": {},
   "outputs": [
    {
     "data": {
      "text/plain": [
       "0    0\n",
       "1    0\n",
       "2    0\n",
       "3    0\n",
       "4    0\n",
       "5    0\n",
       "6    0\n",
       "7    0\n",
       "dtype: int64"
      ]
     },
     "execution_count": 4,
     "metadata": {},
     "output_type": "execute_result"
    }
   ],
   "source": [
    "Xpd.isnull().sum()"
   ]
  },
  {
   "cell_type": "code",
   "execution_count": 5,
   "id": "a2eda205",
   "metadata": {},
   "outputs": [
    {
     "data": {
      "text/plain": [
       "(array([[0.42161487, 0.05882353, 0.04051082, ..., 0.00197112, 0.5727949 ,\n",
       "         0.23705179],\n",
       "        [0.12812927, 0.78431373, 0.03267651, ..., 0.00276747, 0.02763018,\n",
       "         0.71713147],\n",
       "        [0.34559523, 0.29411765, 0.0345278 , ..., 0.00160751, 0.18172157,\n",
       "         0.57171315],\n",
       "        ...,\n",
       "        [0.11019848, 0.23529412, 0.03083752, ..., 0.00124312, 0.70563231,\n",
       "         0.27091633],\n",
       "        [0.14430835, 0.35294118, 0.01982441, ..., 0.00135866, 0.17109458,\n",
       "         0.60856574],\n",
       "        [0.26572047, 0.7254902 , 0.03763263, ..., 0.00140229, 0.02444208,\n",
       "         0.7250996 ]]),\n",
       " array([[0.26652736, 0.80392157, 0.03095506, ..., 0.00209109, 0.15940489,\n",
       "         0.61952191],\n",
       "        [0.16002538, 0.50980392, 0.02340878, ..., 0.00123767, 0.54303932,\n",
       "         0.2250996 ],\n",
       "        [0.28213404, 0.29411765, 0.03282027, ..., 0.00183767, 0.11583422,\n",
       "         0.66135458],\n",
       "        ...,\n",
       "        [0.12692239, 0.43137255, 0.02925979, ..., 0.0014556 , 0.76833156,\n",
       "         0.27390438],\n",
       "        [0.23152784, 1.        , 0.02976537, ..., 0.00118669, 0.55579171,\n",
       "         0.187251  ],\n",
       "        [0.25745162, 0.66666667, 0.03742192, ..., 0.00225946, 0.17640808,\n",
       "         0.5747012 ]]))"
      ]
     },
     "execution_count": 5,
     "metadata": {},
     "output_type": "execute_result"
    }
   ],
   "source": [
    "from sklearn.model_selection import train_test_split\n",
    "xtrain, xtest, ytrain, ytest = train_test_split(X,y,test_size=0.2,random_state=12)\n",
    "\n",
    "from sklearn.preprocessing import MinMaxScaler\n",
    "scaler = MinMaxScaler()\n",
    "scaler.fit(xtrain)\n",
    "xtrainnorm = scaler.transform(xtrain)\n",
    "xtestnorm = scaler.transform(xtest)\n",
    "xtrainnorm, xtestnorm"
   ]
  },
  {
   "cell_type": "code",
   "execution_count": 31,
   "id": "7eed6dd0",
   "metadata": {},
   "outputs": [
    {
     "name": "stdout",
     "output_type": "stream",
     "text": [
      "Epoch 1/10\n",
      "516/516 [==============================] - 1s 790us/step - loss: 0.8928 - mae: 0.8928 - val_loss: 0.8297 - val_mae: 0.8297\n",
      "Epoch 2/10\n",
      "516/516 [==============================] - 0s 652us/step - loss: 0.7205 - mae: 0.7205 - val_loss: 0.6129 - val_mae: 0.6129\n",
      "Epoch 3/10\n",
      "516/516 [==============================] - 0s 657us/step - loss: 0.5585 - mae: 0.5585 - val_loss: 0.5489 - val_mae: 0.5489\n",
      "Epoch 4/10\n",
      "516/516 [==============================] - 0s 653us/step - loss: 0.5414 - mae: 0.5414 - val_loss: 0.5502 - val_mae: 0.5502\n",
      "Epoch 5/10\n",
      "516/516 [==============================] - 0s 730us/step - loss: 0.5361 - mae: 0.5361 - val_loss: 0.5476 - val_mae: 0.5476\n",
      "Epoch 6/10\n",
      "516/516 [==============================] - 0s 758us/step - loss: 0.5340 - mae: 0.5340 - val_loss: 0.5437 - val_mae: 0.5437\n",
      "Epoch 7/10\n",
      "516/516 [==============================] - 0s 689us/step - loss: 0.5318 - mae: 0.5318 - val_loss: 0.5345 - val_mae: 0.5345\n",
      "Epoch 8/10\n",
      "516/516 [==============================] - 0s 672us/step - loss: 0.5311 - mae: 0.5311 - val_loss: 0.5335 - val_mae: 0.5335\n",
      "Epoch 9/10\n",
      "516/516 [==============================] - 0s 708us/step - loss: 0.5306 - mae: 0.5306 - val_loss: 0.5338 - val_mae: 0.5338\n",
      "Epoch 10/10\n",
      "516/516 [==============================] - 0s 736us/step - loss: 0.5292 - mae: 0.5292 - val_loss: 0.5338 - val_mae: 0.5338\n"
     ]
    }
   ],
   "source": [
    "#earlystop = tf.keras.callbacks.EarlyStopping(monitor='loss', patience=5)\n",
    "model = Sequential([\n",
    "    Dense(10),\n",
    "    Dense(10),\n",
    "    #Dropout(0.5),\n",
    "    Dense(1)\n",
    "])\n",
    "model.compile(loss = 'mae', optimizer = 'sgd', metrics = 'mae')\n",
    "history = model.fit(xtrainnorm,ytrain, epochs=10, validation_data = (xtestnorm,ytest)) #, callbacks=[earlystop])"
   ]
  },
  {
   "cell_type": "code",
   "execution_count": 15,
   "id": "f1e173ca",
   "metadata": {},
   "outputs": [
    {
     "data": {
      "text/plain": [
       "<AxesSubplot:>"
      ]
     },
     "execution_count": 15,
     "metadata": {},
     "output_type": "execute_result"
    },
    {
     "data": {
      "image/png": "[encoded data removed]",
      "text/plain": [
       "<Figure size 432x288 with 1 Axes>"
      ]
     },
     "metadata": {
      "needs_background": "light"
     },
     "output_type": "display_data"
    }
   ],
   "source": [
    "pd.DataFrame(history.history).plot()"
   ]
  },
  {
   "cell_type": "code",
   "execution_count": 8,
   "id": "c86dcf2b",
   "metadata": {},
   "outputs": [
    {
     "name": "stdout",
     "output_type": "stream",
     "text": [
      "129/129 [==============================] - 0s 522us/step - loss: 0.5310 - mae: 0.5310\n"
     ]
    }
   ],
   "source": [
    "evahistory = model.evaluate(xtestnorm,ytest)"
   ]
  },
  {
   "cell_type": "code",
   "execution_count": 9,
   "id": "644f416b",
   "metadata": {},
   "outputs": [
    {
     "data": {
      "text/plain": [
       "<AxesSubplot:>"
      ]
     },
     "execution_count": 9,
     "metadata": {},
     "output_type": "execute_result"
    },
    {
     "data": {
      "image/png": "[encoded data removed]",
      "text/plain": [
       "<Figure size 432x288 with 1 Axes>"
      ]
     },
     "metadata": {
      "needs_background": "light"
     },
     "output_type": "display_data"
    }
   ],
   "source": [
    "pd.DataFrame(history.history).plot()"
   ]
  },
  {
   "cell_type": "code",
   "execution_count": 13,
   "id": "9fcb49a1",
   "metadata": {},
   "outputs": [
    {
     "data": {
      "text/plain": [
       "(array([0.26652736, 0.80392157, 0.03095506, 0.02051528, 0.04862935,\n",
       "        0.00209109, 0.15940489, 0.61952191]),\n",
       " 2.114,\n",
       " dtype('float64'))"
      ]
     },
     "execution_count": 13,
     "metadata": {},
     "output_type": "execute_result"
    }
   ],
   "source": [
    "xtestnorm[0], ytest[0], xtestnorm[0].dtype"
   ]
  },
  {
   "cell_type": "code",
   "execution_count": 11,
   "id": "2fc8236c",
   "metadata": {},
   "outputs": [
    {
     "data": {
      "text/plain": [
       "array([[0.26652736, 0.80392157, 0.03095506, 0.02051528, 0.04862935,\n",
       "        0.00209109, 0.15940489, 0.61952191]])"
      ]
     },
     "execution_count": 11,
     "metadata": {},
     "output_type": "execute_result"
    }
   ],
   "source": [
    "import numpy as np\n",
    "xpred = np.array([[0.26652736, 0.80392157, 0.03095506, 0.02051528, 0.04862935,\n",
    "       0.00209109, 0.15940489, 0.61952191]])\n",
    "xpred"
   ]
  },
  {
   "cell_type": "code",
   "execution_count": 30,
   "id": "3fa3a6a2",
   "metadata": {},
   "outputs": [
    {
     "data": {
      "text/plain": [
       "array([0.26652736, 0.80392157, 0.03095506, 0.02051528, 0.04862935,\n",
       "       0.00209109, 0.15940489, 0.61952191])"
      ]
     },
     "execution_count": 30,
     "metadata": {},
     "output_type": "execute_result"
    }
   ],
   "source": [
    "xtestnorm[0]"
   ]
  },
  {
   "cell_type": "code",
   "execution_count": 34,
   "id": "5d5dbbd9",
   "metadata": {},
   "outputs": [
    {
     "data": {
      "text/plain": [
       "(array([[2.3177052],\n",
       "        [1.7936208],\n",
       "        [2.1814313],\n",
       "        [2.5447106],\n",
       "        [1.2109523],\n",
       "        [1.9856943],\n",
       "        [2.3256009],\n",
       "        [1.5995387],\n",
       "        [1.765397 ],\n",
       "        [1.8834536]], dtype=float32),\n",
       " array([2.114, 1.952, 2.418, 1.283, 0.708, 2.024, 3.786, 1.185, 1.165,\n",
       "        1.869]))"
      ]
     },
     "execution_count": 34,
     "metadata": {},
     "output_type": "execute_result"
    }
   ],
   "source": [
    "ypred = model.predict(xtestnorm)\n",
    "ypred[0:10],ytest[0:10]"
   ]
  },
  {
   "cell_type": "code",
   "execution_count": null,
   "id": "4313ff11",
   "metadata": {},
   "outputs": [],
   "source": [
    "xpred1 = np.array([[0.56652736, 0.10392157, 0.08095506, 0.02051528, 0.04862935, 0.00209109, 0.15940489, 0.61952191]])\n",
    "model.predict(xpred1)"
   ]
  },
  {
   "cell_type": "code",
   "execution_count": 38,
   "id": "b09e1535",
   "metadata": {},
   "outputs": [
    {
     "data": {
      "text/plain": [
       "(array([2.114, 1.952, 2.418, ..., 0.873, 3.667, 2.213]),\n",
       " array([[2.3177052],\n",
       "        [1.7936208],\n",
       "        [2.1814313],\n",
       "        ...,\n",
       "        [0.633906 ],\n",
       "        [2.5066032],\n",
       "        [2.2984495]], dtype=float32),\n",
       " <tf.Tensor: shape=(4128,), dtype=float32, numpy=\n",
       " array([2.3177052, 1.7936208, 2.1814313, ..., 0.633906 , 2.5066032,\n",
       "        2.2984495], dtype=float32)>)"
      ]
     },
     "execution_count": 38,
     "metadata": {},
     "output_type": "execute_result"
    }
   ],
   "source": [
    "ytest,ypred, tf.squeeze(ypred)"
   ]
  },
  {
   "cell_type": "code",
   "execution_count": 39,
   "id": "ed9c5357",
   "metadata": {},
   "outputs": [
    {
     "data": {
      "text/plain": [
       "<tf.Tensor: shape=(4128,), dtype=float32, numpy=\n",
       "array([-0.20370507,  0.1583792 ,  0.23656869, ...,  0.23909402,\n",
       "        1.1603968 , -0.08544946], dtype=float32)>"
      ]
     },
     "execution_count": 39,
     "metadata": {},
     "output_type": "execute_result"
    }
   ],
   "source": [
    "ytest - tf.squeeze(ypred)"
   ]
  },
  {
   "cell_type": "code",
   "execution_count": 49,
   "id": "260249a0",
   "metadata": {},
   "outputs": [
    {
     "name": "stdout",
     "output_type": "stream",
     "text": [
      "tf.Tensor(2318.1204, shape=(), dtype=float32)\n"
     ]
    }
   ],
   "source": [
    "yprocess = ytest - tf.squeeze(ypred)\n",
    "sum=0\n",
    "for val in yprocess:\n",
    "  sum = sum + val*val\n",
    "print(sum)"
   ]
  },
  {
   "cell_type": "code",
   "execution_count": 51,
   "id": "3f91dd03",
   "metadata": {},
   "outputs": [
    {
     "name": "stdout",
     "output_type": "stream",
     "text": [
      "tf.Tensor(2203.5588, shape=(), dtype=float32)\n"
     ]
    }
   ],
   "source": [
    "sum=0\n",
    "for val in yprocess:\n",
    "  if val > 0:\n",
    "    sum = sum + val\n",
    "  else:\n",
    "    sum = sum - val\n",
    "print(sum)"
   ]
  }
 ],
 "metadata": {
  "kernelspec": {
   "display_name": "Anaconda (base)",
   "language": "python",
   "name": "anaconda-base"
  },
  "language_info": {
   "codemirror_mode": {
    "name": "ipython",
    "version": 3
   },
   "file_extension": ".py",
   "mimetype": "text/x-python",
   "name": "python",
   "nbconvert_exporter": "python",
   "pygments_lexer": "ipython3",
   "version": "3.9.7"
  }
 },
 "nbformat": 4,
 "nbformat_minor": 5
}
