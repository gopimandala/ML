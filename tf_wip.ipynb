{
 "cells": [
  {
   "cell_type": "code",
   "execution_count": 1,
   "id": "ebef920b",
   "metadata": {},
   "outputs": [
    {
     "data": {
      "text/plain": [
       "(16, 16, 4, 4)"
      ]
     },
     "execution_count": 1,
     "metadata": {},
     "output_type": "execute_result"
    },
    {
     "data": {
      "image/png": "[encoded data removed]",
      "text/plain": [
       "<Figure size 432x288 with 1 Axes>"
      ]
     },
     "metadata": {
      "needs_background": "light"
     },
     "output_type": "display_data"
    }
   ],
   "source": [
    "import import_ipynb\n",
    "import tensorflow as tf\n",
    "import numpy as np\n",
    "# import matplotlib.pyplot as plt\n",
    "X = tf.constant(np.arange(1,21),dtype=float)\n",
    "y = tf.constant(np.arange(2,22),dtype=float)\n",
    "# plt.scatter(X,y)\n",
    "#plt.show()"
   ]
  },
  {
   "cell_type": "code",
   "execution_count": 24,
   "id": "5492ae9a",
   "metadata": {},
   "outputs": [
    {
     "name": "stderr",
     "output_type": "stream",
     "text": [
      "C:\\Users\\Gopinath_Mandala\\Anaconda3\\lib\\site-packages\\keras\\optimizer_v2\\adam.py:105: UserWarning: The `lr` argument is deprecated, use `learning_rate` instead.\n",
      "  super(Adam, self).__init__(name, **kwargs)\n"
     ]
    }
   ],
   "source": [
    "tf.random.set_seed(12)\n",
    "model = tf.keras.Sequential()\n",
    "model.add(tf.keras.Input(shape=1))\n",
    "model.add(tf.keras.layers.Dense(150, activation=\"relu\"))\n",
    "model.add(tf.keras.layers.Dense(100, activation=\"relu\"))\n",
    "# model.add(tf.keras.layers.Dense(100, activation=\"relu\"))\n",
    "# model.add(tf.keras.layers.Dense(100, activation=\"relu\"))\n",
    "model.add(tf.keras.layers.Dense(1))\n",
    "model.compile(loss=\"mae\", optimizer=tf.keras.optimizers.Adam(lr=0.01),metrics=\"mae\")"
   ]
  },
  {
   "cell_type": "code",
   "execution_count": 25,
   "id": "ef196689",
   "metadata": {},
   "outputs": [
    {
     "name": "stdout",
     "output_type": "stream",
     "text": [
      "Epoch 1/150\n",
      "1/1 [==============================] - 0s 256ms/step - loss: 9.4947 - mae: 9.4947\n",
      "Epoch 2/150\n",
      "1/1 [==============================] - 0s 4ms/step - loss: 5.9034 - mae: 5.9034\n",
      "Epoch 3/150\n",
      "1/1 [==============================] - 0s 3ms/step - loss: 2.5376 - mae: 2.5376\n",
      "Epoch 4/150\n",
      "1/1 [==============================] - 0s 3ms/step - loss: 1.3187 - mae: 1.3187\n",
      "Epoch 5/150\n",
      "1/1 [==============================] - 0s 3ms/step - loss: 2.4003 - mae: 2.4003\n",
      "Epoch 6/150\n",
      "1/1 [==============================] - 0s 3ms/step - loss: 1.8033 - mae: 1.8033\n",
      "Epoch 7/150\n",
      "1/1 [==============================] - 0s 4ms/step - loss: 0.4858 - mae: 0.4858\n",
      "Epoch 8/150\n",
      "1/1 [==============================] - 0s 3ms/step - loss: 1.3158 - mae: 1.3158\n",
      "Epoch 9/150\n",
      "1/1 [==============================] - 0s 2ms/step - loss: 1.8547 - mae: 1.8547\n",
      "Epoch 10/150\n",
      "1/1 [==============================] - 0s 2ms/step - loss: 1.7388 - mae: 1.7388\n",
      "Epoch 11/150\n",
      "1/1 [==============================] - 0s 4ms/step - loss: 1.1193 - mae: 1.1193\n",
      "Epoch 12/150\n",
      "1/1 [==============================] - 0s 3ms/step - loss: 0.2947 - mae: 0.2947\n",
      "Epoch 13/150\n",
      "1/1 [==============================] - 0s 2ms/step - loss: 0.8866 - mae: 0.8866\n",
      "Epoch 14/150\n",
      "1/1 [==============================] - 0s 2ms/step - loss: 1.0250 - mae: 1.0250\n",
      "Epoch 15/150\n",
      "1/1 [==============================] - 0s 3ms/step - loss: 0.6750 - mae: 0.6750\n",
      "Epoch 16/150\n",
      "1/1 [==============================] - 0s 3ms/step - loss: 0.2308 - mae: 0.2308\n",
      "Epoch 17/150\n",
      "1/1 [==============================] - 0s 1ms/step - loss: 0.6825 - mae: 0.6825\n",
      "Epoch 18/150\n",
      "1/1 [==============================] - 0s 3ms/step - loss: 0.6537 - mae: 0.6537\n",
      "Epoch 19/150\n",
      "1/1 [==============================] - 0s 3ms/step - loss: 0.2047 - mae: 0.2047\n",
      "Epoch 20/150\n",
      "1/1 [==============================] - 0s 2ms/step - loss: 0.5550 - mae: 0.5550\n",
      "Epoch 21/150\n",
      "1/1 [==============================] - 0s 2ms/step - loss: 0.7105 - mae: 0.7105\n",
      "Epoch 22/150\n",
      "1/1 [==============================] - 0s 2ms/step - loss: 0.4494 - mae: 0.4494\n",
      "Epoch 23/150\n",
      "1/1 [==============================] - 0s 3ms/step - loss: 0.2258 - mae: 0.2258\n",
      "Epoch 24/150\n",
      "1/1 [==============================] - 0s 2ms/step - loss: 0.3435 - mae: 0.3435\n",
      "Epoch 25/150\n",
      "1/1 [==============================] - 0s 3ms/step - loss: 0.1183 - mae: 0.1183\n",
      "Epoch 26/150\n",
      "1/1 [==============================] - 0s 2ms/step - loss: 0.2166 - mae: 0.2166\n",
      "Epoch 27/150\n",
      "1/1 [==============================] - 0s 2ms/step - loss: 0.1151 - mae: 0.1151\n",
      "Epoch 28/150\n",
      "1/1 [==============================] - 0s 3ms/step - loss: 0.3140 - mae: 0.3140\n",
      "Epoch 29/150\n",
      "1/1 [==============================] - 0s 3ms/step - loss: 0.2223 - mae: 0.2223\n",
      "Epoch 30/150\n",
      "1/1 [==============================] - 0s 2ms/step - loss: 0.2607 - mae: 0.2607\n",
      "Epoch 31/150\n",
      "1/1 [==============================] - 0s 2ms/step - loss: 0.3029 - mae: 0.3029\n",
      "Epoch 32/150\n",
      "1/1 [==============================] - 0s 3ms/step - loss: 0.0471 - mae: 0.0471\n",
      "Epoch 33/150\n",
      "1/1 [==============================] - 0s 3ms/step - loss: 0.0334 - mae: 0.0334\n",
      "Epoch 34/150\n",
      "1/1 [==============================] - 0s 2ms/step - loss: 0.2162 - mae: 0.2162\n",
      "Epoch 35/150\n",
      "1/1 [==============================] - 0s 2ms/step - loss: 0.0651 - mae: 0.0651\n",
      "Epoch 36/150\n",
      "1/1 [==============================] - 0s 2ms/step - loss: 0.4334 - mae: 0.4334\n",
      "Epoch 37/150\n",
      "1/1 [==============================] - 0s 4ms/step - loss: 0.4869 - mae: 0.4869\n",
      "Epoch 38/150\n",
      "1/1 [==============================] - 0s 3ms/step - loss: 0.1426 - mae: 0.1426\n",
      "Epoch 39/150\n",
      "1/1 [==============================] - 0s 3ms/step - loss: 0.5211 - mae: 0.5211\n",
      "Epoch 40/150\n",
      "1/1 [==============================] - 0s 2ms/step - loss: 0.7588 - mae: 0.7588\n",
      "Epoch 41/150\n",
      "1/1 [==============================] - 0s 2ms/step - loss: 0.6423 - mae: 0.6423\n",
      "Epoch 42/150\n",
      "1/1 [==============================] - 0s 3ms/step - loss: 0.2130 - mae: 0.2130\n",
      "Epoch 43/150\n",
      "1/1 [==============================] - 0s 2ms/step - loss: 0.5503 - mae: 0.5503\n",
      "Epoch 44/150\n",
      "1/1 [==============================] - 0s 2ms/step - loss: 0.8551 - mae: 0.8551\n",
      "Epoch 45/150\n",
      "1/1 [==============================] - 0s 3ms/step - loss: 0.7327 - mae: 0.7327\n",
      "Epoch 46/150\n",
      "1/1 [==============================] - 0s 2ms/step - loss: 0.2428 - mae: 0.2428\n",
      "Epoch 47/150\n",
      "1/1 [==============================] - 0s 2ms/step - loss: 0.5334 - mae: 0.5334\n",
      "Epoch 48/150\n",
      "1/1 [==============================] - 0s 2ms/step - loss: 0.8842 - mae: 0.8842\n",
      "Epoch 49/150\n",
      "1/1 [==============================] - 0s 2ms/step - loss: 0.8902 - mae: 0.8902\n",
      "Epoch 50/150\n",
      "1/1 [==============================] - 0s 3ms/step - loss: 0.5887 - mae: 0.5887\n",
      "Epoch 51/150\n",
      "1/1 [==============================] - 0s 3ms/step - loss: 0.0681 - mae: 0.0681\n",
      "Epoch 52/150\n",
      "1/1 [==============================] - 0s 2ms/step - loss: 0.6795 - mae: 0.6795\n",
      "Epoch 53/150\n",
      "1/1 [==============================] - 0s 3ms/step - loss: 0.9145 - mae: 0.9145\n",
      "Epoch 54/150\n",
      "1/1 [==============================] - 0s 3ms/step - loss: 0.7398 - mae: 0.7398\n",
      "Epoch 55/150\n",
      "1/1 [==============================] - 0s 2ms/step - loss: 0.2166 - mae: 0.2166\n",
      "Epoch 56/150\n",
      "1/1 [==============================] - 0s 2ms/step - loss: 0.5718 - mae: 0.5718\n",
      "Epoch 57/150\n",
      "1/1 [==============================] - 0s 3ms/step - loss: 0.9419 - mae: 0.9419\n",
      "Epoch 58/150\n",
      "1/1 [==============================] - 0s 2ms/step - loss: 0.9746 - mae: 0.9746\n",
      "Epoch 59/150\n",
      "1/1 [==============================] - 0s 2ms/step - loss: 0.7093 - mae: 0.7093\n",
      "Epoch 60/150\n",
      "1/1 [==============================] - 0s 2ms/step - loss: 0.1704 - mae: 0.1704\n",
      "Epoch 61/150\n",
      "1/1 [==============================] - 0s 3ms/step - loss: 0.6642 - mae: 0.6642\n",
      "Epoch 62/150\n",
      "1/1 [==============================] - 0s 2ms/step - loss: 1.0596 - mae: 1.0596\n",
      "Epoch 63/150\n",
      "1/1 [==============================] - 0s 3ms/step - loss: 1.0376 - mae: 1.0376\n",
      "Epoch 64/150\n",
      "1/1 [==============================] - 0s 2ms/step - loss: 0.6452 - mae: 0.6452\n",
      "Epoch 65/150\n",
      "1/1 [==============================] - 0s 3ms/step - loss: 0.0688 - mae: 0.0688\n",
      "Epoch 66/150\n",
      "1/1 [==============================] - 0s 2ms/step - loss: 0.4025 - mae: 0.4025\n",
      "Epoch 67/150\n",
      "1/1 [==============================] - 0s 4ms/step - loss: 0.4125 - mae: 0.4125\n",
      "Epoch 68/150\n",
      "1/1 [==============================] - 0s 2ms/step - loss: 0.1186 - mae: 0.1186\n",
      "Epoch 69/150\n",
      "1/1 [==============================] - 0s 2ms/step - loss: 0.4729 - mae: 0.4729\n",
      "Epoch 70/150\n",
      "1/1 [==============================] - 0s 2ms/step - loss: 0.6635 - mae: 0.6635\n",
      "Epoch 71/150\n",
      "1/1 [==============================] - 0s 2ms/step - loss: 0.4841 - mae: 0.4841\n",
      "Epoch 72/150\n",
      "1/1 [==============================] - 0s 2ms/step - loss: 0.0235 - mae: 0.0235\n",
      "Epoch 73/150\n",
      "1/1 [==============================] - 0s 2ms/step - loss: 0.2384 - mae: 0.2384\n",
      "Epoch 74/150\n",
      "1/1 [==============================] - 0s 2ms/step - loss: 0.1308 - mae: 0.1308\n",
      "Epoch 75/150\n",
      "1/1 [==============================] - 0s 2ms/step - loss: 0.2866 - mae: 0.2866\n",
      "Epoch 76/150\n",
      "1/1 [==============================] - 0s 3ms/step - loss: 0.3346 - mae: 0.3346\n",
      "Epoch 77/150\n",
      "1/1 [==============================] - 0s 2ms/step - loss: 0.0473 - mae: 0.0473\n",
      "Epoch 78/150\n",
      "1/1 [==============================] - 0s 2ms/step - loss: 0.5163 - mae: 0.5163\n",
      "Epoch 79/150\n",
      "1/1 [==============================] - 0s 2ms/step - loss: 0.7166 - mae: 0.7166\n",
      "Epoch 80/150\n",
      "1/1 [==============================] - 0s 3ms/step - loss: 0.6095 - mae: 0.6095\n",
      "Epoch 81/150\n",
      "1/1 [==============================] - 0s 3ms/step - loss: 0.2179 - mae: 0.2179\n",
      "Epoch 82/150\n",
      "1/1 [==============================] - 0s 2ms/step - loss: 0.4604 - mae: 0.4604\n",
      "Epoch 83/150\n",
      "1/1 [==============================] - 0s 2ms/step - loss: 0.7515 - mae: 0.7515\n",
      "Epoch 84/150\n",
      "1/1 [==============================] - 0s 2ms/step - loss: 0.6682 - mae: 0.6682\n",
      "Epoch 85/150\n",
      "1/1 [==============================] - 0s 3ms/step - loss: 0.2570 - mae: 0.2570\n",
      "Epoch 86/150\n",
      "1/1 [==============================] - 0s 3ms/step - loss: 0.4140 - mae: 0.4140\n",
      "Epoch 87/150\n",
      "1/1 [==============================] - 0s 2ms/step - loss: 0.7061 - mae: 0.7061\n",
      "Epoch 88/150\n",
      "1/1 [==============================] - 0s 2ms/step - loss: 0.6853 - mae: 0.6853\n",
      "Epoch 89/150\n",
      "1/1 [==============================] - 0s 3ms/step - loss: 0.3827 - mae: 0.3827\n",
      "Epoch 90/150\n",
      "1/1 [==============================] - 0s 3ms/step - loss: 0.1977 - mae: 0.1977\n",
      "Epoch 91/150\n",
      "1/1 [==============================] - 0s 2ms/step - loss: 0.4206 - mae: 0.4206\n",
      "Epoch 92/150\n",
      "1/1 [==============================] - 0s 2ms/step - loss: 0.2969 - mae: 0.2969\n",
      "Epoch 93/150\n",
      "1/1 [==============================] - 0s 2ms/step - loss: 0.1274 - mae: 0.1274\n",
      "Epoch 94/150\n",
      "1/1 [==============================] - 0s 3ms/step - loss: 0.2016 - mae: 0.2016\n",
      "Epoch 95/150\n",
      "1/1 [==============================] - 0s 3ms/step - loss: 0.0443 - mae: 0.0443\n",
      "Epoch 96/150\n",
      "1/1 [==============================] - 0s 2ms/step - loss: 0.0299 - mae: 0.0299\n",
      "Epoch 97/150\n",
      "1/1 [==============================] - 0s 2ms/step - loss: 0.2005 - mae: 0.2005\n",
      "Epoch 98/150\n",
      "1/1 [==============================] - 0s 2ms/step - loss: 0.0937 - mae: 0.0937\n",
      "Epoch 99/150\n",
      "1/1 [==============================] - 0s 3ms/step - loss: 0.3101 - mae: 0.3101\n",
      "Epoch 100/150\n",
      "1/1 [==============================] - 0s 2ms/step - loss: 0.3594 - mae: 0.3594\n",
      "Epoch 101/150\n",
      "1/1 [==============================] - 0s 2ms/step - loss: 0.0861 - mae: 0.0861\n",
      "Epoch 102/150\n",
      "1/1 [==============================] - 0s 2ms/step - loss: 0.4543 - mae: 0.4543\n",
      "Epoch 103/150\n",
      "1/1 [==============================] - 0s 3ms/step - loss: 0.6449 - mae: 0.6449\n",
      "Epoch 104/150\n",
      "1/1 [==============================] - 0s 3ms/step - loss: 0.5386 - mae: 0.5386\n",
      "Epoch 105/150\n",
      "1/1 [==============================] - 0s 2ms/step - loss: 0.1571 - mae: 0.1571\n",
      "Epoch 106/150\n",
      "1/1 [==============================] - 0s 2ms/step - loss: 0.5012 - mae: 0.5012\n",
      "Epoch 107/150\n",
      "1/1 [==============================] - 0s 2ms/step - loss: 0.7854 - mae: 0.7854\n",
      "Epoch 108/150\n",
      "1/1 [==============================] - 0s 2ms/step - loss: 0.7078 - mae: 0.7078\n",
      "Epoch 109/150\n",
      "1/1 [==============================] - 0s 2ms/step - loss: 0.3125 - mae: 0.3125\n",
      "Epoch 110/150\n",
      "1/1 [==============================] - 0s 3ms/step - loss: 0.3360 - mae: 0.3360\n",
      "Epoch 111/150\n",
      "1/1 [==============================] - 0s 2ms/step - loss: 0.6169 - mae: 0.6169\n",
      "Epoch 112/150\n",
      "1/1 [==============================] - 0s 2ms/step - loss: 0.5381 - mae: 0.5381\n",
      "Epoch 113/150\n",
      "1/1 [==============================] - 0s 3ms/step - loss: 0.1524 - mae: 0.1524\n",
      "Epoch 114/150\n",
      "1/1 [==============================] - 0s 2ms/step - loss: 0.5360 - mae: 0.5360\n",
      "Epoch 115/150\n",
      "1/1 [==============================] - 0s 2ms/step - loss: 0.7749 - mae: 0.7749\n",
      "Epoch 116/150\n",
      "1/1 [==============================] - 0s 3ms/step - loss: 0.6150 - mae: 0.6150\n",
      "Epoch 117/150\n",
      "1/1 [==============================] - 0s 2ms/step - loss: 0.1303 - mae: 0.1303\n",
      "Epoch 118/150\n",
      "1/1 [==============================] - 0s 3ms/step - loss: 0.5939 - mae: 0.5939\n",
      "Epoch 119/150\n",
      "1/1 [==============================] - 0s 2ms/step - loss: 0.9301 - mae: 0.9301\n",
      "Epoch 120/150\n",
      "1/1 [==============================] - 0s 2ms/step - loss: 0.9577 - mae: 0.9577\n",
      "Epoch 121/150\n",
      "1/1 [==============================] - 0s 2ms/step - loss: 0.7146 - mae: 0.7146\n",
      "Epoch 122/150\n",
      "1/1 [==============================] - 0s 3ms/step - loss: 0.2106 - mae: 0.2106\n",
      "Epoch 123/150\n",
      "1/1 [==============================] - 0s 2ms/step - loss: 0.5670 - mae: 0.5670\n",
      "Epoch 124/150\n",
      "1/1 [==============================] - 0s 2ms/step - loss: 0.9593 - mae: 0.9593\n",
      "Epoch 125/150\n",
      "1/1 [==============================] - 0s 2ms/step - loss: 0.9700 - mae: 0.9700\n",
      "Epoch 126/150\n",
      "1/1 [==============================] - 0s 2ms/step - loss: 0.6402 - mae: 0.6402\n",
      "Epoch 127/150\n",
      "1/1 [==============================] - 0s 4ms/step - loss: 0.0352 - mae: 0.0352\n",
      "Epoch 128/150\n",
      "1/1 [==============================] - 0s 2ms/step - loss: 0.7677 - mae: 0.7677\n",
      "Epoch 129/150\n",
      "1/1 [==============================] - 0s 2ms/step - loss: 1.1949 - mae: 1.1949\n",
      "Epoch 130/150\n",
      "1/1 [==============================] - 0s 2ms/step - loss: 1.3262 - mae: 1.3262\n",
      "Epoch 131/150\n",
      "1/1 [==============================] - 0s 3ms/step - loss: 1.2045 - mae: 1.2045\n",
      "Epoch 132/150\n",
      "1/1 [==============================] - 0s 2ms/step - loss: 0.8474 - mae: 0.8474\n",
      "Epoch 133/150\n",
      "1/1 [==============================] - 0s 3ms/step - loss: 0.2531 - mae: 0.2531\n",
      "Epoch 134/150\n",
      "1/1 [==============================] - 0s 2ms/step - loss: 0.5969 - mae: 0.5969\n",
      "Epoch 135/150\n",
      "1/1 [==============================] - 0s 3ms/step - loss: 1.0765 - mae: 1.0765\n",
      "Epoch 136/150\n",
      "1/1 [==============================] - 0s 3ms/step - loss: 1.1805 - mae: 1.1805\n",
      "Epoch 137/150\n",
      "1/1 [==============================] - 0s 2ms/step - loss: 0.9394 - mae: 0.9394\n",
      "Epoch 138/150\n",
      "1/1 [==============================] - 0s 2ms/step - loss: 0.4098 - mae: 0.4098\n",
      "Epoch 139/150\n",
      "1/1 [==============================] - 0s 2ms/step - loss: 0.3376 - mae: 0.3376\n",
      "Epoch 140/150\n",
      "1/1 [==============================] - 0s 2ms/step - loss: 0.7149 - mae: 0.7149\n",
      "Epoch 141/150\n",
      "1/1 [==============================] - 0s 2ms/step - loss: 0.7944 - mae: 0.7944\n",
      "Epoch 142/150\n",
      "1/1 [==============================] - 0s 2ms/step - loss: 0.6141 - mae: 0.6141\n",
      "Epoch 143/150\n",
      "1/1 [==============================] - 0s 2ms/step - loss: 0.1895 - mae: 0.1895\n",
      "Epoch 144/150\n",
      "1/1 [==============================] - 0s 2ms/step - loss: 0.4838 - mae: 0.4838\n",
      "Epoch 145/150\n",
      "1/1 [==============================] - 0s 3ms/step - loss: 0.8050 - mae: 0.8050\n",
      "Epoch 146/150\n",
      "1/1 [==============================] - 0s 3ms/step - loss: 0.7844 - mae: 0.7844\n",
      "Epoch 147/150\n",
      "1/1 [==============================] - 0s 2ms/step - loss: 0.4592 - mae: 0.4592\n",
      "Epoch 148/150\n",
      "1/1 [==============================] - 0s 3ms/step - loss: 0.1188 - mae: 0.1188\n",
      "Epoch 149/150\n",
      "1/1 [==============================] - 0s 2ms/step - loss: 0.3610 - mae: 0.3610\n",
      "Epoch 150/150\n",
      "1/1 [==============================] - 0s 3ms/step - loss: 0.3184 - mae: 0.3184\n",
      "Model: \"sequential_1\"\n",
      "_________________________________________________________________\n",
      " Layer (type)                Output Shape              Param #   \n",
      "=================================================================\n",
      " dense_3 (Dense)             (None, 150)               300       \n",
      "                                                                 \n",
      " dense_4 (Dense)             (None, 100)               15100     \n",
      "                                                                 \n",
      " dense_5 (Dense)             (None, 1)                 101       \n",
      "                                                                 \n",
      "=================================================================\n",
      "Total params: 15,501\n",
      "Trainable params: 15,501\n",
      "Non-trainable params: 0\n",
      "_________________________________________________________________\n",
      "None\n",
      "[[12.96133]]\n"
     ]
    }
   ],
   "source": [
    "model.fit(tf.expand_dims(X_train, axis=-1),y_train,epochs=150,verbose=1)\n",
    "model.summary()\n",
    "model.predict([12.0])"
   ]
  },
  {
   "cell_type": "code",
   "execution_count": 4,
   "id": "bfd11f26",
   "metadata": {},
   "outputs": [],
   "source": [
    "# from tensorflow.keras.utils import plot_model\n",
    "# plot_model(model=model)"
   ]
  },
  {
   "cell_type": "code",
   "execution_count": 26,
   "id": "aa3f4312",
   "metadata": {},
   "outputs": [
    {
     "data": {
      "text/plain": [
       "array([[17.925453],\n",
       "       [18.918304],\n",
       "       [19.911175],\n",
       "       [20.904049]], dtype=float32)"
      ]
     },
     "execution_count": 26,
     "metadata": {},
     "output_type": "execute_result"
    }
   ],
   "source": [
    "y_pred = model.predict(X_test)\n",
    "y_pred"
   ]
  },
  {
   "cell_type": "code",
   "execution_count": 27,
   "id": "80144a36",
   "metadata": {},
   "outputs": [
    {
     "data": {
      "text/plain": [
       "<matplotlib.legend.Legend at 0x2a64cdd9820>"
      ]
     },
     "execution_count": 27,
     "metadata": {},
     "output_type": "execute_result"
    },
    {
     "data": {
      "image/png": "[encoded data removed]",
      "text/plain": [
       "<Figure size 720x504 with 1 Axes>"
      ]
     },
     "metadata": {
      "needs_background": "light"
     },
     "output_type": "display_data"
    }
   ],
   "source": [
    "plt.figure(figsize=(10,7))\n",
    "plt.scatter(X_train,y_train,c='b',label=\"training data\")\n",
    "plt.scatter(X_test,y_test,c='r',label=\"test data\")\n",
    "plt.scatter(X_test,y_pred,c='y',label=\"pred data\")\n",
    "plt.legend()"
   ]
  },
  {
   "cell_type": "code",
   "execution_count": 29,
   "id": "31dd19c3",
   "metadata": {},
   "outputs": [
    {
     "name": "stdout",
     "output_type": "stream",
     "text": [
      "1/1 [==============================] - 0s 14ms/step - loss: 0.0853 - mae: 0.0853\n"
     ]
    },
    {
     "data": {
      "text/plain": [
       "[0.08525514602661133, 0.08525514602661133]"
      ]
     },
     "execution_count": 29,
     "metadata": {},
     "output_type": "execute_result"
    }
   ],
   "source": [
    "model.evaluate(X_test,y_test)"
   ]
  },
  {
   "cell_type": "code",
   "execution_count": 8,
   "id": "aea8a24f",
   "metadata": {},
   "outputs": [
    {
     "data": {
      "text/plain": [
       "<tf.Tensor: shape=(), dtype=float32, numpy=0.08525467>"
      ]
     },
     "execution_count": 8,
     "metadata": {},
     "output_type": "execute_result"
    }
   ],
   "source": [
    "tf.keras.losses.mean_absolute_error(y_test,tf.squeeze(y_pred))"
   ]
  },
  {
   "cell_type": "code",
   "execution_count": 9,
   "id": "2e25e3e5",
   "metadata": {},
   "outputs": [
    {
     "data": {
      "text/plain": [
       "(<tf.Tensor: shape=(4,), dtype=float32, numpy=array([18., 19., 20., 21.], dtype=float32)>,\n",
       " <tf.Tensor: shape=(4,), dtype=float32, numpy=array([17.925453, 18.918304, 19.911175, 20.904049], dtype=float32)>)"
      ]
     },
     "execution_count": 9,
     "metadata": {},
     "output_type": "execute_result"
    }
   ],
   "source": [
    "y_test,tf.squeeze(tf.constant(y_pred))"
   ]
  },
  {
   "cell_type": "code",
   "execution_count": 11,
   "id": "a0e1b5a3",
   "metadata": {},
   "outputs": [
    {
     "data": {
      "text/plain": [
       "<tf.Tensor: shape=(), dtype=float32, numpy=0.0036659904>"
      ]
     },
     "execution_count": 11,
     "metadata": {},
     "output_type": "execute_result"
    }
   ],
   "source": [
    "h = tf.keras.losses.Huber()\n",
    "h(y_test,tf.squeeze(tf.constant(y_pred)))"
   ]
  },
  {
   "cell_type": "code",
   "execution_count": 12,
   "id": "8d5063f3",
   "metadata": {},
   "outputs": [
    {
     "data": {
      "text/plain": [
       "<tf.Tensor: shape=(), dtype=float32, numpy=0.007331981>"
      ]
     },
     "execution_count": 12,
     "metadata": {},
     "output_type": "execute_result"
    }
   ],
   "source": [
    "tf.keras.losses.mse(y_test,tf.squeeze(y_pred))"
   ]
  },
  {
   "cell_type": "code",
   "execution_count": 14,
   "id": "009e9f1c",
   "metadata": {},
   "outputs": [],
   "source": [
    "model.save(\"mytesth5model.h5\")"
   ]
  },
  {
   "cell_type": "code",
   "execution_count": 21,
   "id": "09371dee",
   "metadata": {},
   "outputs": [
    {
     "name": "stdout",
     "output_type": "stream",
     "text": [
      "Model: \"sequential\"\n",
      "_________________________________________________________________\n",
      " Layer (type)                Output Shape              Param #   \n",
      "=================================================================\n",
      " dense (Dense)               (None, 150)               300       \n",
      "                                                                 \n",
      " dense_1 (Dense)             (None, 100)               15100     \n",
      "                                                                 \n",
      " dense_2 (Dense)             (None, 1)                 101       \n",
      "                                                                 \n",
      "=================================================================\n",
      "Total params: 15,501\n",
      "Trainable params: 15,501\n",
      "Non-trainable params: 0\n",
      "_________________________________________________________________\n"
     ]
    }
   ],
   "source": [
    "mymodel = tf.keras.models.load_model(\"mytesth5model.h5\")\n",
    "mymodel.summary()"
   ]
  },
  {
   "cell_type": "code",
   "execution_count": 22,
   "id": "cfb530fd",
   "metadata": {},
   "outputs": [
    {
     "data": {
      "text/plain": [
       "array([[5.5159993]], dtype=float32)"
      ]
     },
     "execution_count": 22,
     "metadata": {},
     "output_type": "execute_result"
    }
   ],
   "source": [
    "mymodel.predict(tf.constant(np.array([4.5])))"
   ]
  }
 ],
 "metadata": {
  "kernelspec": {
   "display_name": "Anaconda (base)",
   "language": "python",
   "name": "anaconda-base"
  },
  "language_info": {
   "codemirror_mode": {
    "name": "ipython",
    "version": 3
   },
   "file_extension": ".py",
   "mimetype": "text/x-python",
   "name": "python",
   "nbconvert_exporter": "python",
   "pygments_lexer": "ipython3",
   "version": "3.9.7"
  }
 },
 "nbformat": 4,
 "nbformat_minor": 5
}
