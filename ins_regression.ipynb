{
 "cells": [
  {
   "cell_type": "code",
   "execution_count": 17,
   "id": "0e9a6ffe",
   "metadata": {},
   "outputs": [
    {
     "data": {
      "text/html": [
       "<div>\n",
       "<style scoped>\n",
       "    .dataframe tbody tr th:only-of-type {\n",
       "        vertical-align: middle;\n",
       "    }\n",
       "\n",
       "    .dataframe tbody tr th {\n",
       "        vertical-align: top;\n",
       "    }\n",
       "\n",
       "    .dataframe thead th {\n",
       "        text-align: right;\n",
       "    }\n",
       "</style>\n",
       "<table border=\"1\" class=\"dataframe\">\n",
       "  <thead>\n",
       "    <tr style=\"text-align: right;\">\n",
       "      <th></th>\n",
       "      <th>age</th>\n",
       "      <th>sex</th>\n",
       "      <th>bmi</th>\n",
       "      <th>children</th>\n",
       "      <th>smoker</th>\n",
       "      <th>region</th>\n",
       "      <th>charges</th>\n",
       "    </tr>\n",
       "  </thead>\n",
       "  <tbody>\n",
       "    <tr>\n",
       "      <th>0</th>\n",
       "      <td>19</td>\n",
       "      <td>female</td>\n",
       "      <td>27.900</td>\n",
       "      <td>0</td>\n",
       "      <td>yes</td>\n",
       "      <td>southwest</td>\n",
       "      <td>16884.92400</td>\n",
       "    </tr>\n",
       "    <tr>\n",
       "      <th>1</th>\n",
       "      <td>18</td>\n",
       "      <td>male</td>\n",
       "      <td>33.770</td>\n",
       "      <td>1</td>\n",
       "      <td>no</td>\n",
       "      <td>southeast</td>\n",
       "      <td>1725.55230</td>\n",
       "    </tr>\n",
       "    <tr>\n",
       "      <th>2</th>\n",
       "      <td>28</td>\n",
       "      <td>male</td>\n",
       "      <td>33.000</td>\n",
       "      <td>3</td>\n",
       "      <td>no</td>\n",
       "      <td>southeast</td>\n",
       "      <td>4449.46200</td>\n",
       "    </tr>\n",
       "    <tr>\n",
       "      <th>3</th>\n",
       "      <td>33</td>\n",
       "      <td>male</td>\n",
       "      <td>22.705</td>\n",
       "      <td>0</td>\n",
       "      <td>no</td>\n",
       "      <td>northwest</td>\n",
       "      <td>21984.47061</td>\n",
       "    </tr>\n",
       "    <tr>\n",
       "      <th>4</th>\n",
       "      <td>32</td>\n",
       "      <td>male</td>\n",
       "      <td>28.880</td>\n",
       "      <td>0</td>\n",
       "      <td>no</td>\n",
       "      <td>northwest</td>\n",
       "      <td>3866.85520</td>\n",
       "    </tr>\n",
       "  </tbody>\n",
       "</table>\n",
       "</div>"
      ],
      "text/plain": [
       "   age     sex     bmi  children smoker     region      charges\n",
       "0   19  female  27.900         0    yes  southwest  16884.92400\n",
       "1   18    male  33.770         1     no  southeast   1725.55230\n",
       "2   28    male  33.000         3     no  southeast   4449.46200\n",
       "3   33    male  22.705         0     no  northwest  21984.47061\n",
       "4   32    male  28.880         0     no  northwest   3866.85520"
      ]
     },
     "execution_count": 17,
     "metadata": {},
     "output_type": "execute_result"
    }
   ],
   "source": [
    "import tensorflow as tf\n",
    "from tensorflow.keras import Sequential\n",
    "from tensorflow.keras.layers import Dense\n",
    "from tensorflow.keras.callbacks import ReduceLROnPlateau\n",
    "import pandas as pd\n",
    "import matplotlib.pyplot as plt\n",
    "# Read in the insurance dataset\n",
    "insurance = pd.read_csv(\"https://raw.githubusercontent.com/stedy/Machine-Learning-with-R-datasets/master/insurance.csv\")\n",
    "insurance.head()"
   ]
  },
  {
   "cell_type": "code",
   "execution_count": 2,
   "id": "24470339",
   "metadata": {},
   "outputs": [
    {
     "name": "stdout",
     "output_type": "stream",
     "text": [
      "   age     bmi  children      charges  sex_female  sex_male  smoker_no  \\\n",
      "0   19  27.900         0  16884.92400           1         0          0   \n",
      "1   18  33.770         1   1725.55230           0         1          1   \n",
      "2   28  33.000         3   4449.46200           0         1          1   \n",
      "3   33  22.705         0  21984.47061           0         1          1   \n",
      "4   32  28.880         0   3866.85520           0         1          1   \n",
      "\n",
      "   smoker_yes  region_northeast  region_northwest  region_southeast  \\\n",
      "0           1                 0                 0                 0   \n",
      "1           0                 0                 0                 1   \n",
      "2           0                 0                 0                 1   \n",
      "3           0                 0                 1                 0   \n",
      "4           0                 0                 1                 0   \n",
      "\n",
      "   region_southwest  \n",
      "0                 1  \n",
      "1                 0  \n",
      "2                 0  \n",
      "3                 0  \n",
      "4                 0  \n",
      "   age     bmi  children  sex_female  sex_male  smoker_no  smoker_yes  \\\n",
      "0   19  27.900         0           1         0          0           1   \n",
      "1   18  33.770         1           0         1          1           0   \n",
      "2   28  33.000         3           0         1          1           0   \n",
      "3   33  22.705         0           0         1          1           0   \n",
      "4   32  28.880         0           0         1          1           0   \n",
      "\n",
      "   region_northeast  region_northwest  region_southeast  region_southwest  \n",
      "0                 0                 0                 0                 1  \n",
      "1                 0                 0                 1                 0  \n",
      "2                 0                 0                 1                 0  \n",
      "3                 0                 1                 0                 0  \n",
      "4                 0                 1                 0                 0          charges\n",
      "0  16884.92400\n",
      "1   1725.55230\n",
      "2   4449.46200\n",
      "3  21984.47061\n",
      "4   3866.85520\n"
     ]
    }
   ],
   "source": [
    "# convert categories to one-hot\n",
    "insurance_onehot = pd.get_dummies(insurance)\n",
    "print(insurance_onehot.head())\n",
    "\n",
    "X = insurance_onehot.drop('charges',axis=1)\n",
    "y = insurance_onehot[['charges']]\n",
    "print(X.head(), y.head())"
   ]
  },
  {
   "cell_type": "code",
   "execution_count": 3,
   "id": "ea4fbd8b",
   "metadata": {},
   "outputs": [],
   "source": [
    "# split training and test sets\n",
    "from sklearn.model_selection import train_test_split\n",
    "xtrain, xtest, ytrain, ytest = train_test_split(X,y,test_size=0.2,random_state=12)\n",
    "\n",
    "# normalize numerical value\n",
    "from sklearn.preprocessing import MinMaxScaler\n",
    "scaler = MinMaxScaler()\n",
    "scaler.fit(xtrain)\n",
    "xtrainnorm = scaler.transform(xtrain) # output is numpy array\n",
    "xtestnorm = scaler.transform(xtest)\n",
    "\n",
    "# Another option to normalize and onehotencode\n",
    "\n",
    "# from sklearn.compose import make_column_transformer\n",
    "# from sklearn.preprocessing import MinMaxScaler, OneHotEncoder\n",
    "\n",
    "# # Create column transformer (this will help us normalize/preprocess our data)\n",
    "# ct = make_column_transformer(\n",
    "#     (MinMaxScaler(), [\"age\", \"bmi\", \"children\"]), # get all values between 0 and 1\n",
    "#     (OneHotEncoder(handle_unknown=\"ignore\"), [\"sex\", \"smoker\", \"region\"])\n",
    "# )\n"
   ]
  },
  {
   "cell_type": "code",
   "execution_count": 73,
   "id": "de1fa8a3",
   "metadata": {},
   "outputs": [
    {
     "name": "stdout",
     "output_type": "stream",
     "text": [
      "Epoch 1/100\n",
      "34/34 [==============================] - 1s 7ms/step - loss: 13131.9199 - mae: 13131.9199 - val_loss: 12283.5361 - val_mae: 12283.5361 - lr: 0.0010\n",
      "Epoch 2/100\n",
      "34/34 [==============================] - 0s 4ms/step - loss: 10252.5635 - mae: 10252.5635 - val_loss: 7867.9937 - val_mae: 7867.9937 - lr: 0.0010\n",
      "Epoch 3/100\n",
      "34/34 [==============================] - 0s 4ms/step - loss: 8128.4561 - mae: 8128.4561 - val_loss: 7205.6851 - val_mae: 7205.6851 - lr: 0.0010\n",
      "Epoch 4/100\n",
      "34/34 [==============================] - 0s 4ms/step - loss: 7293.5244 - mae: 7293.5244 - val_loss: 6414.9731 - val_mae: 6414.9731 - lr: 0.0010\n",
      "Epoch 5/100\n",
      "34/34 [==============================] - 0s 4ms/step - loss: 6063.6562 - mae: 6063.6562 - val_loss: 5011.1299 - val_mae: 5011.1299 - lr: 0.0010\n",
      "Epoch 6/100\n",
      "34/34 [==============================] - 0s 4ms/step - loss: 4665.9014 - mae: 4665.9014 - val_loss: 4291.5850 - val_mae: 4291.5850 - lr: 0.0010\n",
      "Epoch 7/100\n",
      "34/34 [==============================] - 0s 4ms/step - loss: 4025.6267 - mae: 4025.6267 - val_loss: 4013.3218 - val_mae: 4013.3218 - lr: 0.0010\n",
      "Epoch 8/100\n",
      "34/34 [==============================] - 0s 4ms/step - loss: 3732.1980 - mae: 3732.1980 - val_loss: 3894.5190 - val_mae: 3894.5190 - lr: 0.0010\n",
      "Epoch 9/100\n",
      "34/34 [==============================] - 0s 4ms/step - loss: 3656.5415 - mae: 3656.5415 - val_loss: 3809.2900 - val_mae: 3809.2900 - lr: 0.0010\n",
      "Epoch 10/100\n",
      "34/34 [==============================] - 0s 4ms/step - loss: 3554.8643 - mae: 3554.8643 - val_loss: 3738.0117 - val_mae: 3738.0117 - lr: 0.0010\n",
      "Epoch 11/100\n",
      "34/34 [==============================] - 0s 4ms/step - loss: 3557.7068 - mae: 3557.7068 - val_loss: 3690.9805 - val_mae: 3690.9805 - lr: 0.0010\n",
      "Epoch 12/100\n",
      "34/34 [==============================] - 0s 4ms/step - loss: 3463.1550 - mae: 3463.1550 - val_loss: 3660.6934 - val_mae: 3660.6934 - lr: 0.0010\n",
      "Epoch 13/100\n",
      "34/34 [==============================] - 0s 3ms/step - loss: 3434.8674 - mae: 3434.8674 - val_loss: 3669.0295 - val_mae: 3669.0295 - lr: 0.0010\n",
      "Epoch 14/100\n",
      "34/34 [==============================] - 0s 4ms/step - loss: 3416.0632 - mae: 3416.0632 - val_loss: 3641.8218 - val_mae: 3641.8218 - lr: 0.0010\n",
      "Epoch 15/100\n",
      "34/34 [==============================] - 0s 4ms/step - loss: 3388.7356 - mae: 3388.7356 - val_loss: 3627.2043 - val_mae: 3627.2043 - lr: 0.0010\n",
      "Epoch 16/100\n",
      "34/34 [==============================] - 0s 4ms/step - loss: 3456.9402 - mae: 3456.9402 - val_loss: 3585.4553 - val_mae: 3585.4553 - lr: 0.0010\n",
      "Epoch 17/100\n",
      "34/34 [==============================] - 0s 3ms/step - loss: 3403.3816 - mae: 3403.3816 - val_loss: 3588.6335 - val_mae: 3588.6335 - lr: 0.0010\n",
      "Epoch 18/100\n",
      "34/34 [==============================] - 0s 3ms/step - loss: 3401.5405 - mae: 3401.5405 - val_loss: 3613.0010 - val_mae: 3613.0010 - lr: 0.0010\n",
      "Epoch 19/100\n",
      "34/34 [==============================] - 0s 3ms/step - loss: 3388.1768 - mae: 3388.1768 - val_loss: 3607.7283 - val_mae: 3607.7283 - lr: 0.0010\n",
      "Epoch 20/100\n",
      "34/34 [==============================] - 0s 3ms/step - loss: 3390.4553 - mae: 3390.4553 - val_loss: 3706.4890 - val_mae: 3706.4890 - lr: 0.0010\n",
      "Epoch 21/100\n",
      "34/34 [==============================] - 0s 3ms/step - loss: 3402.4663 - mae: 3402.4663 - val_loss: 3627.0933 - val_mae: 3627.0933 - lr: 0.0010\n",
      "Epoch 22/100\n",
      "34/34 [==============================] - 0s 3ms/step - loss: 3367.6184 - mae: 3367.6184 - val_loss: 3599.3608 - val_mae: 3599.3608 - lr: 1.0000e-04\n",
      "Epoch 23/100\n",
      "34/34 [==============================] - 0s 3ms/step - loss: 3368.4880 - mae: 3368.4880 - val_loss: 3603.9592 - val_mae: 3603.9592 - lr: 1.0000e-04\n",
      "Epoch 24/100\n",
      "34/34 [==============================] - 0s 3ms/step - loss: 3363.6885 - mae: 3363.6885 - val_loss: 3590.8611 - val_mae: 3590.8611 - lr: 1.0000e-04\n",
      "Epoch 25/100\n",
      "34/34 [==============================] - 0s 3ms/step - loss: 3366.5210 - mae: 3366.5210 - val_loss: 3603.4829 - val_mae: 3603.4829 - lr: 1.0000e-04\n",
      "Epoch 26/100\n",
      "34/34 [==============================] - 0s 3ms/step - loss: 3362.5693 - mae: 3362.5693 - val_loss: 3593.9736 - val_mae: 3593.9736 - lr: 1.0000e-04\n",
      "Epoch 27/100\n",
      "34/34 [==============================] - 0s 3ms/step - loss: 3362.4336 - mae: 3362.4336 - val_loss: 3604.9819 - val_mae: 3604.9819 - lr: 1.0000e-04\n",
      "Epoch 28/100\n",
      "34/34 [==============================] - 0s 3ms/step - loss: 3368.2700 - mae: 3368.2700 - val_loss: 3605.3718 - val_mae: 3605.3718 - lr: 1.0000e-04\n",
      "Epoch 29/100\n",
      "34/34 [==============================] - 0s 3ms/step - loss: 3363.7488 - mae: 3363.7488 - val_loss: 3597.3870 - val_mae: 3597.3870 - lr: 1.0000e-04\n",
      "Epoch 30/100\n",
      "34/34 [==============================] - 0s 3ms/step - loss: 3364.0161 - mae: 3364.0161 - val_loss: 3591.6980 - val_mae: 3591.6980 - lr: 1.0000e-04\n",
      "Epoch 31/100\n",
      "34/34 [==============================] - 0s 3ms/step - loss: 3367.2766 - mae: 3367.2766 - val_loss: 3593.7095 - val_mae: 3593.7095 - lr: 1.0000e-04\n"
     ]
    }
   ],
   "source": [
    "tf.random.set_seed(12)\n",
    "\n",
    "from tensorflow.keras.callbacks import EarlyStopping, ModelCheckpoint, ReduceLROnPlateau\n",
    "\n",
    "# define model\n",
    "tf.keras.backend.clear_session()\n",
    "model = Sequential([\n",
    "    Dense(10),\n",
    "    Dense(500),\n",
    "    Dense(500),\n",
    "    Dense(10),\n",
    "    Dense(1)\n",
    "])\n",
    "\n",
    "model.compile(loss= 'mae',\n",
    "              optimizer = 'adam',\n",
    "              metrics = 'mae'\n",
    ")\n",
    "\n",
    "reduce_lr = ReduceLROnPlateau(monitor='val_loss', factor=0.1,\n",
    "                              patience=5, \n",
    "                              min_delta=5.0,\n",
    "                              mode='min',\n",
    "                              min_lr=0.0001)\n",
    "\n",
    "earlystopping = EarlyStopping(monitor='val_loss',\n",
    "                             min_delta=0.01,\n",
    "                             patience=15)\n",
    "\n",
    "filepath='./my_regr_model.h5'\n",
    "modelcheckpoint = ModelCheckpoint(filepath=filepath, save_best_only=True)\n",
    "\n",
    "\n",
    "history = model.fit(xtrainnorm,ytrain,epochs=100, callbacks=[reduce_lr,earlystopping, modelcheckpoint], validation_data=(xtestnorm,ytest))"
   ]
  },
  {
   "cell_type": "code",
   "execution_count": 68,
   "id": "445afe09",
   "metadata": {},
   "outputs": [
    {
     "name": "stdout",
     "output_type": "stream",
     "text": [
      "9/9 [==============================] - 0s 2ms/step - loss: 3593.7095 - mae: 3593.7095\n"
     ]
    },
    {
     "data": {
      "text/plain": [
       "[3593.70947265625, 3593.70947265625]"
      ]
     },
     "execution_count": 68,
     "metadata": {},
     "output_type": "execute_result"
    }
   ],
   "source": [
    "model.evaluate(xtestnorm,ytest)"
   ]
  },
  {
   "cell_type": "code",
   "execution_count": 63,
   "id": "f9f15d50",
   "metadata": {},
   "outputs": [
    {
     "data": {
      "text/plain": [
       "<AxesSubplot:>"
      ]
     },
     "execution_count": 63,
     "metadata": {},
     "output_type": "execute_result"
    },
    {
     "data": {
      "image/png": "[encoded data removed]",
      "text/plain": [
       "<Figure size 432x288 with 1 Axes>"
      ]
     },
     "metadata": {
      "needs_background": "light"
     },
     "output_type": "display_data"
    }
   ],
   "source": [
    "pd.DataFrame(history.history).plot()"
   ]
  },
  {
   "cell_type": "code",
   "execution_count": 69,
   "id": "a15166c8",
   "metadata": {},
   "outputs": [
    {
     "name": "stdout",
     "output_type": "stream",
     "text": [
      "9/9 [==============================] - 0s 2ms/step - loss: 3585.4553 - mae: 3585.4553\n"
     ]
    },
    {
     "data": {
      "text/plain": [
       "[3585.455322265625, 3585.455322265625]"
      ]
     },
     "execution_count": 69,
     "metadata": {},
     "output_type": "execute_result"
    }
   ],
   "source": [
    "bestmodel = tf.keras.models.load_model(filepath)\n",
    "bestmodel.evaluate(xtestnorm,ytest)"
   ]
  },
  {
   "cell_type": "code",
   "execution_count": 72,
   "id": "64491351",
   "metadata": {},
   "outputs": [
    {
     "data": {
      "text/plain": [
       "'./my_regr_model.h5'"
      ]
     },
     "execution_count": 72,
     "metadata": {},
     "output_type": "execute_result"
    }
   ],
   "source": [
    "filepath"
   ]
  },
  {
   "cell_type": "code",
   "execution_count": 59,
   "id": "e8ef8904",
   "metadata": {},
   "outputs": [
    {
     "name": "stdout",
     "output_type": "stream",
     "text": [
      "{'verbose': 1, 'epochs': 100, 'steps': 34}\n",
      "dict_keys(['loss', 'mae', 'val_loss', 'val_mae', 'lr'])\n"
     ]
    },
    {
     "data": {
      "text/plain": [
       "(None, None)"
      ]
     },
     "execution_count": 59,
     "metadata": {},
     "output_type": "execute_result"
    }
   ],
   "source": [
    "print(history.params), print(history.history.keys())"
   ]
  },
  {
   "cell_type": "code",
   "execution_count": 71,
   "id": "0b261490",
   "metadata": {},
   "outputs": [
    {
     "data": {
      "text/plain": [
       "<matplotlib.collections.PathCollection at 0x203f7f2aa90>"
      ]
     },
     "execution_count": 71,
     "metadata": {},
     "output_type": "execute_result"
    },
    {
     "data": {
      "image/png": "[encoded data removed]",
      "text/plain": [
       "<Figure size 432x288 with 1 Axes>"
      ]
     },
     "metadata": {
      "needs_background": "light"
     },
     "output_type": "display_data"
    }
   ],
   "source": [
    "import matplotlib.pyplot as plt\n",
    "plt.scatter(history.history[\"lr\"], history.history[\"loss\"])"
   ]
  }
 ],
 "metadata": {
  "kernelspec": {
   "display_name": "Anaconda (base)",
   "language": "python",
   "name": "anaconda-base"
  },
  "language_info": {
   "codemirror_mode": {
    "name": "ipython",
    "version": 3
   },
   "file_extension": ".py",
   "mimetype": "text/x-python",
   "name": "python",
   "nbconvert_exporter": "python",
   "pygments_lexer": "ipython3",
   "version": "3.9.7"
  }
 },
 "nbformat": 4,
 "nbformat_minor": 5
}
