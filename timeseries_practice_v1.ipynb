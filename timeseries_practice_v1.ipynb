{
 "cells": [
  {
   "cell_type": "code",
   "execution_count": 1,
   "id": "c72f22d1",
   "metadata": {},
   "outputs": [
    {
     "data": {
      "text/plain": [
       "['BTC_USD_2013-10-01_2021-05-18-CoinDesk.csv']"
      ]
     },
     "execution_count": 1,
     "metadata": {},
     "output_type": "execute_result"
    }
   ],
   "source": [
    "import os\n",
    "os.listdir('./data')"
   ]
  },
  {
   "cell_type": "code",
   "execution_count": 2,
   "id": "907cbd56",
   "metadata": {},
   "outputs": [
    {
     "data": {
      "text/html": [
       "<div>\n",
       "<style scoped>\n",
       "    .dataframe tbody tr th:only-of-type {\n",
       "        vertical-align: middle;\n",
       "    }\n",
       "\n",
       "    .dataframe tbody tr th {\n",
       "        vertical-align: top;\n",
       "    }\n",
       "\n",
       "    .dataframe thead th {\n",
       "        text-align: right;\n",
       "    }\n",
       "</style>\n",
       "<table border=\"1\" class=\"dataframe\">\n",
       "  <thead>\n",
       "    <tr style=\"text-align: right;\">\n",
       "      <th></th>\n",
       "      <th>Currency</th>\n",
       "      <th>Date</th>\n",
       "      <th>Closing Price (USD)</th>\n",
       "      <th>24h Open (USD)</th>\n",
       "      <th>24h High (USD)</th>\n",
       "      <th>24h Low (USD)</th>\n",
       "    </tr>\n",
       "  </thead>\n",
       "  <tbody>\n",
       "    <tr>\n",
       "      <th>0</th>\n",
       "      <td>BTC</td>\n",
       "      <td>2013-10-01</td>\n",
       "      <td>123.65499</td>\n",
       "      <td>124.30466</td>\n",
       "      <td>124.75166</td>\n",
       "      <td>122.56349</td>\n",
       "    </tr>\n",
       "    <tr>\n",
       "      <th>1</th>\n",
       "      <td>BTC</td>\n",
       "      <td>2013-10-02</td>\n",
       "      <td>125.45500</td>\n",
       "      <td>123.65499</td>\n",
       "      <td>125.75850</td>\n",
       "      <td>123.63383</td>\n",
       "    </tr>\n",
       "    <tr>\n",
       "      <th>2</th>\n",
       "      <td>BTC</td>\n",
       "      <td>2013-10-03</td>\n",
       "      <td>108.58483</td>\n",
       "      <td>125.45500</td>\n",
       "      <td>125.66566</td>\n",
       "      <td>83.32833</td>\n",
       "    </tr>\n",
       "    <tr>\n",
       "      <th>3</th>\n",
       "      <td>BTC</td>\n",
       "      <td>2013-10-04</td>\n",
       "      <td>118.67466</td>\n",
       "      <td>108.58483</td>\n",
       "      <td>118.67500</td>\n",
       "      <td>107.05816</td>\n",
       "    </tr>\n",
       "    <tr>\n",
       "      <th>4</th>\n",
       "      <td>BTC</td>\n",
       "      <td>2013-10-05</td>\n",
       "      <td>121.33866</td>\n",
       "      <td>118.67466</td>\n",
       "      <td>121.93633</td>\n",
       "      <td>118.00566</td>\n",
       "    </tr>\n",
       "  </tbody>\n",
       "</table>\n",
       "</div>"
      ],
      "text/plain": [
       "  Currency        Date  Closing Price (USD)  24h Open (USD)  24h High (USD)  \\\n",
       "0      BTC  2013-10-01            123.65499       124.30466       124.75166   \n",
       "1      BTC  2013-10-02            125.45500       123.65499       125.75850   \n",
       "2      BTC  2013-10-03            108.58483       125.45500       125.66566   \n",
       "3      BTC  2013-10-04            118.67466       108.58483       118.67500   \n",
       "4      BTC  2013-10-05            121.33866       118.67466       121.93633   \n",
       "\n",
       "   24h Low (USD)  \n",
       "0      122.56349  \n",
       "1      123.63383  \n",
       "2       83.32833  \n",
       "3      107.05816  \n",
       "4      118.00566  "
      ]
     },
     "execution_count": 2,
     "metadata": {},
     "output_type": "execute_result"
    }
   ],
   "source": [
    "import pandas as pd\n",
    "df = pd.read_csv('./data/BTC_USD_2013-10-01_2021-05-18-CoinDesk.csv')\n",
    "df.head()"
   ]
  },
  {
   "cell_type": "code",
   "execution_count": 3,
   "id": "7420f69b",
   "metadata": {},
   "outputs": [
    {
     "data": {
      "text/html": [
       "<div>\n",
       "<style scoped>\n",
       "    .dataframe tbody tr th:only-of-type {\n",
       "        vertical-align: middle;\n",
       "    }\n",
       "\n",
       "    .dataframe tbody tr th {\n",
       "        vertical-align: top;\n",
       "    }\n",
       "\n",
       "    .dataframe thead th {\n",
       "        text-align: right;\n",
       "    }\n",
       "</style>\n",
       "<table border=\"1\" class=\"dataframe\">\n",
       "  <thead>\n",
       "    <tr style=\"text-align: right;\">\n",
       "      <th></th>\n",
       "      <th>0</th>\n",
       "      <th>Price</th>\n",
       "      <th>3</th>\n",
       "      <th>4</th>\n",
       "      <th>5</th>\n",
       "    </tr>\n",
       "    <tr>\n",
       "      <th>Date</th>\n",
       "      <th></th>\n",
       "      <th></th>\n",
       "      <th></th>\n",
       "      <th></th>\n",
       "      <th></th>\n",
       "    </tr>\n",
       "  </thead>\n",
       "  <tbody>\n",
       "    <tr>\n",
       "      <th>2013-10-01</th>\n",
       "      <td>BTC</td>\n",
       "      <td>123.65499</td>\n",
       "      <td>124.30466</td>\n",
       "      <td>124.75166</td>\n",
       "      <td>122.56349</td>\n",
       "    </tr>\n",
       "    <tr>\n",
       "      <th>2013-10-02</th>\n",
       "      <td>BTC</td>\n",
       "      <td>125.45500</td>\n",
       "      <td>123.65499</td>\n",
       "      <td>125.75850</td>\n",
       "      <td>123.63383</td>\n",
       "    </tr>\n",
       "    <tr>\n",
       "      <th>2013-10-03</th>\n",
       "      <td>BTC</td>\n",
       "      <td>108.58483</td>\n",
       "      <td>125.45500</td>\n",
       "      <td>125.66566</td>\n",
       "      <td>83.32833</td>\n",
       "    </tr>\n",
       "    <tr>\n",
       "      <th>2013-10-04</th>\n",
       "      <td>BTC</td>\n",
       "      <td>118.67466</td>\n",
       "      <td>108.58483</td>\n",
       "      <td>118.67500</td>\n",
       "      <td>107.05816</td>\n",
       "    </tr>\n",
       "    <tr>\n",
       "      <th>2013-10-05</th>\n",
       "      <td>BTC</td>\n",
       "      <td>121.33866</td>\n",
       "      <td>118.67466</td>\n",
       "      <td>121.93633</td>\n",
       "      <td>118.00566</td>\n",
       "    </tr>\n",
       "  </tbody>\n",
       "</table>\n",
       "</div>"
      ],
      "text/plain": [
       "              0      Price          3          4          5\n",
       "Date                                                       \n",
       "2013-10-01  BTC  123.65499  124.30466  124.75166  122.56349\n",
       "2013-10-02  BTC  125.45500  123.65499  125.75850  123.63383\n",
       "2013-10-03  BTC  108.58483  125.45500  125.66566   83.32833\n",
       "2013-10-04  BTC  118.67466  108.58483  118.67500  107.05816\n",
       "2013-10-05  BTC  121.33866  118.67466  121.93633  118.00566"
      ]
     },
     "execution_count": 3,
     "metadata": {},
     "output_type": "execute_result"
    }
   ],
   "source": [
    "colname = ['0','Date','Price','3','4','5']\n",
    "df = pd.read_csv('./data/BTC_USD_2013-10-01_2021-05-18-CoinDesk.csv',names=colname,index_col='Date',parse_dates=['Date'],header=0)\n",
    "df.head()"
   ]
  },
  {
   "cell_type": "code",
   "execution_count": 4,
   "id": "68fdd589",
   "metadata": {},
   "outputs": [
    {
     "data": {
      "text/plain": [
       "Date\n",
       "2013-10-01    123.65499\n",
       "2013-10-02    125.45500\n",
       "2013-10-03    108.58483\n",
       "2013-10-04    118.67466\n",
       "2013-10-05    121.33866\n",
       "Name: Price, dtype: float64"
      ]
     },
     "execution_count": 4,
     "metadata": {},
     "output_type": "execute_result"
    }
   ],
   "source": [
    "bitdf=df['Price']\n",
    "bitdf.head()"
   ]
  },
  {
   "cell_type": "code",
   "execution_count": 36,
   "id": "45ea33c9",
   "metadata": {},
   "outputs": [
    {
     "data": {
      "text/plain": [
       "array([  123.65499   ,   125.455     ,   108.58483   , ...,\n",
       "       47885.62525472, 45604.61575361, 43144.47129086])"
      ]
     },
     "execution_count": 36,
     "metadata": {},
     "output_type": "execute_result"
    }
   ],
   "source": [
    "bitnp = bitdf.to_numpy()\n",
    "bitnp"
   ]
  },
  {
   "cell_type": "code",
   "execution_count": 6,
   "id": "3180be07",
   "metadata": {},
   "outputs": [
    {
     "data": {
      "text/plain": [
       "array(['2013-10-01T00:00:00.000000000', '2013-10-02T00:00:00.000000000',\n",
       "       '2013-10-03T00:00:00.000000000', ...,\n",
       "       '2021-05-16T00:00:00.000000000', '2021-05-17T00:00:00.000000000',\n",
       "       '2021-05-18T00:00:00.000000000'], dtype='datetime64[ns]')"
      ]
     },
     "execution_count": 6,
     "metadata": {},
     "output_type": "execute_result"
    }
   ],
   "source": [
    "step = bitdf.index.to_numpy()\n",
    "step"
   ]
  },
  {
   "cell_type": "code",
   "execution_count": 7,
   "id": "cbeee6dc",
   "metadata": {},
   "outputs": [
    {
     "data": {
      "text/plain": [
       "<matplotlib.collections.PathCollection at 0x14f763b5df0>"
      ]
     },
     "execution_count": 7,
     "metadata": {},
     "output_type": "execute_result"
    },
    {
     "data": {
      "image/png": "[encoded data removed]",
      "text/plain": [
       "<Figure size 864x432 with 1 Axes>"
      ]
     },
     "metadata": {
      "needs_background": "light"
     },
     "output_type": "display_data"
    }
   ],
   "source": [
    "import matplotlib.pyplot as plt\n",
    "plt.figure(figsize=(12,6))\n",
    "plt.scatter(step,bitnp,s=0.5)"
   ]
  },
  {
   "cell_type": "markdown",
   "id": "a0badb53",
   "metadata": {},
   "source": [
    "### create windows, horizons"
   ]
  },
  {
   "cell_type": "code",
   "execution_count": 35,
   "id": "4179d76e",
   "metadata": {},
   "outputs": [
    {
     "name": "stdout",
     "output_type": "stream",
     "text": [
      "d1list : [0 1 2 3 4 5]\n",
      "d2list : [[0 1 2 3 4 5]]\n",
      "addnum : [[   0]\n",
      " [   1]\n",
      " [   2]\n",
      " ...\n",
      " [2779]\n",
      " [2780]\n",
      " [2781]]\n"
     ]
    },
    {
     "data": {
      "text/plain": [
       "(array([[  123.65499   ,   125.455     ,   108.58483   ,   118.67466   ,\n",
       "           121.33866   ],\n",
       "        [  125.455     ,   108.58483   ,   118.67466   ,   121.33866   ,\n",
       "           120.65533   ],\n",
       "        [  108.58483   ,   118.67466   ,   121.33866   ,   120.65533   ,\n",
       "           121.795     ],\n",
       "        ...,\n",
       "        [55715.54665129, 56573.5554719 , 52147.82118698, 49764.1320816 ,\n",
       "         50032.69313676],\n",
       "        [56573.5554719 , 52147.82118698, 49764.1320816 , 50032.69313676,\n",
       "         47885.62525472],\n",
       "        [52147.82118698, 49764.1320816 , 50032.69313676, 47885.62525472,\n",
       "         45604.61575361]]),\n",
       " array([[  120.65533   ],\n",
       "        [  121.795     ],\n",
       "        [  123.033     ],\n",
       "        ...,\n",
       "        [47885.62525472],\n",
       "        [45604.61575361],\n",
       "        [43144.47129086]]))"
      ]
     },
     "execution_count": 35,
     "metadata": {},
     "output_type": "execute_result"
    }
   ],
   "source": [
    "import numpy as np\n",
    "nwindows = 5\n",
    "nhorizon = 1\n",
    "w,h=7,1\n",
    "def make_windows(x,w=7,h=1):\n",
    "    #create 1d list of numbers of total size\n",
    "    d1list = np.arange(w + h)\n",
    "    print(\"d1list :\", d1list)\n",
    "    # create 2d of this list\n",
    "    d2list = np.expand_dims(d1list,axis=0)\n",
    "    print(\"d2list :\", d2list)\n",
    "    # create column of numbers to be added to the 2d list above\n",
    "    addnum = np.expand_dims(np.arange(len(x)-(w+h-1)), axis=0).T\n",
    "    print(\"addnum :\", addnum)\n",
    "    # final index is the array where each d2list is added with addnum\n",
    "    window_indexes = d2list + addnum\n",
    "    # get values of the input matrix for these indexes\n",
    "    window_array = x[window_indexes]\n",
    "    # create windows and lables from this\n",
    "    windows = window_array[:, :-h]\n",
    "    labels  = window_array[:,-h:]\n",
    "    return windows, labels\n",
    "\n",
    "# take the target data and split into windows and labels\n",
    "windows, labels = make_windows(bitnp,nwindows,nhorizon)\n",
    "windows, labels"
   ]
  },
  {
   "cell_type": "code",
   "execution_count": 37,
   "id": "47e17935",
   "metadata": {},
   "outputs": [
    {
     "data": {
      "text/plain": [
       "(array([125.455  , 108.58483, 118.67466, 121.33866, 120.65533]),\n",
       " array([121.795]),\n",
       " 2782,\n",
       " (2782, 5),\n",
       " (2782, 1))"
      ]
     },
     "execution_count": 37,
     "metadata": {},
     "output_type": "execute_result"
    }
   ],
   "source": [
    "windows[1],labels[1], len(windows), windows.shape, labels.shape"
   ]
  },
  {
   "cell_type": "markdown",
   "id": "c97c7f58",
   "metadata": {},
   "source": [
    "### Split into train, test sets"
   ]
  },
  {
   "cell_type": "code",
   "execution_count": 10,
   "id": "68398e72",
   "metadata": {},
   "outputs": [
    {
     "data": {
      "text/plain": [
       "(2225, 2225, 557, 557)"
      ]
     },
     "execution_count": 10,
     "metadata": {},
     "output_type": "execute_result"
    }
   ],
   "source": [
    "test_split = 0.2\n",
    "split_size = int(len(windows)*(1-test_split))\n",
    "trainw = windows[:split_size]\n",
    "testw = windows[split_size:]\n",
    "trainl = labels[:split_size]\n",
    "testl = labels[split_size:]\n",
    "len(trainw),len(trainl), len(testw),len(testl)"
   ]
  },
  {
   "cell_type": "code",
   "execution_count": 11,
   "id": "48c63af3",
   "metadata": {},
   "outputs": [
    {
     "name": "stdout",
     "output_type": "stream",
     "text": [
      "Epoch 1/50\n",
      "70/70 [==============================] - ETA: 0s - loss: 539.4556 - mape: 16.9978  INFO:tensorflow:Assets written to: ./checkpoints/new\\model\\assets\n",
      "70/70 [==============================] - 1s 8ms/step - loss: 539.4556 - mape: 16.9978 - val_loss: 1082.0583 - val_mape: 4.8331\n",
      "Epoch 2/50\n",
      "63/70 [==========================>...] - ETA: 0s - loss: 167.7775 - mape: 4.4096INFO:tensorflow:Assets written to: ./checkpoints/new\\model\\assets\n",
      "70/70 [==============================] - 0s 5ms/step - loss: 162.7775 - mape: 4.3561 - val_loss: 850.9441 - val_mape: 3.7771\n",
      "Epoch 3/50\n",
      "70/70 [==============================] - 0s 1ms/step - loss: 159.4334 - mape: 4.3489 - val_loss: 1002.3520 - val_mape: 4.5241\n",
      "Epoch 4/50\n",
      " 1/70 [..............................] - ETA: 0s - loss: 217.7732 - mape: 7.4908INFO:tensorflow:Assets written to: ./checkpoints/new\\model\\assets\n",
      "70/70 [==============================] - 0s 5ms/step - loss: 148.6503 - mape: 3.9879 - val_loss: 772.8650 - val_mape: 3.5105\n",
      "Epoch 5/50\n",
      "59/70 [========================>.....] - ETA: 0s - loss: 137.0078 - mape: 3.7428INFO:tensorflow:Assets written to: ./checkpoints/new\\model\\assets\n",
      "70/70 [==============================] - 0s 7ms/step - loss: 137.8477 - mape: 3.7030 - val_loss: 726.2530 - val_mape: 3.2225\n",
      "Epoch 6/50\n",
      "56/70 [=======================>......] - ETA: 0s - loss: 144.6914 - mape: 3.9036INFO:tensorflow:Assets written to: ./checkpoints/new\\model\\assets\n",
      "70/70 [==============================] - 0s 5ms/step - loss: 144.8904 - mape: 3.8934 - val_loss: 692.6624 - val_mape: 3.1185\n",
      "Epoch 7/50\n",
      " 1/70 [..............................] - ETA: 0s - loss: 183.9364 - mape: 4.0548INFO:tensorflow:Assets written to: ./checkpoints/new\\model\\assets\n",
      "70/70 [==============================] - 0s 5ms/step - loss: 133.1477 - mape: 3.6784 - val_loss: 664.9243 - val_mape: 2.9768\n",
      "Epoch 8/50\n",
      "70/70 [==============================] - 0s 968us/step - loss: 128.0853 - mape: 3.5155 - val_loss: 673.0414 - val_mape: 2.9835\n",
      "Epoch 9/50\n",
      "70/70 [==============================] - 0s 1ms/step - loss: 128.5835 - mape: 3.5943 - val_loss: 732.1944 - val_mape: 3.4567\n",
      "Epoch 10/50\n",
      " 1/70 [..............................] - ETA: 0s - loss: 117.5988 - mape: 3.0546INFO:tensorflow:Assets written to: ./checkpoints/new\\model\\assets\n",
      "70/70 [==============================] - 0s 6ms/step - loss: 120.1089 - mape: 3.2542 - val_loss: 617.7283 - val_mape: 2.7502\n",
      "Epoch 11/50\n",
      "41/70 [================>.............] - ETA: 0s - loss: 122.0872 - mape: 3.3216INFO:tensorflow:Assets written to: ./checkpoints/new\\model\\assets\n",
      "70/70 [==============================] - 1s 8ms/step - loss: 120.9082 - mape: 3.2678 - val_loss: 614.2899 - val_mape: 2.7335\n",
      "Epoch 12/50\n",
      "70/70 [==============================] - 0s 2ms/step - loss: 114.4681 - mape: 3.1313 - val_loss: 725.3754 - val_mape: 3.3472\n",
      "Epoch 13/50\n",
      "47/70 [===================>..........] - ETA: 0s - loss: 111.1746 - mape: 3.0465INFO:tensorflow:Assets written to: ./checkpoints/new\\model\\assets\n",
      "70/70 [==============================] - 0s 7ms/step - loss: 114.0429 - mape: 3.1147 - val_loss: 584.9752 - val_mape: 2.6333\n",
      "Epoch 14/50\n",
      "70/70 [==============================] - 0s 1ms/step - loss: 116.1786 - mape: 3.2951 - val_loss: 626.2809 - val_mape: 2.8749\n",
      "Epoch 15/50\n",
      "70/70 [==============================] - 0s 1ms/step - loss: 118.8524 - mape: 3.2691 - val_loss: 619.4337 - val_mape: 2.8375\n",
      "Epoch 16/50\n",
      "70/70 [==============================] - 0s 2ms/step - loss: 116.7922 - mape: 3.2461 - val_loss: 591.6198 - val_mape: 2.6832\n",
      "Epoch 17/50\n",
      "70/70 [==============================] - 0s 1ms/step - loss: 111.2001 - mape: 2.9839 - val_loss: 613.5750 - val_mape: 2.8060\n",
      "Epoch 18/50\n",
      "70/70 [==============================] - 0s 2ms/step - loss: 121.7403 - mape: 3.5234 - val_loss: 667.0327 - val_mape: 3.0580\n",
      "Epoch 19/50\n",
      "70/70 [==============================] - 0s 1ms/step - loss: 121.8780 - mape: 3.4326 - val_loss: 681.5857 - val_mape: 3.1398\n",
      "Epoch 20/50\n",
      "50/70 [====================>.........] - ETA: 0s - loss: 107.3511 - mape: 2.8597INFO:tensorflow:Assets written to: ./checkpoints/new\\model\\assets\n",
      "70/70 [==============================] - 1s 9ms/step - loss: 110.2938 - mape: 2.9674 - val_loss: 566.7253 - val_mape: 2.5486\n",
      "Epoch 21/50\n",
      "70/70 [==============================] - 0s 2ms/step - loss: 114.5279 - mape: 3.1525 - val_loss: 625.3660 - val_mape: 2.8304\n",
      "Epoch 22/50\n",
      "70/70 [==============================] - 0s 2ms/step - loss: 112.0588 - mape: 3.0209 - val_loss: 605.7133 - val_mape: 2.7255\n",
      "Epoch 23/50\n",
      "70/70 [==============================] - 0s 2ms/step - loss: 113.7049 - mape: 3.1029 - val_loss: 571.0594 - val_mape: 2.5507\n",
      "Epoch 24/50\n",
      "70/70 [==============================] - 0s 2ms/step - loss: 112.2105 - mape: 3.0454 - val_loss: 631.0399 - val_mape: 2.8648\n",
      "Epoch 25/50\n",
      "70/70 [==============================] - 0s 2ms/step - loss: 112.6238 - mape: 3.0874 - val_loss: 583.7468 - val_mape: 2.6410\n",
      "Epoch 26/50\n",
      "49/70 [====================>.........] - ETA: 0s - loss: 106.9397 - mape: 2.9497INFO:tensorflow:Assets written to: ./checkpoints/new\\model\\assets\n",
      "70/70 [==============================] - 1s 8ms/step - loss: 109.8024 - mape: 2.9979 - val_loss: 565.2615 - val_mape: 2.5302\n",
      "Epoch 27/50\n",
      "70/70 [==============================] - 0s 1ms/step - loss: 109.7346 - mape: 2.9783 - val_loss: 583.8243 - val_mape: 2.6075\n",
      "Epoch 28/50\n",
      "70/70 [==============================] - 0s 2ms/step - loss: 112.7916 - mape: 3.1413 - val_loss: 631.2575 - val_mape: 2.8681\n",
      "Epoch 29/50\n",
      "70/70 [==============================] - 0s 2ms/step - loss: 114.5153 - mape: 3.2185 - val_loss: 565.7045 - val_mape: 2.5316\n",
      "Epoch 30/50\n",
      "70/70 [==============================] - 0s 2ms/step - loss: 110.3763 - mape: 2.9895 - val_loss: 590.9358 - val_mape: 2.6845\n",
      "Epoch 31/50\n",
      "70/70 [==============================] - 0s 2ms/step - loss: 119.5794 - mape: 3.3720 - val_loss: 565.3028 - val_mape: 2.5233\n",
      "Epoch 32/50\n",
      "70/70 [==============================] - 0s 2ms/step - loss: 111.0015 - mape: 3.0132 - val_loss: 582.4809 - val_mape: 2.6236\n",
      "Epoch 33/50\n",
      "70/70 [==============================] - 0s 2ms/step - loss: 122.2196 - mape: 3.3760 - val_loss: 568.7466 - val_mape: 2.5386\n",
      "Epoch 34/50\n",
      "70/70 [==============================] - 0s 2ms/step - loss: 110.5501 - mape: 2.9991 - val_loss: 605.7736 - val_mape: 2.7648\n",
      "Epoch 35/50\n",
      "70/70 [==============================] - 0s 2ms/step - loss: 116.0169 - mape: 3.2840 - val_loss: 744.9038 - val_mape: 3.5012\n",
      "Epoch 36/50\n",
      "70/70 [==============================] - 0s 2ms/step - loss: 125.2770 - mape: 3.4869 - val_loss: 620.3204 - val_mape: 2.8040\n",
      "Epoch 37/50\n",
      "70/70 [==============================] - 0s 2ms/step - loss: 109.3720 - mape: 3.0147 - val_loss: 609.1321 - val_mape: 2.7875\n",
      "Epoch 38/50\n",
      "70/70 [==============================] - 0s 2ms/step - loss: 110.8826 - mape: 3.0459 - val_loss: 684.2200 - val_mape: 3.1689\n",
      "Epoch 39/50\n",
      "53/70 [=====================>........] - ETA: 0s - loss: 116.7670 - mape: 3.2466INFO:tensorflow:Assets written to: ./checkpoints/new\\model\\assets\n",
      "70/70 [==============================] - 1s 8ms/step - loss: 116.1805 - mape: 3.2048 - val_loss: 563.7596 - val_mape: 2.5164\n",
      "Epoch 40/50\n",
      "70/70 [==============================] - 0s 1ms/step - loss: 111.3662 - mape: 3.0937 - val_loss: 647.1281 - val_mape: 2.9999\n",
      "Epoch 41/50\n",
      "70/70 [==============================] - 0s 2ms/step - loss: 109.6174 - mape: 3.0600 - val_loss: 658.4418 - val_mape: 3.0637\n",
      "Epoch 42/50\n",
      "70/70 [==============================] - 0s 2ms/step - loss: 111.9343 - mape: 3.0812 - val_loss: 564.4976 - val_mape: 2.5227\n",
      "Epoch 43/50\n",
      "70/70 [==============================] - 0s 2ms/step - loss: 111.7839 - mape: 3.0328 - val_loss: 569.0492 - val_mape: 2.5491\n",
      "Epoch 44/50\n",
      "70/70 [==============================] - 0s 2ms/step - loss: 108.6634 - mape: 2.9486 - val_loss: 773.0479 - val_mape: 3.6626\n",
      "Epoch 45/50\n",
      "70/70 [==============================] - 0s 2ms/step - loss: 118.4759 - mape: 3.3035 - val_loss: 600.9851 - val_mape: 2.7404\n",
      "Epoch 46/50\n",
      "70/70 [==============================] - 0s 2ms/step - loss: 117.1474 - mape: 3.2954 - val_loss: 781.8934 - val_mape: 3.7595\n",
      "Epoch 47/50\n",
      "70/70 [==============================] - 0s 1ms/step - loss: 119.6035 - mape: 3.3254 - val_loss: 578.6718 - val_mape: 2.5796\n",
      "Epoch 48/50\n"
     ]
    },
    {
     "name": "stdout",
     "output_type": "stream",
     "text": [
      "70/70 [==============================] - 0s 1ms/step - loss: 107.7322 - mape: 3.0187 - val_loss: 567.9642 - val_mape: 2.5275\n",
      "Epoch 49/50\n",
      "70/70 [==============================] - 0s 2ms/step - loss: 109.9503 - mape: 3.0258 - val_loss: 647.6994 - val_mape: 3.0055\n",
      "Epoch 50/50\n",
      "70/70 [==============================] - 0s 2ms/step - loss: 115.3420 - mape: 3.1412 - val_loss: 565.0505 - val_mape: 2.5160\n"
     ]
    }
   ],
   "source": [
    "import tensorflow as tf\n",
    "from tensorflow.keras.layers import Dense\n",
    "tf.random.set_seed(12)\n",
    "\n",
    "model = tf.keras.Sequential([\n",
    "    Dense(128,activation='relu'),\n",
    "    Dense(nhorizon)\n",
    "])\n",
    "\n",
    "model.compile(loss = 'mae', optimizer = 'adam', metrics = 'mape')\n",
    "\n",
    "filepath = './checkpoints/new/model'\n",
    "callback = tf.keras.callbacks.ModelCheckpoint(filepath=filepath, save_best_only=True, monitor='val_loss')\n",
    "\n",
    "history = model.fit(trainw,trainl, epochs=50, batch_size = 32, callbacks = callback,\n",
    "                   validation_data=(testw,testl))"
   ]
  },
  {
   "cell_type": "code",
   "execution_count": 12,
   "id": "00290ecb",
   "metadata": {},
   "outputs": [
    {
     "data": {
      "text/plain": [
       "<AxesSubplot:>"
      ]
     },
     "execution_count": 12,
     "metadata": {},
     "output_type": "execute_result"
    },
    {
     "data": {
      "image/png": "[encoded data removed]",
      "text/plain": [
       "<Figure size 432x288 with 1 Axes>"
      ]
     },
     "metadata": {
      "needs_background": "light"
     },
     "output_type": "display_data"
    }
   ],
   "source": [
    "pd.DataFrame(history.history).plot()"
   ]
  },
  {
   "cell_type": "code",
   "execution_count": 13,
   "id": "c6b40f04",
   "metadata": {},
   "outputs": [
    {
     "name": "stdout",
     "output_type": "stream",
     "text": [
      "18/18 [==============================] - 0s 1ms/step - loss: 565.0505 - mape: 2.5160\n"
     ]
    },
    {
     "data": {
      "text/plain": [
       "[565.0504760742188, 2.5160470008850098]"
      ]
     },
     "execution_count": 13,
     "metadata": {},
     "output_type": "execute_result"
    }
   ],
   "source": [
    "model.evaluate(testw,testl)"
   ]
  },
  {
   "cell_type": "code",
   "execution_count": 14,
   "id": "be46e6ef",
   "metadata": {},
   "outputs": [
    {
     "name": "stdout",
     "output_type": "stream",
     "text": [
      "18/18 [==============================] - 0s 1ms/step - loss: 563.7596 - mape: 2.5164\n"
     ]
    },
    {
     "data": {
      "text/plain": [
       "[563.7596435546875, 2.516418218612671]"
      ]
     },
     "execution_count": 14,
     "metadata": {},
     "output_type": "execute_result"
    }
   ],
   "source": [
    "bestmodel = tf.keras.models.load_model(filepath)\n",
    "bestmodel.evaluate(testw,testl)"
   ]
  },
  {
   "cell_type": "markdown",
   "id": "4ff69e26",
   "metadata": {},
   "source": [
    "# # Conv1D\n",
    "#### input = (batch size, timesteps or window units, input dim or vector length)"
   ]
  },
  {
   "cell_type": "code",
   "execution_count": 17,
   "id": "d002e89c",
   "metadata": {},
   "outputs": [
    {
     "data": {
      "text/plain": [
       "((2225, 5),\n",
       " (5,),\n",
       " array([123.65499, 125.455  , 108.58483, 118.67466, 121.33866]))"
      ]
     },
     "execution_count": 17,
     "metadata": {},
     "output_type": "execute_result"
    }
   ],
   "source": [
    "trainw.shape, trainw[0].shape, trainw[0]"
   ]
  },
  {
   "cell_type": "code",
   "execution_count": 19,
   "id": "fda2057c",
   "metadata": {},
   "outputs": [
    {
     "data": {
      "text/plain": [
       "(<tf.Tensor: shape=(5,), dtype=float64, numpy=array([123.65499, 125.455  , 108.58483, 118.67466, 121.33866])>,\n",
       " <tf.Tensor: shape=(5, 1), dtype=float64, numpy=\n",
       " array([[123.65499],\n",
       "        [125.455  ],\n",
       "        [108.58483],\n",
       "        [118.67466],\n",
       "        [121.33866]])>)"
      ]
     },
     "execution_count": 19,
     "metadata": {},
     "output_type": "execute_result"
    }
   ],
   "source": [
    "# testing the dim expansion with a sample\n",
    "x = tf.constant(trainw[0])\n",
    "xexp = tf.expand_dims(x, axis=1)\n",
    "x, xexp"
   ]
  },
  {
   "cell_type": "code",
   "execution_count": 28,
   "id": "28f53cff",
   "metadata": {},
   "outputs": [
    {
     "name": "stdout",
     "output_type": "stream",
     "text": [
      "Epoch 1/100\n",
      "50/70 [====================>.........] - ETA: 0s - loss: 1304.4192 - mae: 1304.4192 INFO:tensorflow:Assets written to: ./checkpoints\\model1d\\assets\n",
      "70/70 [==============================] - 1s 11ms/step - loss: 989.7226 - mae: 989.7226 - val_loss: 894.9015 - val_mae: 894.9015\n",
      "Epoch 2/100\n",
      "45/70 [==================>...........] - ETA: 0s - loss: 165.0320 - mae: 165.0320INFO:tensorflow:Assets written to: ./checkpoints\\model1d\\assets\n",
      "70/70 [==============================] - 1s 10ms/step - loss: 158.9046 - mae: 158.9046 - val_loss: 917.8801 - val_mae: 917.8801\n",
      "Epoch 3/100\n",
      "53/70 [=====================>........] - ETA: 0s - loss: 158.1801 - mae: 158.1801INFO:tensorflow:Assets written to: ./checkpoints\\model1d\\assets\n",
      "70/70 [==============================] - 1s 10ms/step - loss: 158.3650 - mae: 158.3650 - val_loss: 922.8393 - val_mae: 922.8393\n",
      "Epoch 4/100\n",
      "55/70 [======================>.......] - ETA: 0s - loss: 154.3006 - mae: 154.3006INFO:tensorflow:Assets written to: ./checkpoints\\model1d\\assets\n",
      "70/70 [==============================] - 1s 11ms/step - loss: 154.2815 - mae: 154.2815 - val_loss: 841.6771 - val_mae: 841.6771\n",
      "Epoch 5/100\n",
      "49/70 [====================>.........] - ETA: 0s - loss: 144.1312 - mae: 144.1312INFO:tensorflow:Assets written to: ./checkpoints\\model1d\\assets\n",
      "70/70 [==============================] - 1s 11ms/step - loss: 151.1189 - mae: 151.1189 - val_loss: 894.2678 - val_mae: 894.2678\n",
      "Epoch 6/100\n",
      "45/70 [==================>...........] - ETA: 0s - loss: 157.0049 - mae: 157.0049INFO:tensorflow:Assets written to: ./checkpoints\\model1d\\assets\n",
      "70/70 [==============================] - 1s 10ms/step - loss: 152.3929 - mae: 152.3929 - val_loss: 833.9059 - val_mae: 833.9059\n",
      "Epoch 7/100\n",
      "47/70 [===================>..........] - ETA: 0s - loss: 147.0777 - mae: 147.0777INFO:tensorflow:Assets written to: ./checkpoints\\model1d\\assets\n",
      "70/70 [==============================] - 1s 13ms/step - loss: 145.4930 - mae: 145.4930 - val_loss: 928.6750 - val_mae: 928.6750\n",
      "Epoch 8/100\n",
      "48/70 [===================>..........] - ETA: 0s - loss: 144.4855 - mae: 144.4855INFO:tensorflow:Assets written to: ./checkpoints\\model1d\\assets\n",
      "70/70 [==============================] - 1s 10ms/step - loss: 143.9981 - mae: 143.9981 - val_loss: 781.7233 - val_mae: 781.7233\n",
      "Epoch 9/100\n",
      "44/70 [=================>............] - ETA: 0s - loss: 141.8177 - mae: 141.8177INFO:tensorflow:Assets written to: ./checkpoints\\model1d\\assets\n",
      "70/70 [==============================] - 1s 11ms/step - loss: 143.7529 - mae: 143.7529 - val_loss: 760.1654 - val_mae: 760.1654\n",
      "Epoch 10/100\n",
      "50/70 [====================>.........] - ETA: 0s - loss: 140.0896 - mae: 140.0896INFO:tensorflow:Assets written to: ./checkpoints\\model1d\\assets\n",
      "70/70 [==============================] - 1s 10ms/step - loss: 136.4675 - mae: 136.4675 - val_loss: 858.1617 - val_mae: 858.1617\n",
      "Epoch 11/100\n",
      "52/70 [=====================>........] - ETA: 0s - loss: 132.8222 - mae: 132.8222INFO:tensorflow:Assets written to: ./checkpoints\\model1d\\assets\n",
      "70/70 [==============================] - 1s 10ms/step - loss: 133.9186 - mae: 133.9186 - val_loss: 739.7424 - val_mae: 739.7424\n",
      "Epoch 12/100\n",
      "47/70 [===================>..........] - ETA: 0s - loss: 129.0152 - mae: 129.0152INFO:tensorflow:Assets written to: ./checkpoints\\model1d\\assets\n",
      "70/70 [==============================] - 1s 10ms/step - loss: 132.3055 - mae: 132.3055 - val_loss: 781.4590 - val_mae: 781.4590\n",
      "Epoch 13/100\n",
      "45/70 [==================>...........] - ETA: 0s - loss: 128.9938 - mae: 128.9938INFO:tensorflow:Assets written to: ./checkpoints\\model1d\\assets\n",
      "70/70 [==============================] - 1s 10ms/step - loss: 131.6626 - mae: 131.6626 - val_loss: 697.4892 - val_mae: 697.4892\n",
      "Epoch 14/100\n",
      "48/70 [===================>..........] - ETA: 0s - loss: 128.7475 - mae: 128.7475INFO:tensorflow:Assets written to: ./checkpoints\\model1d\\assets\n",
      "70/70 [==============================] - 1s 10ms/step - loss: 128.8580 - mae: 128.8580 - val_loss: 689.6392 - val_mae: 689.6392\n",
      "Epoch 15/100\n",
      "49/70 [====================>.........] - ETA: 0s - loss: 128.3201 - mae: 128.3201INFO:tensorflow:Assets written to: ./checkpoints\\model1d\\assets\n",
      "70/70 [==============================] - 1s 10ms/step - loss: 131.4470 - mae: 131.4470 - val_loss: 666.1324 - val_mae: 666.1324\n",
      "Epoch 16/100\n",
      "49/70 [====================>.........] - ETA: 0s - loss: 126.6347 - mae: 126.6347INFO:tensorflow:Assets written to: ./checkpoints\\model1d\\assets\n",
      "70/70 [==============================] - 1s 13ms/step - loss: 123.5087 - mae: 123.5087 - val_loss: 660.0237 - val_mae: 660.0237\n",
      "Epoch 17/100\n",
      "47/70 [===================>..........] - ETA: 0s - loss: 124.7353 - mae: 124.7353INFO:tensorflow:Assets written to: ./checkpoints\\model1d\\assets\n",
      "70/70 [==============================] - 1s 10ms/step - loss: 121.9856 - mae: 121.9856 - val_loss: 640.9588 - val_mae: 640.9588\n",
      "Epoch 18/100\n",
      "49/70 [====================>.........] - ETA: 0s - loss: 128.0786 - mae: 128.0786INFO:tensorflow:Assets written to: ./checkpoints\\model1d\\assets\n",
      "70/70 [==============================] - 1s 10ms/step - loss: 124.5703 - mae: 124.5703 - val_loss: 631.2085 - val_mae: 631.2085\n",
      "Epoch 19/100\n",
      "47/70 [===================>..........] - ETA: 0s - loss: 118.5999 - mae: 118.5999INFO:tensorflow:Assets written to: ./checkpoints\\model1d\\assets\n",
      "70/70 [==============================] - 1s 11ms/step - loss: 120.2741 - mae: 120.2741 - val_loss: 640.9097 - val_mae: 640.9097\n",
      "Epoch 20/100\n",
      "47/70 [===================>..........] - ETA: 0s - loss: 120.7335 - mae: 120.7335INFO:tensorflow:Assets written to: ./checkpoints\\model1d\\assets\n",
      "70/70 [==============================] - 1s 11ms/step - loss: 119.3300 - mae: 119.3300 - val_loss: 612.6487 - val_mae: 612.6487\n",
      "Epoch 21/100\n",
      "47/70 [===================>..........] - ETA: 0s - loss: 121.0178 - mae: 121.0178INFO:tensorflow:Assets written to: ./checkpoints\\model1d\\assets\n",
      "70/70 [==============================] - 1s 10ms/step - loss: 117.6838 - mae: 117.6838 - val_loss: 667.9649 - val_mae: 667.9649\n",
      "Epoch 22/100\n",
      "49/70 [====================>.........] - ETA: 0s - loss: 116.4765 - mae: 116.4765INFO:tensorflow:Assets written to: ./checkpoints\\model1d\\assets\n",
      "70/70 [==============================] - 1s 10ms/step - loss: 115.2193 - mae: 115.2193 - val_loss: 607.4255 - val_mae: 607.4255\n",
      "Epoch 23/100\n",
      "54/70 [======================>.......] - ETA: 0s - loss: 117.4148 - mae: 117.4148INFO:tensorflow:Assets written to: ./checkpoints\\model1d\\assets\n",
      "70/70 [==============================] - 1s 10ms/step - loss: 115.9794 - mae: 115.9794 - val_loss: 612.6027 - val_mae: 612.6027\n",
      "Epoch 24/100\n",
      "51/70 [====================>.........] - ETA: 0s - loss: 113.0355 - mae: 113.0355INFO:tensorflow:Assets written to: ./checkpoints\\model1d\\assets\n",
      "70/70 [==============================] - 1s 13ms/step - loss: 112.7400 - mae: 112.7400 - val_loss: 601.8728 - val_mae: 601.8728\n",
      "Epoch 25/100\n",
      "50/70 [====================>.........] - ETA: 0s - loss: 115.0870 - mae: 115.0870INFO:tensorflow:Assets written to: ./checkpoints\\model1d\\assets\n",
      "70/70 [==============================] - 1s 10ms/step - loss: 117.2389 - mae: 117.2389 - val_loss: 647.9584 - val_mae: 647.9584\n",
      "Epoch 26/100\n",
      "54/70 [======================>.......] - ETA: 0s - loss: 111.7159 - mae: 111.7159INFO:tensorflow:Assets written to: ./checkpoints\\model1d\\assets\n",
      "70/70 [==============================] - 1s 9ms/step - loss: 113.3997 - mae: 113.3997 - val_loss: 634.8489 - val_mae: 634.8489\n",
      "Epoch 27/100\n",
      "42/70 [=================>............] - ETA: 0s - loss: 112.8367 - mae: 112.8367INFO:tensorflow:Assets written to: ./checkpoints\\model1d\\assets\n",
      "70/70 [==============================] - 1s 11ms/step - loss: 120.4219 - mae: 120.4219 - val_loss: 609.9708 - val_mae: 609.9708\n",
      "Epoch 28/100\n",
      "55/70 [======================>.......] - ETA: 0s - loss: 116.2052 - mae: 116.2052INFO:tensorflow:Assets written to: ./checkpoints\\model1d\\assets\n",
      "70/70 [==============================] - 1s 10ms/step - loss: 113.9599 - mae: 113.9599 - val_loss: 584.2711 - val_mae: 584.2711\n",
      "Epoch 29/100\n",
      "50/70 [====================>.........] - ETA: 0s - loss: 112.2172 - mae: 112.2172INFO:tensorflow:Assets written to: ./checkpoints\\model1d\\assets\n",
      "70/70 [==============================] - 1s 9ms/step - loss: 111.9985 - mae: 111.9985 - val_loss: 578.9347 - val_mae: 578.9347\n"
     ]
    },
    {
     "name": "stdout",
     "output_type": "stream",
     "text": [
      "Epoch 30/100\n",
      "58/70 [=======================>......] - ETA: 0s - loss: 111.6513 - mae: 111.6513INFO:tensorflow:Assets written to: ./checkpoints\\model1d\\assets\n",
      "70/70 [==============================] - 1s 9ms/step - loss: 113.7861 - mae: 113.7861 - val_loss: 585.0046 - val_mae: 585.0046\n",
      "Epoch 31/100\n",
      "55/70 [======================>.......] - ETA: 0s - loss: 111.8695 - mae: 111.8695INFO:tensorflow:Assets written to: ./checkpoints\\model1d\\assets\n",
      "70/70 [==============================] - 1s 9ms/step - loss: 111.9854 - mae: 111.9854 - val_loss: 575.3853 - val_mae: 575.3853\n",
      "Epoch 32/100\n",
      "46/70 [==================>...........] - ETA: 0s - loss: 109.2923 - mae: 109.2923INFO:tensorflow:Assets written to: ./checkpoints\\model1d\\assets\n",
      "70/70 [==============================] - 1s 12ms/step - loss: 110.4998 - mae: 110.4998 - val_loss: 575.0331 - val_mae: 575.0331\n",
      "Epoch 33/100\n",
      "62/70 [=========================>....] - ETA: 0s - loss: 116.8256 - mae: 116.8256INFO:tensorflow:Assets written to: ./checkpoints\\model1d\\assets\n",
      "70/70 [==============================] - 1s 8ms/step - loss: 117.3896 - mae: 117.3896 - val_loss: 666.5674 - val_mae: 666.5674\n",
      "Epoch 34/100\n",
      "41/70 [================>.............] - ETA: 0s - loss: 114.2350 - mae: 114.2350INFO:tensorflow:Assets written to: ./checkpoints\\model1d\\assets\n",
      "70/70 [==============================] - 1s 11ms/step - loss: 112.2757 - mae: 112.2757 - val_loss: 573.6786 - val_mae: 573.6786\n",
      "Epoch 35/100\n",
      "34/70 [=============>................] - ETA: 0s - loss: 113.6428 - mae: 113.6428INFO:tensorflow:Assets written to: ./checkpoints\\model1d\\assets\n",
      "70/70 [==============================] - 1s 10ms/step - loss: 116.8439 - mae: 116.8439 - val_loss: 714.7289 - val_mae: 714.7289\n",
      "Epoch 36/100\n",
      "46/70 [==================>...........] - ETA: 0s - loss: 113.1896 - mae: 113.1896INFO:tensorflow:Assets written to: ./checkpoints\\model1d\\assets\n",
      "70/70 [==============================] - 1s 10ms/step - loss: 114.9505 - mae: 114.9505 - val_loss: 582.9304 - val_mae: 582.9304\n",
      "Epoch 37/100\n",
      "43/70 [=================>............] - ETA: 0s - loss: 111.1609 - mae: 111.1609INFO:tensorflow:Assets written to: ./checkpoints\\model1d\\assets\n",
      "70/70 [==============================] - 1s 10ms/step - loss: 110.2416 - mae: 110.2416 - val_loss: 570.8165 - val_mae: 570.8165\n",
      "Epoch 38/100\n",
      "48/70 [===================>..........] - ETA: 0s - loss: 112.7702 - mae: 112.7702INFO:tensorflow:Assets written to: ./checkpoints\\model1d\\assets\n",
      "70/70 [==============================] - 1s 10ms/step - loss: 116.0971 - mae: 116.0971 - val_loss: 593.8580 - val_mae: 593.8580\n",
      "Epoch 39/100\n",
      "46/70 [==================>...........] - ETA: 0s - loss: 113.1135 - mae: 113.1135INFO:tensorflow:Assets written to: ./checkpoints\\model1d\\assets\n",
      "70/70 [==============================] - 1s 9ms/step - loss: 110.8736 - mae: 110.8736 - val_loss: 583.5176 - val_mae: 583.5176\n",
      "Epoch 40/100\n",
      "44/70 [=================>............] - ETA: 0s - loss: 113.3511 - mae: 113.3511INFO:tensorflow:Assets written to: ./checkpoints\\model1d\\assets\n",
      "70/70 [==============================] - 1s 9ms/step - loss: 110.9257 - mae: 110.9257 - val_loss: 572.1601 - val_mae: 572.1601\n",
      "Epoch 41/100\n",
      "49/70 [====================>.........] - ETA: 0s - loss: 109.9642 - mae: 109.9642INFO:tensorflow:Assets written to: ./checkpoints\\model1d\\assets\n",
      "70/70 [==============================] - 1s 14ms/step - loss: 108.8638 - mae: 108.8638 - val_loss: 567.3873 - val_mae: 567.3873\n",
      "Epoch 42/100\n",
      "54/70 [======================>.......] - ETA: 0s - loss: 104.3993 - mae: 104.3993INFO:tensorflow:Assets written to: ./checkpoints\\model1d\\assets\n",
      "70/70 [==============================] - 1s 11ms/step - loss: 109.9188 - mae: 109.9188 - val_loss: 638.3862 - val_mae: 638.3862\n",
      "Epoch 43/100\n",
      "48/70 [===================>..........] - ETA: 0s - loss: 110.6294 - mae: 110.6294INFO:tensorflow:Assets written to: ./checkpoints\\model1d\\assets\n",
      "70/70 [==============================] - 1s 10ms/step - loss: 109.9843 - mae: 109.9843 - val_loss: 587.5830 - val_mae: 587.5830\n",
      "Epoch 44/100\n",
      "54/70 [======================>.......] - ETA: 0s - loss: 115.4090 - mae: 115.4090INFO:tensorflow:Assets written to: ./checkpoints\\model1d\\assets\n",
      "70/70 [==============================] - 1s 12ms/step - loss: 111.9539 - mae: 111.9539 - val_loss: 597.5197 - val_mae: 597.5197\n",
      "Epoch 45/100\n",
      "50/70 [====================>.........] - ETA: 0s - loss: 110.0888 - mae: 110.0888INFO:tensorflow:Assets written to: ./checkpoints\\model1d\\assets\n",
      "70/70 [==============================] - 1s 10ms/step - loss: 109.8290 - mae: 109.8290 - val_loss: 583.6223 - val_mae: 583.6223\n",
      "Epoch 46/100\n",
      "31/70 [============>.................] - ETA: 0s - loss: 120.6989 - mae: 120.6989INFO:tensorflow:Assets written to: ./checkpoints\\model1d\\assets\n",
      "70/70 [==============================] - 1s 10ms/step - loss: 111.3685 - mae: 111.3685 - val_loss: 578.7048 - val_mae: 578.7048\n",
      "Epoch 47/100\n",
      "45/70 [==================>...........] - ETA: 0s - loss: 109.7439 - mae: 109.7439INFO:tensorflow:Assets written to: ./checkpoints\\model1d\\assets\n",
      "70/70 [==============================] - 1s 10ms/step - loss: 108.6062 - mae: 108.6062 - val_loss: 590.1157 - val_mae: 590.1157\n",
      "Epoch 48/100\n",
      "46/70 [==================>...........] - ETA: 0s - loss: 110.5479 - mae: 110.5479INFO:tensorflow:Assets written to: ./checkpoints\\model1d\\assets\n",
      "70/70 [==============================] - 1s 10ms/step - loss: 113.3370 - mae: 113.3370 - val_loss: 593.3799 - val_mae: 593.3799\n",
      "Epoch 49/100\n",
      "51/70 [====================>.........] - ETA: 0s - loss: 107.8681 - mae: 107.8681INFO:tensorflow:Assets written to: ./checkpoints\\model1d\\assets\n",
      "70/70 [==============================] - 1s 10ms/step - loss: 108.6313 - mae: 108.6313 - val_loss: 609.3057 - val_mae: 609.3057\n",
      "Epoch 50/100\n",
      "48/70 [===================>..........] - ETA: 0s - loss: 109.9131 - mae: 109.9131INFO:tensorflow:Assets written to: ./checkpoints\\model1d\\assets\n",
      "70/70 [==============================] - 1s 13ms/step - loss: 113.5526 - mae: 113.5526 - val_loss: 569.5153 - val_mae: 569.5153\n",
      "Epoch 51/100\n",
      "52/70 [=====================>........] - ETA: 0s - loss: 117.2105 - mae: 117.2105INFO:tensorflow:Assets written to: ./checkpoints\\model1d\\assets\n",
      "70/70 [==============================] - 1s 9ms/step - loss: 114.4537 - mae: 114.4537 - val_loss: 604.3906 - val_mae: 604.3906\n",
      "Epoch 52/100\n",
      "49/70 [====================>.........] - ETA: 0s - loss: 113.1125 - mae: 113.1125INFO:tensorflow:Assets written to: ./checkpoints\\model1d\\assets\n",
      "70/70 [==============================] - 1s 9ms/step - loss: 111.8835 - mae: 111.8835 - val_loss: 569.0992 - val_mae: 569.0992\n",
      "Epoch 53/100\n",
      "46/70 [==================>...........] - ETA: 0s - loss: 116.9365 - mae: 116.9365INFO:tensorflow:Assets written to: ./checkpoints\\model1d\\assets\n",
      "70/70 [==============================] - 1s 10ms/step - loss: 114.4338 - mae: 114.4338 - val_loss: 577.4291 - val_mae: 577.4291\n",
      "Epoch 54/100\n",
      "43/70 [=================>............] - ETA: 0s - loss: 105.5162 - mae: 105.5162INFO:tensorflow:Assets written to: ./checkpoints\\model1d\\assets\n",
      "70/70 [==============================] - 1s 9ms/step - loss: 108.3706 - mae: 108.3706 - val_loss: 615.6503 - val_mae: 615.6503\n",
      "Epoch 55/100\n",
      "50/70 [====================>.........] - ETA: 0s - loss: 107.9300 - mae: 107.9300INFO:tensorflow:Assets written to: ./checkpoints\\model1d\\assets\n",
      "70/70 [==============================] - 1s 9ms/step - loss: 109.9297 - mae: 109.9297 - val_loss: 565.0791 - val_mae: 565.0791\n",
      "Epoch 56/100\n",
      "46/70 [==================>...........] - ETA: 0s - loss: 106.6496 - mae: 106.6496INFO:tensorflow:Assets written to: ./checkpoints\\model1d\\assets\n",
      "70/70 [==============================] - 1s 11ms/step - loss: 109.7591 - mae: 109.7591 - val_loss: 564.6263 - val_mae: 564.6263\n",
      "Epoch 57/100\n",
      "37/70 [==============>...............] - ETA: 0s - loss: 105.7550 - mae: 105.7550INFO:tensorflow:Assets written to: ./checkpoints\\model1d\\assets\n",
      "70/70 [==============================] - 1s 10ms/step - loss: 109.6382 - mae: 109.6382 - val_loss: 564.1268 - val_mae: 564.1268\n",
      "Epoch 58/100\n",
      "50/70 [====================>.........] - ETA: 0s - loss: 112.4597 - mae: 112.4597INFO:tensorflow:Assets written to: ./checkpoints\\model1d\\assets\n",
      "70/70 [==============================] - 1s 12ms/step - loss: 109.4824 - mae: 109.4824 - val_loss: 581.1440 - val_mae: 581.1440\n"
     ]
    },
    {
     "name": "stdout",
     "output_type": "stream",
     "text": [
      "Epoch 59/100\n",
      "45/70 [==================>...........] - ETA: 0s - loss: 105.7524 - mae: 105.7524INFO:tensorflow:Assets written to: ./checkpoints\\model1d\\assets\n",
      "70/70 [==============================] - 1s 9ms/step - loss: 111.3025 - mae: 111.3025 - val_loss: 585.5584 - val_mae: 585.5584\n",
      "Epoch 60/100\n",
      "53/70 [=====================>........] - ETA: 0s - loss: 105.5347 - mae: 105.5347INFO:tensorflow:Assets written to: ./checkpoints\\model1d\\assets\n",
      "70/70 [==============================] - 1s 11ms/step - loss: 107.0102 - mae: 107.0102 - val_loss: 583.2849 - val_mae: 583.2849\n",
      "Epoch 61/100\n",
      "37/70 [==============>...............] - ETA: 0s - loss: 110.7580 - mae: 110.7580INFO:tensorflow:Assets written to: ./checkpoints\\model1d\\assets\n",
      "70/70 [==============================] - 1s 9ms/step - loss: 108.6216 - mae: 108.6216 - val_loss: 567.5464 - val_mae: 567.5464\n",
      "Epoch 62/100\n",
      "41/70 [================>.............] - ETA: 0s - loss: 114.2828 - mae: 114.2828INFO:tensorflow:Assets written to: ./checkpoints\\model1d\\assets\n",
      "70/70 [==============================] - 1s 10ms/step - loss: 113.6616 - mae: 113.6616 - val_loss: 573.4152 - val_mae: 573.4152\n",
      "Epoch 63/100\n",
      "36/70 [==============>...............] - ETA: 0s - loss: 104.9961 - mae: 104.9961INFO:tensorflow:Assets written to: ./checkpoints\\model1d\\assets\n",
      "70/70 [==============================] - 1s 10ms/step - loss: 109.0545 - mae: 109.0545 - val_loss: 571.9103 - val_mae: 571.9103\n",
      "Epoch 64/100\n",
      "49/70 [====================>.........] - ETA: 0s - loss: 109.3639 - mae: 109.3639INFO:tensorflow:Assets written to: ./checkpoints\\model1d\\assets\n",
      "70/70 [==============================] - 1s 11ms/step - loss: 109.6328 - mae: 109.6328 - val_loss: 564.9832 - val_mae: 564.9832\n",
      "Epoch 65/100\n",
      "47/70 [===================>..........] - ETA: 0s - loss: 112.3027 - mae: 112.3027INFO:tensorflow:Assets written to: ./checkpoints\\model1d\\assets\n",
      "70/70 [==============================] - 1s 11ms/step - loss: 111.0730 - mae: 111.0730 - val_loss: 563.8281 - val_mae: 563.8281\n",
      "Epoch 66/100\n",
      "51/70 [====================>.........] - ETA: 0s - loss: 110.8982 - mae: 110.8982INFO:tensorflow:Assets written to: ./checkpoints\\model1d\\assets\n",
      "70/70 [==============================] - 1s 13ms/step - loss: 111.1664 - mae: 111.1664 - val_loss: 563.6291 - val_mae: 563.6291\n",
      "Epoch 67/100\n",
      "48/70 [===================>..........] - ETA: 0s - loss: 112.7436 - mae: 112.7436INFO:tensorflow:Assets written to: ./checkpoints\\model1d\\assets\n",
      "70/70 [==============================] - 1s 9ms/step - loss: 111.0120 - mae: 111.0120 - val_loss: 640.7823 - val_mae: 640.7823\n",
      "Epoch 68/100\n",
      "44/70 [=================>............] - ETA: 0s - loss: 112.9103 - mae: 112.9103INFO:tensorflow:Assets written to: ./checkpoints\\model1d\\assets\n",
      "70/70 [==============================] - 1s 9ms/step - loss: 115.3302 - mae: 115.3302 - val_loss: 774.9946 - val_mae: 774.9946\n",
      "Epoch 69/100\n",
      "48/70 [===================>..........] - ETA: 0s - loss: 112.4121 - mae: 112.4121INFO:tensorflow:Assets written to: ./checkpoints\\model1d\\assets\n",
      "70/70 [==============================] - 1s 10ms/step - loss: 112.9861 - mae: 112.9861 - val_loss: 836.6087 - val_mae: 836.6087\n",
      "Epoch 70/100\n",
      "51/70 [====================>.........] - ETA: 0s - loss: 117.0732 - mae: 117.0732INFO:tensorflow:Assets written to: ./checkpoints\\model1d\\assets\n",
      "70/70 [==============================] - 1s 10ms/step - loss: 113.6492 - mae: 113.6492 - val_loss: 563.6732 - val_mae: 563.6732\n",
      "Epoch 71/100\n",
      "47/70 [===================>..........] - ETA: 0s - loss: 117.9639 - mae: 117.9639INFO:tensorflow:Assets written to: ./checkpoints\\model1d\\assets\n",
      "70/70 [==============================] - 1s 9ms/step - loss: 116.1866 - mae: 116.1866 - val_loss: 584.6572 - val_mae: 584.6572\n",
      "Epoch 72/100\n",
      "48/70 [===================>..........] - ETA: 0s - loss: 108.8794 - mae: 108.8794INFO:tensorflow:Assets written to: ./checkpoints\\model1d\\assets\n",
      "70/70 [==============================] - 1s 10ms/step - loss: 107.8065 - mae: 107.8065 - val_loss: 573.5479 - val_mae: 573.5479\n",
      "Epoch 73/100\n",
      "47/70 [===================>..........] - ETA: 0s - loss: 107.6063 - mae: 107.6063INFO:tensorflow:Assets written to: ./checkpoints\\model1d\\assets\n",
      "70/70 [==============================] - 1s 9ms/step - loss: 112.4821 - mae: 112.4821 - val_loss: 588.7236 - val_mae: 588.7236\n",
      "Epoch 74/100\n",
      "50/70 [====================>.........] - ETA: 0s - loss: 111.4347 - mae: 111.4347INFO:tensorflow:Assets written to: ./checkpoints\\model1d\\assets\n",
      "70/70 [==============================] - 1s 9ms/step - loss: 109.6024 - mae: 109.6024 - val_loss: 567.1692 - val_mae: 567.1692\n",
      "Epoch 75/100\n",
      "49/70 [====================>.........] - ETA: 0s - loss: 110.5601 - mae: 110.5601INFO:tensorflow:Assets written to: ./checkpoints\\model1d\\assets\n",
      "70/70 [==============================] - 1s 14ms/step - loss: 109.8945 - mae: 109.8945 - val_loss: 798.2572 - val_mae: 798.2572\n",
      "Epoch 76/100\n",
      "49/70 [====================>.........] - ETA: 0s - loss: 118.9349 - mae: 118.9349INFO:tensorflow:Assets written to: ./checkpoints\\model1d\\assets\n",
      "70/70 [==============================] - 1s 9ms/step - loss: 112.5861 - mae: 112.5861 - val_loss: 567.0115 - val_mae: 567.0115\n",
      "Epoch 77/100\n",
      "49/70 [====================>.........] - ETA: 0s - loss: 117.3899 - mae: 117.3899INFO:tensorflow:Assets written to: ./checkpoints\\model1d\\assets\n",
      "70/70 [==============================] - 1s 10ms/step - loss: 110.5758 - mae: 110.5758 - val_loss: 575.7842 - val_mae: 575.7842\n",
      "Epoch 78/100\n",
      "53/70 [=====================>........] - ETA: 0s - loss: 111.2676 - mae: 111.2676INFO:tensorflow:Assets written to: ./checkpoints\\model1d\\assets\n",
      "70/70 [==============================] - 1s 9ms/step - loss: 111.0802 - mae: 111.0802 - val_loss: 607.2700 - val_mae: 607.2700\n",
      "Epoch 79/100\n",
      "47/70 [===================>..........] - ETA: 0s - loss: 110.5676 - mae: 110.5676INFO:tensorflow:Assets written to: ./checkpoints\\model1d\\assets\n",
      "70/70 [==============================] - 1s 10ms/step - loss: 107.7582 - mae: 107.7582 - val_loss: 599.1560 - val_mae: 599.1560\n",
      "Epoch 80/100\n",
      "55/70 [======================>.......] - ETA: 0s - loss: 105.8898 - mae: 105.8898INFO:tensorflow:Assets written to: ./checkpoints\\model1d\\assets\n",
      "70/70 [==============================] - 1s 9ms/step - loss: 106.2188 - mae: 106.2188 - val_loss: 563.6470 - val_mae: 563.6470\n",
      "Epoch 81/100\n",
      "53/70 [=====================>........] - ETA: 0s - loss: 110.7346 - mae: 110.7346INFO:tensorflow:Assets written to: ./checkpoints\\model1d\\assets\n",
      "70/70 [==============================] - 1s 9ms/step - loss: 110.1525 - mae: 110.1525 - val_loss: 629.8667 - val_mae: 629.8667\n",
      "Epoch 82/100\n",
      "53/70 [=====================>........] - ETA: 0s - loss: 102.0945 - mae: 102.0945INFO:tensorflow:Assets written to: ./checkpoints\\model1d\\assets\n",
      "70/70 [==============================] - 1s 9ms/step - loss: 109.4700 - mae: 109.4700 - val_loss: 610.7117 - val_mae: 610.7117\n",
      "Epoch 83/100\n",
      "49/70 [====================>.........] - ETA: 0s - loss: 110.8833 - mae: 110.8833INFO:tensorflow:Assets written to: ./checkpoints\\model1d\\assets\n",
      "70/70 [==============================] - 1s 9ms/step - loss: 109.4526 - mae: 109.4526 - val_loss: 636.6928 - val_mae: 636.6928\n",
      "Epoch 84/100\n",
      "51/70 [====================>.........] - ETA: 0s - loss: 108.2046 - mae: 108.2046INFO:tensorflow:Assets written to: ./checkpoints\\model1d\\assets\n",
      "70/70 [==============================] - 1s 12ms/step - loss: 111.4154 - mae: 111.4154 - val_loss: 612.3680 - val_mae: 612.3680\n",
      "Epoch 85/100\n",
      "49/70 [====================>.........] - ETA: 0s - loss: 104.4675 - mae: 104.4675INFO:tensorflow:Assets written to: ./checkpoints\\model1d\\assets\n",
      "70/70 [==============================] - 1s 9ms/step - loss: 108.8880 - mae: 108.8880 - val_loss: 574.7980 - val_mae: 574.7980\n",
      "Epoch 86/100\n",
      "39/70 [===============>..............] - ETA: 0s - loss: 113.1248 - mae: 113.1248INFO:tensorflow:Assets written to: ./checkpoints\\model1d\\assets\n",
      "70/70 [==============================] - 1s 10ms/step - loss: 108.0082 - mae: 108.0082 - val_loss: 652.7587 - val_mae: 652.7587\n",
      "Epoch 87/100\n",
      "58/70 [=======================>......] - ETA: 0s - loss: 109.0397 - mae: 109.0397INFO:tensorflow:Assets written to: ./checkpoints\\model1d\\assets\n",
      "70/70 [==============================] - 1s 10ms/step - loss: 108.6071 - mae: 108.6071 - val_loss: 622.9648 - val_mae: 622.9648\n"
     ]
    },
    {
     "name": "stdout",
     "output_type": "stream",
     "text": [
      "Epoch 88/100\n",
      "54/70 [======================>.......] - ETA: 0s - loss: 109.4036 - mae: 109.4036INFO:tensorflow:Assets written to: ./checkpoints\\model1d\\assets\n",
      "70/70 [==============================] - 1s 10ms/step - loss: 111.8402 - mae: 111.8402 - val_loss: 615.1401 - val_mae: 615.1401\n",
      "Epoch 89/100\n",
      "48/70 [===================>..........] - ETA: 0s - loss: 114.3969 - mae: 114.3969INFO:tensorflow:Assets written to: ./checkpoints\\model1d\\assets\n",
      "70/70 [==============================] - 1s 10ms/step - loss: 110.6444 - mae: 110.6444 - val_loss: 564.7997 - val_mae: 564.7997\n",
      "Epoch 90/100\n",
      "41/70 [================>.............] - ETA: 0s - loss: 114.3316 - mae: 114.3316INFO:tensorflow:Assets written to: ./checkpoints\\model1d\\assets\n",
      "70/70 [==============================] - 1s 10ms/step - loss: 107.6360 - mae: 107.6360 - val_loss: 571.3332 - val_mae: 571.3332\n",
      "Epoch 91/100\n",
      "49/70 [====================>.........] - ETA: 0s - loss: 109.1868 - mae: 109.1868INFO:tensorflow:Assets written to: ./checkpoints\\model1d\\assets\n",
      "70/70 [==============================] - 1s 10ms/step - loss: 111.6937 - mae: 111.6937 - val_loss: 571.8386 - val_mae: 571.8386\n",
      "Epoch 92/100\n",
      "46/70 [==================>...........] - ETA: 0s - loss: 107.0665 - mae: 107.0665INFO:tensorflow:Assets written to: ./checkpoints\\model1d\\assets\n",
      "70/70 [==============================] - 1s 10ms/step - loss: 111.4474 - mae: 111.4474 - val_loss: 565.4233 - val_mae: 565.4233\n",
      "Epoch 93/100\n",
      "35/70 [==============>...............] - ETA: 0s - loss: 99.5842 - mae: 99.5842INFO:tensorflow:Assets written to: ./checkpoints\\model1d\\assets\n",
      "70/70 [==============================] - 1s 14ms/step - loss: 112.4273 - mae: 112.4273 - val_loss: 570.9026 - val_mae: 570.9026\n",
      "Epoch 94/100\n",
      "53/70 [=====================>........] - ETA: 0s - loss: 111.3501 - mae: 111.3501INFO:tensorflow:Assets written to: ./checkpoints\\model1d\\assets\n",
      "70/70 [==============================] - 1s 10ms/step - loss: 108.1317 - mae: 108.1317 - val_loss: 640.6838 - val_mae: 640.6838\n",
      "Epoch 95/100\n",
      "44/70 [=================>............] - ETA: 0s - loss: 106.0608 - mae: 106.0608INFO:tensorflow:Assets written to: ./checkpoints\\model1d\\assets\n",
      "70/70 [==============================] - 1s 11ms/step - loss: 109.1224 - mae: 109.1224 - val_loss: 563.7880 - val_mae: 563.7880\n",
      "Epoch 96/100\n",
      "54/70 [======================>.......] - ETA: 0s - loss: 108.8249 - mae: 108.8249INFO:tensorflow:Assets written to: ./checkpoints\\model1d\\assets\n",
      "70/70 [==============================] - 1s 10ms/step - loss: 112.1172 - mae: 112.1172 - val_loss: 634.1616 - val_mae: 634.1616\n",
      "Epoch 97/100\n",
      "49/70 [====================>.........] - ETA: 0s - loss: 108.6779 - mae: 108.6779INFO:tensorflow:Assets written to: ./checkpoints\\model1d\\assets\n",
      "70/70 [==============================] - 1s 9ms/step - loss: 110.4862 - mae: 110.4862 - val_loss: 567.5056 - val_mae: 567.5056\n",
      "Epoch 98/100\n",
      "48/70 [===================>..........] - ETA: 0s - loss: 113.3463 - mae: 113.3463INFO:tensorflow:Assets written to: ./checkpoints\\model1d\\assets\n",
      "70/70 [==============================] - 1s 10ms/step - loss: 112.4035 - mae: 112.4035 - val_loss: 750.5643 - val_mae: 750.5643\n",
      "Epoch 99/100\n",
      "49/70 [====================>.........] - ETA: 0s - loss: 117.1019 - mae: 117.1019INFO:tensorflow:Assets written to: ./checkpoints\\model1d\\assets\n",
      "70/70 [==============================] - 1s 10ms/step - loss: 112.9055 - mae: 112.9055 - val_loss: 692.8394 - val_mae: 692.8394\n",
      "Epoch 100/100\n",
      "47/70 [===================>..........] - ETA: 0s - loss: 112.4236 - mae: 112.4236INFO:tensorflow:Assets written to: ./checkpoints\\model1d\\assets\n",
      "70/70 [==============================] - 1s 10ms/step - loss: 110.4233 - mae: 110.4233 - val_loss: 613.4019 - val_mae: 613.4019\n"
     ]
    },
    {
     "data": {
      "text/plain": [
       "<keras.callbacks.History at 0x14f732b1880>"
      ]
     },
     "execution_count": 28,
     "metadata": {},
     "output_type": "execute_result"
    }
   ],
   "source": [
    "# create model\n",
    "from tensorflow.keras.layers import Lambda, Dense, Conv1D\n",
    "model1d = tf.keras.Sequential([\n",
    "    Lambda(lambda x: tf.expand_dims(x, axis=1)),\n",
    "    Conv1D(filters=128, kernel_size=5, padding='causal', activation='relu'),\n",
    "    Dense(1)\n",
    "])\n",
    "model1d.compile(loss='mae', optimizer='adam', metrics='mae')\n",
    "filepath='./checkpoints/model1d'\n",
    "callback = tf.keras.callbacks.ModelCheckpoint(filepath=filepath)\n",
    "\n",
    "model1d.fit(trainw,trainl,epochs=100,callbacks=callback,validation_data=(testw,testl))\n"
   ]
  },
  {
   "cell_type": "code",
   "execution_count": 29,
   "id": "e5e3505c",
   "metadata": {},
   "outputs": [
    {
     "name": "stdout",
     "output_type": "stream",
     "text": [
      "18/18 [==============================] - 0s 959us/step - loss: 613.4019 - mae: 613.4019\n"
     ]
    },
    {
     "data": {
      "text/plain": [
       "[613.4019165039062, 613.4019165039062]"
      ]
     },
     "execution_count": 29,
     "metadata": {},
     "output_type": "execute_result"
    }
   ],
   "source": [
    "model1d.evaluate(testw,testl)"
   ]
  },
  {
   "cell_type": "code",
   "execution_count": 30,
   "id": "29d53867",
   "metadata": {},
   "outputs": [
    {
     "name": "stdout",
     "output_type": "stream",
     "text": [
      "18/18 [==============================] - 0s 941us/step - loss: 613.4019 - mae: 613.4019\n"
     ]
    },
    {
     "data": {
      "text/plain": [
       "[613.4019165039062, 613.4019165039062]"
      ]
     },
     "execution_count": 30,
     "metadata": {},
     "output_type": "execute_result"
    }
   ],
   "source": [
    "bestmodel1d=tf.keras.models.load_model(filepath)\n",
    "bestmodel1d.evaluate(testw,testl)"
   ]
  },
  {
   "cell_type": "code",
   "execution_count": null,
   "id": "ca36c33d",
   "metadata": {},
   "outputs": [],
   "source": []
  },
  {
   "cell_type": "code",
   "execution_count": null,
   "id": "08d20ce7",
   "metadata": {},
   "outputs": [],
   "source": []
  },
  {
   "cell_type": "code",
   "execution_count": null,
   "id": "db7ec381",
   "metadata": {},
   "outputs": [],
   "source": []
  },
  {
   "cell_type": "code",
   "execution_count": null,
   "id": "fa4edad9",
   "metadata": {},
   "outputs": [],
   "source": []
  },
  {
   "cell_type": "code",
   "execution_count": null,
   "id": "3b744011",
   "metadata": {},
   "outputs": [],
   "source": []
  },
  {
   "cell_type": "code",
   "execution_count": null,
   "id": "cc19e15d",
   "metadata": {},
   "outputs": [],
   "source": []
  },
  {
   "cell_type": "code",
   "execution_count": null,
   "id": "752f8f5d",
   "metadata": {},
   "outputs": [],
   "source": []
  }
 ],
 "metadata": {
  "kernelspec": {
   "display_name": "Anaconda (base)",
   "language": "python",
   "name": "anaconda-base"
  },
  "language_info": {
   "codemirror_mode": {
    "name": "ipython",
    "version": 3
   },
   "file_extension": ".py",
   "mimetype": "text/x-python",
   "name": "python",
   "nbconvert_exporter": "python",
   "pygments_lexer": "ipython3",
   "version": "3.9.7"
  }
 },
 "nbformat": 4,
 "nbformat_minor": 5
}
