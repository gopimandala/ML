{
 "cells": [
  {
   "cell_type": "code",
   "execution_count": 1,
   "id": "90a5876b",
   "metadata": {
    "scrolled": true
   },
   "outputs": [
    {
     "data": {
      "text/html": [
       "<div>\n",
       "<style scoped>\n",
       "    .dataframe tbody tr th:only-of-type {\n",
       "        vertical-align: middle;\n",
       "    }\n",
       "\n",
       "    .dataframe tbody tr th {\n",
       "        vertical-align: top;\n",
       "    }\n",
       "\n",
       "    .dataframe thead th {\n",
       "        text-align: right;\n",
       "    }\n",
       "</style>\n",
       "<table border=\"1\" class=\"dataframe\">\n",
       "  <thead>\n",
       "    <tr style=\"text-align: right;\">\n",
       "      <th></th>\n",
       "      <th>id</th>\n",
       "      <th>keyword</th>\n",
       "      <th>location</th>\n",
       "      <th>text</th>\n",
       "      <th>target</th>\n",
       "    </tr>\n",
       "  </thead>\n",
       "  <tbody>\n",
       "    <tr>\n",
       "      <th>0</th>\n",
       "      <td>1</td>\n",
       "      <td>NaN</td>\n",
       "      <td>NaN</td>\n",
       "      <td>Our Deeds are the Reason of this #earthquake M...</td>\n",
       "      <td>1</td>\n",
       "    </tr>\n",
       "    <tr>\n",
       "      <th>1</th>\n",
       "      <td>4</td>\n",
       "      <td>NaN</td>\n",
       "      <td>NaN</td>\n",
       "      <td>Forest fire near La Ronge Sask. Canada</td>\n",
       "      <td>1</td>\n",
       "    </tr>\n",
       "    <tr>\n",
       "      <th>2</th>\n",
       "      <td>5</td>\n",
       "      <td>NaN</td>\n",
       "      <td>NaN</td>\n",
       "      <td>All residents asked to 'shelter in place' are ...</td>\n",
       "      <td>1</td>\n",
       "    </tr>\n",
       "    <tr>\n",
       "      <th>3</th>\n",
       "      <td>6</td>\n",
       "      <td>NaN</td>\n",
       "      <td>NaN</td>\n",
       "      <td>13,000 people receive #wildfires evacuation or...</td>\n",
       "      <td>1</td>\n",
       "    </tr>\n",
       "    <tr>\n",
       "      <th>4</th>\n",
       "      <td>7</td>\n",
       "      <td>NaN</td>\n",
       "      <td>NaN</td>\n",
       "      <td>Just got sent this photo from Ruby #Alaska as ...</td>\n",
       "      <td>1</td>\n",
       "    </tr>\n",
       "  </tbody>\n",
       "</table>\n",
       "</div>"
      ],
      "text/plain": [
       "   id keyword location                                               text  \\\n",
       "0   1     NaN      NaN  Our Deeds are the Reason of this #earthquake M...   \n",
       "1   4     NaN      NaN             Forest fire near La Ronge Sask. Canada   \n",
       "2   5     NaN      NaN  All residents asked to 'shelter in place' are ...   \n",
       "3   6     NaN      NaN  13,000 people receive #wildfires evacuation or...   \n",
       "4   7     NaN      NaN  Just got sent this photo from Ruby #Alaska as ...   \n",
       "\n",
       "   target  \n",
       "0       1  \n",
       "1       1  \n",
       "2       1  \n",
       "3       1  \n",
       "4       1  "
      ]
     },
     "execution_count": 1,
     "metadata": {},
     "output_type": "execute_result"
    }
   ],
   "source": [
    "# Download data (same as from Kaggle)\n",
    "#!wget \"https://storage.googleapis.com/ztm_tf_course/nlp_getting_started.zip\"\n",
    "\n",
    "# # Unzip the downloaded file - will have train.csv and test.csv files\n",
    "import zipfile\n",
    "zip_ref = zipfile.ZipFile(\"nlp_getting_started.zip\", \"r\")  \n",
    "zip_ref.extractall()\n",
    "zip_ref.close()\n",
    "# Turn .csv files into pandas DataFrame's\n",
    "import pandas as pd\n",
    "train_df = pd.read_csv(\"train.csv\")\n",
    "test_df = pd.read_csv(\"test.csv\")\n",
    "train_df.head()"
   ]
  },
  {
   "cell_type": "code",
   "execution_count": 2,
   "id": "37dff685",
   "metadata": {},
   "outputs": [],
   "source": [
    "#!pip install tensorflow_hub"
   ]
  },
  {
   "cell_type": "code",
   "execution_count": 3,
   "id": "3e3ac32a",
   "metadata": {},
   "outputs": [
    {
     "name": "stdout",
     "output_type": "stream",
     "text": [
      "        id      keyword location  \\\n",
      "2644  3796  destruction      NaN   \n",
      "2227  3185       deluge      NaN   \n",
      "\n",
      "                                                   text  target  \n",
      "2644  So you have a new weapon that can cause un-ima...       1  \n",
      "2227  The f$&amp;@ing things I do for #GISHWHES Just...       0  \n",
      "\n",
      " 0    4342\n",
      "1    3271\n",
      "Name: target, dtype: int64\n",
      "Total training samples: 7613\n",
      "Total test samples: 3263\n",
      "Total samples: 10876\n"
     ]
    }
   ],
   "source": [
    "# Shuffle training dataframe\n",
    "train_df_shuffled = train_df.sample(frac=1, random_state=42) # shuffle with random_state=42 for reproducibility\n",
    "print(train_df_shuffled.head(2))\n",
    "# How many examples of each class?\n",
    "print(\"\\n\",train_df.target.value_counts())\n",
    "# How many samples total?\n",
    "print(f\"Total training samples: {len(train_df)}\")\n",
    "print(f\"Total test samples: {len(test_df)}\")\n",
    "print(f\"Total samples: {len(train_df) + len(test_df)}\")"
   ]
  },
  {
   "cell_type": "code",
   "execution_count": 4,
   "id": "33904360",
   "metadata": {},
   "outputs": [
    {
     "data": {
      "text/plain": [
       "(6851, 6851, 762, 762)"
      ]
     },
     "execution_count": 4,
     "metadata": {},
     "output_type": "execute_result"
    }
   ],
   "source": [
    "# Since the test set has no labels and we need a way to evalaute our trained models, we'll split off some of the training data and create a validation set.\n",
    "from sklearn.model_selection import train_test_split\n",
    "\n",
    "# Use train_test_split to split training data into training and validation sets\n",
    "train_sentences, val_sentences, train_labels, val_labels = train_test_split(train_df_shuffled[\"text\"].to_numpy(),\n",
    "                                                                            train_df_shuffled[\"target\"].to_numpy(),\n",
    "                                                                            test_size=0.1, # dedicate 10% of samples to validation set\n",
    "                                                                            random_state=42) # random state for reproducibility\n",
    "# Check the lengths\n",
    "len(train_sentences), len(train_labels), len(val_sentences), len(val_labels)"
   ]
  },
  {
   "cell_type": "code",
   "execution_count": 5,
   "id": "66cf968e",
   "metadata": {},
   "outputs": [
    {
     "data": {
      "text/plain": [
       "(array(['@mogacola @zamtriossu i screamed after hitting tweet',\n",
       "        'Imagine getting flattened by Kurt Zouma'], dtype=object),\n",
       " array([0, 0], dtype=int64))"
      ]
     },
     "execution_count": 5,
     "metadata": {},
     "output_type": "execute_result"
    }
   ],
   "source": [
    "# View the first few training sentences and their labels\n",
    "train_sentences[:2], train_labels[:2]"
   ]
  },
  {
   "cell_type": "code",
   "execution_count": 94,
   "id": "1f38458b",
   "metadata": {},
   "outputs": [],
   "source": [
    "# Example of pretrained embedding with universal sentence encoder - https://tfhub.dev/google/universal-sentence-encoder/4\n",
    "import tensorflow as tf\n",
    "import tensorflow_hub as hub\n",
    "from tensorflow.keras.layers import Dense, Dropout\n",
    "from tensorflow.keras.callbacks import ModelCheckpoint, ReduceLROnPlateau, EarlyStopping\n",
    "\n",
    "tf.keras.backend.clear_session()\n",
    "\n",
    "sentence_encoder_layer = hub.KerasLayer(\"https://tfhub.dev/google/universal-sentence-encoder/4\",\n",
    "                                        input_shape=[], # shape of inputs coming to our model \n",
    "                                        dtype=tf.string, # data type of inputs coming to the USE layer\n",
    "                                        trainable=False, # keep the pretrained weights (we'll create a feature extractor)\n",
    "                                        name=\"USE\")\n",
    "# Create model using the Sequential API\n",
    "model = tf.keras.Sequential([\n",
    "  sentence_encoder_layer, # take in sentences and then encode them into an embedding\n",
    "  Dense(64, activation=\"relu\"),\n",
    "  Dropout(rate=0.5),\n",
    "  Dense(32, activation=\"relu\"),\n",
    "  Dropout(rate=0.5),\n",
    "  Dense(1, activation=\"sigmoid\")\n",
    "], name=\"model_6_USE\")\n",
    "\n",
    "# Compile model\n",
    "model.compile(loss=\"binary_crossentropy\",\n",
    "                optimizer=tf.keras.optimizers.Adam(lr=0.02),\n",
    "                metrics=[\"accuracy\"])\n",
    "\n",
    "\n",
    "filepath='./my_nlp_model.h5'\n",
    "modelcheckpoint = ModelCheckpoint(filepath=filepath, save_best_only=True)\n",
    "\n",
    "\n",
    "reduce_lr = ReduceLROnPlateau(monitor='val_accuracy', factor=0.1,\n",
    "                              patience=5, \n",
    "                              min_delta=0.01,\n",
    "                              mode='min',\n",
    "                              min_lr=0.0001)\n",
    "\n",
    "earlystopping = EarlyStopping(monitor='val_accuracy',\n",
    "                             min_delta=0.0001,\n",
    "                             patience=10)\n",
    "\n",
    "callbacks = [modelcheckpoint,reduce_lr,earlystopping]\n",
    "\n",
    "#model.summary()"
   ]
  },
  {
   "cell_type": "code",
   "execution_count": 95,
   "id": "53236686",
   "metadata": {},
   "outputs": [
    {
     "name": "stdout",
     "output_type": "stream",
     "text": [
      "Epoch 1/50\n",
      "215/215 [==============================] - 6s 18ms/step - loss: 0.5036 - accuracy: 0.7762 - val_loss: 0.4616 - val_accuracy: 0.8058 - lr: 0.0200\n",
      "Epoch 2/50\n",
      "215/215 [==============================] - 4s 17ms/step - loss: 0.4591 - accuracy: 0.8050 - val_loss: 0.4406 - val_accuracy: 0.8176 - lr: 0.0200\n",
      "Epoch 3/50\n",
      "215/215 [==============================] - 4s 17ms/step - loss: 0.4378 - accuracy: 0.8130 - val_loss: 0.4299 - val_accuracy: 0.8176 - lr: 0.0200\n",
      "Epoch 4/50\n",
      "215/215 [==============================] - 2s 9ms/step - loss: 0.4243 - accuracy: 0.8205 - val_loss: 0.4404 - val_accuracy: 0.8084 - lr: 0.0200\n",
      "Epoch 5/50\n",
      "215/215 [==============================] - 2s 8ms/step - loss: 0.4051 - accuracy: 0.8248 - val_loss: 0.4330 - val_accuracy: 0.8071 - lr: 0.0200\n",
      "Epoch 6/50\n",
      "215/215 [==============================] - 2s 9ms/step - loss: 0.3960 - accuracy: 0.8279 - val_loss: 0.4427 - val_accuracy: 0.8228 - lr: 0.0200\n",
      "Epoch 7/50\n",
      "215/215 [==============================] - 2s 8ms/step - loss: 0.3623 - accuracy: 0.8437 - val_loss: 0.4367 - val_accuracy: 0.8268 - lr: 0.0020\n",
      "Epoch 8/50\n",
      "215/215 [==============================] - 2s 9ms/step - loss: 0.3476 - accuracy: 0.8510 - val_loss: 0.4459 - val_accuracy: 0.8255 - lr: 0.0020\n",
      "Epoch 9/50\n",
      "215/215 [==============================] - 2s 8ms/step - loss: 0.3391 - accuracy: 0.8545 - val_loss: 0.4495 - val_accuracy: 0.8281 - lr: 0.0020\n",
      "Epoch 10/50\n",
      "215/215 [==============================] - 2s 8ms/step - loss: 0.3330 - accuracy: 0.8615 - val_loss: 0.4557 - val_accuracy: 0.8255 - lr: 0.0020\n",
      "Epoch 11/50\n",
      "215/215 [==============================] - 2s 8ms/step - loss: 0.3222 - accuracy: 0.8606 - val_loss: 0.4720 - val_accuracy: 0.8268 - lr: 0.0020\n",
      "Epoch 12/50\n",
      "215/215 [==============================] - 2s 8ms/step - loss: 0.3110 - accuracy: 0.8662 - val_loss: 0.4717 - val_accuracy: 0.8333 - lr: 2.0000e-04\n",
      "Epoch 13/50\n",
      "215/215 [==============================] - 2s 8ms/step - loss: 0.3083 - accuracy: 0.8743 - val_loss: 0.4719 - val_accuracy: 0.8294 - lr: 2.0000e-04\n",
      "Epoch 14/50\n",
      "215/215 [==============================] - 2s 8ms/step - loss: 0.3126 - accuracy: 0.8672 - val_loss: 0.4722 - val_accuracy: 0.8307 - lr: 2.0000e-04\n",
      "Epoch 15/50\n",
      "215/215 [==============================] - 2s 9ms/step - loss: 0.3029 - accuracy: 0.8749 - val_loss: 0.4745 - val_accuracy: 0.8307 - lr: 2.0000e-04\n",
      "Epoch 16/50\n",
      "215/215 [==============================] - 2s 7ms/step - loss: 0.3048 - accuracy: 0.8689 - val_loss: 0.4755 - val_accuracy: 0.8307 - lr: 2.0000e-04\n",
      "Epoch 17/50\n",
      "215/215 [==============================] - 2s 9ms/step - loss: 0.3087 - accuracy: 0.8698 - val_loss: 0.4763 - val_accuracy: 0.8307 - lr: 1.0000e-04\n",
      "Epoch 18/50\n",
      "215/215 [==============================] - 2s 7ms/step - loss: 0.3043 - accuracy: 0.8683 - val_loss: 0.4765 - val_accuracy: 0.8307 - lr: 1.0000e-04\n",
      "Epoch 19/50\n",
      "215/215 [==============================] - 2s 8ms/step - loss: 0.3078 - accuracy: 0.8660 - val_loss: 0.4775 - val_accuracy: 0.8307 - lr: 1.0000e-04\n",
      "Epoch 20/50\n",
      "215/215 [==============================] - 2s 8ms/step - loss: 0.3029 - accuracy: 0.8659 - val_loss: 0.4792 - val_accuracy: 0.8307 - lr: 1.0000e-04\n",
      "Epoch 21/50\n",
      "215/215 [==============================] - 2s 8ms/step - loss: 0.3082 - accuracy: 0.8714 - val_loss: 0.4792 - val_accuracy: 0.8307 - lr: 1.0000e-04\n",
      "Epoch 22/50\n",
      "215/215 [==============================] - 2s 8ms/step - loss: 0.3003 - accuracy: 0.8682 - val_loss: 0.4809 - val_accuracy: 0.8307 - lr: 1.0000e-04\n"
     ]
    }
   ],
   "source": [
    "# Train a classifier on top of pretrained embeddings\n",
    "history = model.fit(train_sentences,\n",
    "                    train_labels,\n",
    "                    epochs=50,\n",
    "                    validation_data=(val_sentences, val_labels), callbacks=callbacks)"
   ]
  },
  {
   "cell_type": "code",
   "execution_count": 8,
   "id": "a621a4ca",
   "metadata": {},
   "outputs": [
    {
     "data": {
      "text/plain": [
       "<AxesSubplot:>"
      ]
     },
     "execution_count": 8,
     "metadata": {},
     "output_type": "execute_result"
    },
    {
     "data": {
      "image/png": "[encoded data removed]",
      "text/plain": [
       "<Figure size 432x288 with 1 Axes>"
      ]
     },
     "metadata": {
      "needs_background": "light"
     },
     "output_type": "display_data"
    }
   ],
   "source": [
    "import pandas as pd\n",
    "pd.DataFrame(history.history).plot()"
   ]
  },
  {
   "cell_type": "code",
   "execution_count": 9,
   "id": "926b894a",
   "metadata": {},
   "outputs": [],
   "source": [
    "bestmodel = tf.keras.models.load_model((filepath),custom_objects={'KerasLayer':hub.KerasLayer})\n",
    "newpred = bestmodel.predict(val_sentences)"
   ]
  },
  {
   "cell_type": "code",
   "execution_count": 10,
   "id": "6a0d8e7d",
   "metadata": {},
   "outputs": [
    {
     "data": {
      "text/plain": [
       "array([[0.13850689],\n",
       "       [0.35915166],\n",
       "       [0.01936963],\n",
       "       [0.8785312 ],\n",
       "       [0.98434377],\n",
       "       [0.03626835],\n",
       "       [0.12538087],\n",
       "       [0.17400765],\n",
       "       [0.20732903],\n",
       "       [0.51302224]], dtype=float32)"
      ]
     },
     "execution_count": 10,
     "metadata": {},
     "output_type": "execute_result"
    }
   ],
   "source": [
    "# Make predictions with USE TF Hub model\n",
    "model_6_pred_probs = bestmodel.predict(val_sentences)\n",
    "model_6_pred_probs[21:31]"
   ]
  },
  {
   "cell_type": "code",
   "execution_count": 11,
   "id": "bda22415",
   "metadata": {},
   "outputs": [
    {
     "data": {
      "text/plain": [
       "<tf.Tensor: shape=(10,), dtype=float32, numpy=array([0., 0., 0., 1., 1., 0., 0., 0., 0., 1.], dtype=float32)>"
      ]
     },
     "execution_count": 11,
     "metadata": {},
     "output_type": "execute_result"
    }
   ],
   "source": [
    "# Convert prediction probabilities to labels\n",
    "model_6_preds = tf.squeeze(tf.round(model_6_pred_probs))\n",
    "model_6_preds[21:31]"
   ]
  },
  {
   "cell_type": "code",
   "execution_count": 12,
   "id": "7c79d86b",
   "metadata": {},
   "outputs": [
    {
     "data": {
      "text/plain": [
       "(array([1, 1, 1, 1, 1, 0, 0, 0, 0, 1], dtype=int64),\n",
       " array(['So I pick myself off the ground and swam before I drowned. Hit the bottom so hard I bounced twice suffice this time around is different.',\n",
       "        \"US wont upgrade its infrastructure? http://t.co/NGEHhG9YGa' it a bad situation and its going to get ugly very quickly #USA #sustainability\",\n",
       "        \"Ron &amp; Fez - Dave's High School Crush https://t.co/aN3W16c8F6 via @YouTube\",\n",
       "        \"New warning for Central Hills 1' hail 60 mph winds. NOT affecting Sturgis but could later tonight. #KOTAWeather http://t.co/qo3VWFelkp\",\n",
       "        '70 Years After Atomic Bombs Japan Still Struggles With War Past: The anniversary of the devastation wrought b... http://t.co/iTBJ6DKRZI',\n",
       "        \"If I survive I'll see you tomorrow\",\n",
       "        'Bit pacquiao vs marquez 3 unfilled blazing swarm online: DuRvOd http://t.co/6VJA8R4YXA',\n",
       "        '@SeanPeconi @Jason_Floyd @LynchOnSports @criscyborg I think the risk of losing and getting her nose flattened has a lot to do with it',\n",
       "        \"im tired of all these #AllLivesMatter people. they only say this to derail #blacklivesmatter they dont do anything for 'all lives' lmfao\",\n",
       "        'Medieval airplane hijacker testa: earnings the distinction divers: HtaRvrGLY'],\n",
       "       dtype=object))"
      ]
     },
     "execution_count": 12,
     "metadata": {},
     "output_type": "execute_result"
    }
   ],
   "source": [
    "val_labels[21:31], val_sentences[21:31]"
   ]
  },
  {
   "cell_type": "markdown",
   "id": "b7d244b9",
   "metadata": {},
   "source": [
    "### Other Options"
   ]
  },
  {
   "cell_type": "code",
   "execution_count": 14,
   "id": "8e60e030",
   "metadata": {},
   "outputs": [
    {
     "data": {
      "text/plain": [
       "15"
      ]
     },
     "execution_count": 14,
     "metadata": {},
     "output_type": "execute_result"
    }
   ],
   "source": [
    "# Find average number of tokens (words) in training Tweets\n",
    "max_length = round(sum([len(i.split()) for i in train_sentences])/len(train_sentences))\n",
    "max_length"
   ]
  },
  {
   "cell_type": "code",
   "execution_count": 21,
   "id": "0809e3d2",
   "metadata": {},
   "outputs": [],
   "source": [
    "# Setup text vectorization with custom variables\n",
    "from tensorflow.keras.layers.experimental.preprocessing import TextVectorization\n",
    "\n",
    "max_vocab_length = 10000 # max number of words to have in our vocabulary\n",
    "max_length = 15 # max length our sequences will be (e.g. how many words from a Tweet does our model see?)\n",
    "\n",
    "text_vectorizer = TextVectorization(max_tokens=max_vocab_length,                                    \n",
    "                                    standardize=\"lower_and_strip_punctuation\", # how to process text\n",
    "                                    output_mode=\"int\",\n",
    "                                    output_sequence_length=max_length)\n",
    "# Fit the text vectorizer to the training text\n",
    "text_vectorizer.adapt(train_sentences)"
   ]
  },
  {
   "cell_type": "code",
   "execution_count": 35,
   "id": "a47f5b04",
   "metadata": {},
   "outputs": [
    {
     "data": {
      "text/plain": [
       "<tf.Tensor: shape=(1, 15), dtype=int64, numpy=\n",
       "array([[ 264,    3,  232,    4,   13,  698,   62,   68,    8, 1084,   19,\n",
       "           9,  858,    0,    0]], dtype=int64)>"
      ]
     },
     "execution_count": 35,
     "metadata": {},
     "output_type": "execute_result"
    }
   ],
   "source": [
    "# Create sample sentence and tokenize it\n",
    "sample_sentence = \"There's a flood in my street! how do i escape? this is crazy\"\n",
    "text_vectorizer([sample_sentence])"
   ]
  },
  {
   "cell_type": "code",
   "execution_count": 32,
   "id": "8d7573fd",
   "metadata": {},
   "outputs": [
    {
     "data": {
      "text/plain": [
       "10000"
      ]
     },
     "execution_count": 32,
     "metadata": {},
     "output_type": "execute_result"
    }
   ],
   "source": [
    "words_in_vocab = text_vectorizer.get_vocabulary()\n",
    "len(words_in_vocab)"
   ]
  },
  {
   "cell_type": "code",
   "execution_count": 34,
   "id": "63dae21a",
   "metadata": {},
   "outputs": [
    {
     "data": {
      "text/plain": [
       "<keras.layers.embeddings.Embedding at 0x1fec5fb7880>"
      ]
     },
     "execution_count": 34,
     "metadata": {},
     "output_type": "execute_result"
    }
   ],
   "source": [
    "tf.random.set_seed(42)\n",
    "from tensorflow.keras.layers import Embedding\n",
    "\n",
    "embedding = Embedding(input_dim=max_vocab_length, # set input shape\n",
    "                      output_dim=128, # set size of embedding vector\n",
    "                      embeddings_initializer=\"uniform\", # default, intialize randomly\n",
    "                      input_length=max_length, # how long is each input\n",
    "                      name=\"embedding_1\") \n",
    "\n",
    "embedding"
   ]
  },
  {
   "cell_type": "code",
   "execution_count": 55,
   "id": "8a4e21e1",
   "metadata": {},
   "outputs": [],
   "source": [
    "# Embed the random sentence (turn it into numerical representation)\n",
    "import numpy as np\n",
    "sample_sentence = [\"There's a flood in my street!\", \"how do i escape? this is crazy\"]\n",
    "sample_embed = embedding(text_vectorizer(sample_sentence))\n",
    "#sample_embed, sample_embed.shape, sample_embed[0][0]"
   ]
  },
  {
   "cell_type": "code",
   "execution_count": 45,
   "id": "97d4e8eb",
   "metadata": {},
   "outputs": [
    {
     "data": {
      "text/plain": [
       "array(['@mogacola @zamtriossu i screamed after hitting tweet',\n",
       "       'Imagine getting flattened by Kurt Zouma',\n",
       "       '@Gurmeetramrahim #MSGDoing111WelfareWorks Green S welfare force ke appx 65000 members har time disaster victim ki help ke liye tyar hai....',\n",
       "       ...,\n",
       "       'Near them on the sand half sunk a shattered visage lies... http://t.co/0kCCG1BT06',\n",
       "       \"kesabaran membuahkan hasil indah pada saat tepat! life isn't about waiting for the storm to pass it's about learning to dance in the rain.\",\n",
       "       \"@ScottDPierce @billharris_tv @HarrisGle @Beezersun I'm forfeiting this years fantasy football pool out of fear I may win n get my ass kicked\"],\n",
       "      dtype=object)"
      ]
     },
     "execution_count": 45,
     "metadata": {},
     "output_type": "execute_result"
    }
   ],
   "source": [
    "train_sentences"
   ]
  },
  {
   "cell_type": "markdown",
   "id": "c93a348e",
   "metadata": {},
   "source": [
    "### Simple Dense"
   ]
  },
  {
   "cell_type": "code",
   "execution_count": 68,
   "id": "5d24bfe1",
   "metadata": {},
   "outputs": [],
   "source": [
    "# Build model with the Functional API\n",
    "from tensorflow.keras import layers\n",
    "\n",
    "inputs = layers.Input(shape=(1,), dtype=\"string\") # inputs are 1-dimensional strings\n",
    "x = text_vectorizer(inputs)            # turn the input text into numbers\n",
    "x = embedding(x)                       # create an embedding of the numerized numbers\n",
    "x = layers.GlobalAveragePooling1D()(x) # lower the dimensionality of the embedding to make it compatible with the next layer\n",
    "outputs = layers.Dense(1, activation=\"sigmoid\")(x) # create the output layer, want binary outputs so use sigmoid activation\n",
    "model_1 = tf.keras.Model(inputs, outputs, name=\"model_1_dense\") # construct the model\n",
    "\n",
    "# Compile model\n",
    "model_1.compile(loss=\"binary_crossentropy\",\n",
    "                optimizer=tf.keras.optimizers.Adam(),\n",
    "                metrics=[\"accuracy\"])"
   ]
  },
  {
   "cell_type": "code",
   "execution_count": 57,
   "id": "08c00660",
   "metadata": {},
   "outputs": [
    {
     "name": "stdout",
     "output_type": "stream",
     "text": [
      "Model: \"model_1_dense\"\n",
      "_________________________________________________________________\n",
      " Layer (type)                Output Shape              Param #   \n",
      "=================================================================\n",
      " input_1 (InputLayer)        [(None, 1)]               0         \n",
      "                                                                 \n",
      " text_vectorization_4 (TextV  (None, 15)               0         \n",
      " ectorization)                                                   \n",
      "                                                                 \n",
      " embedding_1 (Embedding)     (None, 15, 128)           1280000   \n",
      "                                                                 \n",
      " global_average_pooling1d (G  (None, 128)              0         \n",
      " lobalAveragePooling1D)                                          \n",
      "                                                                 \n",
      " dense_3 (Dense)             (None, 1)                 129       \n",
      "                                                                 \n",
      "=================================================================\n",
      "Total params: 1,280,129\n",
      "Trainable params: 1,280,129\n",
      "Non-trainable params: 0\n",
      "_________________________________________________________________\n"
     ]
    }
   ],
   "source": [
    "model_1.summary()"
   ]
  },
  {
   "cell_type": "code",
   "execution_count": 66,
   "id": "302ba149",
   "metadata": {},
   "outputs": [
    {
     "name": "stdout",
     "output_type": "stream",
     "text": [
      "Model: \"model_1_dense\"\n",
      "_________________________________________________________________\n",
      " Layer (type)                Output Shape              Param #   \n",
      "=================================================================\n",
      " input_2 (InputLayer)        [(None, 1)]               0         \n",
      "                                                                 \n",
      " text_vectorization_4 (TextV  (None, 15)               0         \n",
      " ectorization)                                                   \n",
      "                                                                 \n",
      " embedding_1 (Embedding)     (None, 15, 128)           1280000   \n",
      "                                                                 \n",
      " dense_4 (Dense)             (None, 15, 1)             129       \n",
      "                                                                 \n",
      "=================================================================\n",
      "Total params: 1,280,129\n",
      "Trainable params: 1,280,129\n",
      "Non-trainable params: 0\n",
      "_________________________________________________________________\n"
     ]
    }
   ],
   "source": [
    "model_1.summary()"
   ]
  },
  {
   "cell_type": "code",
   "execution_count": 69,
   "id": "6b5624a1",
   "metadata": {},
   "outputs": [
    {
     "name": "stdout",
     "output_type": "stream",
     "text": [
      "Epoch 1/5\n",
      "215/215 [==============================] - 4s 15ms/step - loss: 0.5220 - accuracy: 0.8228 - val_loss: 0.4964 - val_accuracy: 0.7848\n",
      "Epoch 2/5\n",
      "215/215 [==============================] - 3s 14ms/step - loss: 0.3405 - accuracy: 0.8895 - val_loss: 0.4572 - val_accuracy: 0.7900\n",
      "Epoch 3/5\n",
      "215/215 [==============================] - 4s 17ms/step - loss: 0.2693 - accuracy: 0.9047 - val_loss: 0.4633 - val_accuracy: 0.7927\n",
      "Epoch 4/5\n",
      "215/215 [==============================] - 3s 15ms/step - loss: 0.2278 - accuracy: 0.9203 - val_loss: 0.4774 - val_accuracy: 0.7887\n",
      "Epoch 5/5\n",
      "215/215 [==============================] - 3s 16ms/step - loss: 0.1972 - accuracy: 0.9327 - val_loss: 0.4956 - val_accuracy: 0.7861\n"
     ]
    }
   ],
   "source": [
    "# Fit the model\n",
    "model_1_history = model_1.fit(train_sentences, # input sentences can be a list of strings due to text preprocessing layer built-in model\n",
    "                              train_labels,\n",
    "                              epochs=5,\n",
    "                              validation_data=(val_sentences, val_labels))"
   ]
  },
  {
   "cell_type": "code",
   "execution_count": 63,
   "id": "f009bf6f",
   "metadata": {},
   "outputs": [
    {
     "data": {
      "text/plain": [
       "<AxesSubplot:>"
      ]
     },
     "execution_count": 63,
     "metadata": {},
     "output_type": "execute_result"
    },
    {
     "data": {
      "image/png": "[encoded data removed]",
      "text/plain": [
       "<Figure size 432x288 with 1 Axes>"
      ]
     },
     "metadata": {
      "needs_background": "light"
     },
     "output_type": "display_data"
    }
   ],
   "source": [
    "pd.DataFrame(model_1_history.history).plot()"
   ]
  },
  {
   "cell_type": "code",
   "execution_count": 59,
   "id": "2aeb436c",
   "metadata": {},
   "outputs": [
    {
     "name": "stdout",
     "output_type": "stream",
     "text": [
      "24/24 [==============================] - 0s 2ms/step - loss: 0.4767 - accuracy: 0.7874\n"
     ]
    },
    {
     "data": {
      "text/plain": [
       "[0.4766846001148224, 0.787401556968689]"
      ]
     },
     "execution_count": 59,
     "metadata": {},
     "output_type": "execute_result"
    }
   ],
   "source": [
    "# Check the results\n",
    "model_1.evaluate(val_sentences, val_labels)"
   ]
  },
  {
   "cell_type": "code",
   "execution_count": null,
   "id": "cd483621",
   "metadata": {},
   "outputs": [],
   "source": [
    "# Check the results\n",
    "model_1.evaluate(val_sentences, val_labels)"
   ]
  },
  {
   "cell_type": "code",
   "execution_count": 99,
   "id": "53370c3f",
   "metadata": {},
   "outputs": [
    {
     "data": {
      "text/plain": [
       "array([[0.99899006]], dtype=float32)"
      ]
     },
     "execution_count": 99,
     "metadata": {},
     "output_type": "execute_result"
    }
   ],
   "source": [
    "model.predict(['heavy traffic jam due to sinkhole'])"
   ]
  },
  {
   "cell_type": "markdown",
   "id": "90ca8667",
   "metadata": {},
   "source": [
    "### RNN - LSTM"
   ]
  },
  {
   "cell_type": "code",
   "execution_count": 82,
   "id": "d105ca41",
   "metadata": {},
   "outputs": [
    {
     "name": "stdout",
     "output_type": "stream",
     "text": [
      "(None, 11, 32)\n",
      "(None, 32)\n"
     ]
    }
   ],
   "source": [
    "# Build model with the Functional API\n",
    "from tensorflow.keras import layers\n",
    "\n",
    "inputs = layers.Input(shape=(1,), dtype=\"string\") # inputs are 1-dimensional strings\n",
    "x = text_vectorizer(inputs)            # turn the input text into numbers\n",
    "x = embedding(x)                       # create an embedding of the numerized numbers\n",
    "\n",
    "# x = layers.GlobalAveragePooling1D()(x)\n",
    "# x = layers.LSTM(64)(x)\n",
    "# x = layers.GRU(64)(x)\n",
    "# x = layers.Bidirectional(layers.LSTM(64))(x)\n",
    "\n",
    "x = layers.Conv1D(filters=32, kernel_size=5, activation=\"relu\")(x)\n",
    "print(x.shape)\n",
    "x = layers.GlobalMaxPool1D()(x)\n",
    "print(x.shape)\n",
    "\n",
    "# x = layers.Dense(64, activation=\"relu\")(x) # optional dense layer\n",
    "\n",
    "outputs = layers.Dense(1, activation=\"sigmoid\")(x) # create the output layer, want binary outputs so use sigmoid activation\n",
    "model_2 = tf.keras.Model(inputs, outputs, name=\"model_1_dense\") # construct the model\n",
    "\n",
    "# Compile model\n",
    "model_2.compile(loss=\"binary_crossentropy\",\n",
    "                optimizer=tf.keras.optimizers.Adam(),\n",
    "                metrics=[\"accuracy\"])"
   ]
  },
  {
   "cell_type": "code",
   "execution_count": 83,
   "id": "0dd4c6e7",
   "metadata": {},
   "outputs": [
    {
     "name": "stdout",
     "output_type": "stream",
     "text": [
      "Epoch 1/5\n",
      "215/215 [==============================] - 4s 16ms/step - loss: 0.1408 - accuracy: 0.9518 - val_loss: 0.7509 - val_accuracy: 0.7808\n",
      "Epoch 2/5\n",
      "215/215 [==============================] - 4s 17ms/step - loss: 0.0839 - accuracy: 0.9696 - val_loss: 0.9278 - val_accuracy: 0.7677\n",
      "Epoch 3/5\n",
      "215/215 [==============================] - 4s 17ms/step - loss: 0.0660 - accuracy: 0.9742 - val_loss: 1.0161 - val_accuracy: 0.7703\n",
      "Epoch 4/5\n",
      "215/215 [==============================] - 4s 17ms/step - loss: 0.0572 - accuracy: 0.9766 - val_loss: 1.1308 - val_accuracy: 0.7651\n",
      "Epoch 5/5\n",
      "215/215 [==============================] - 3s 15ms/step - loss: 0.0508 - accuracy: 0.9788 - val_loss: 1.1905 - val_accuracy: 0.7677\n"
     ]
    }
   ],
   "source": [
    "# Fit the model\n",
    "model_2_history = model_2.fit(train_sentences, # input sentences can be a list of strings due to text preprocessing layer built-in model\n",
    "                              train_labels,\n",
    "                              epochs=5,\n",
    "                              validation_data=(val_sentences, val_labels))"
   ]
  },
  {
   "cell_type": "code",
   "execution_count": 76,
   "id": "aaa29bda",
   "metadata": {},
   "outputs": [
    {
     "name": "stdout",
     "output_type": "stream",
     "text": [
      "Epoch 1/5\n",
      "215/215 [==============================] - 3s 11ms/step - loss: 0.3439 - accuracy: 0.8610 - val_loss: 0.4219 - val_accuracy: 0.8176\n",
      "Epoch 2/5\n",
      "215/215 [==============================] - 2s 9ms/step - loss: 0.3440 - accuracy: 0.8654 - val_loss: 0.4211 - val_accuracy: 0.8202\n",
      "Epoch 3/5\n",
      "215/215 [==============================] - 2s 8ms/step - loss: 0.3384 - accuracy: 0.8656 - val_loss: 0.4225 - val_accuracy: 0.8163\n",
      "Epoch 4/5\n",
      "215/215 [==============================] - 2s 10ms/step - loss: 0.3394 - accuracy: 0.8685 - val_loss: 0.4226 - val_accuracy: 0.8189\n",
      "Epoch 5/5\n",
      "215/215 [==============================] - 2s 8ms/step - loss: 0.3315 - accuracy: 0.8669 - val_loss: 0.4233 - val_accuracy: 0.8215\n"
     ]
    },
    {
     "data": {
      "text/plain": [
       "<keras.callbacks.History at 0x1feb90bfe80>"
      ]
     },
     "execution_count": 76,
     "metadata": {},
     "output_type": "execute_result"
    }
   ],
   "source": [
    "model.fit(train_sentences, # input sentences can be a list of strings due to text preprocessing layer built-in model\n",
    "                              train_labels,\n",
    "                              epochs=5,\n",
    "                              validation_data=(val_sentences, val_labels))"
   ]
  },
  {
   "cell_type": "code",
   "execution_count": null,
   "id": "1f20013a",
   "metadata": {},
   "outputs": [],
   "source": []
  },
  {
   "cell_type": "code",
   "execution_count": null,
   "id": "1edf566f",
   "metadata": {},
   "outputs": [],
   "source": []
  }
 ],
 "metadata": {
  "kernelspec": {
   "display_name": "Anaconda (base)",
   "language": "python",
   "name": "anaconda-base"
  },
  "language_info": {
   "codemirror_mode": {
    "name": "ipython",
    "version": 3
   },
   "file_extension": ".py",
   "mimetype": "text/x-python",
   "name": "python",
   "nbconvert_exporter": "python",
   "pygments_lexer": "ipython3",
   "version": "3.9.7"
  }
 },
 "nbformat": 4,
 "nbformat_minor": 5
}
