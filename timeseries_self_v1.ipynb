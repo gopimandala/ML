{
 "cells": [
  {
   "cell_type": "code",
   "execution_count": 1,
   "id": "5244b524",
   "metadata": {},
   "outputs": [
    {
     "data": {
      "text/plain": [
       "['BTC_USD_2013-10-01_2021-05-18-CoinDesk.csv']"
      ]
     },
     "execution_count": 1,
     "metadata": {},
     "output_type": "execute_result"
    }
   ],
   "source": [
    "import os\n",
    "os.listdir('./data/')"
   ]
  },
  {
   "cell_type": "code",
   "execution_count": 2,
   "id": "49c001e0",
   "metadata": {},
   "outputs": [
    {
     "data": {
      "text/html": [
       "<div>\n",
       "<style scoped>\n",
       "    .dataframe tbody tr th:only-of-type {\n",
       "        vertical-align: middle;\n",
       "    }\n",
       "\n",
       "    .dataframe tbody tr th {\n",
       "        vertical-align: top;\n",
       "    }\n",
       "\n",
       "    .dataframe thead th {\n",
       "        text-align: right;\n",
       "    }\n",
       "</style>\n",
       "<table border=\"1\" class=\"dataframe\">\n",
       "  <thead>\n",
       "    <tr style=\"text-align: right;\">\n",
       "      <th></th>\n",
       "      <th>0</th>\n",
       "      <th>Price</th>\n",
       "      <th>2</th>\n",
       "      <th>3</th>\n",
       "      <th>4</th>\n",
       "    </tr>\n",
       "    <tr>\n",
       "      <th>Date</th>\n",
       "      <th></th>\n",
       "      <th></th>\n",
       "      <th></th>\n",
       "      <th></th>\n",
       "      <th></th>\n",
       "    </tr>\n",
       "  </thead>\n",
       "  <tbody>\n",
       "    <tr>\n",
       "      <th>2013-10-01</th>\n",
       "      <td>BTC</td>\n",
       "      <td>123.65499</td>\n",
       "      <td>124.30466</td>\n",
       "      <td>124.75166</td>\n",
       "      <td>122.56349</td>\n",
       "    </tr>\n",
       "    <tr>\n",
       "      <th>2013-10-02</th>\n",
       "      <td>BTC</td>\n",
       "      <td>125.45500</td>\n",
       "      <td>123.65499</td>\n",
       "      <td>125.75850</td>\n",
       "      <td>123.63383</td>\n",
       "    </tr>\n",
       "    <tr>\n",
       "      <th>2013-10-03</th>\n",
       "      <td>BTC</td>\n",
       "      <td>108.58483</td>\n",
       "      <td>125.45500</td>\n",
       "      <td>125.66566</td>\n",
       "      <td>83.32833</td>\n",
       "    </tr>\n",
       "    <tr>\n",
       "      <th>2013-10-04</th>\n",
       "      <td>BTC</td>\n",
       "      <td>118.67466</td>\n",
       "      <td>108.58483</td>\n",
       "      <td>118.67500</td>\n",
       "      <td>107.05816</td>\n",
       "    </tr>\n",
       "    <tr>\n",
       "      <th>2013-10-05</th>\n",
       "      <td>BTC</td>\n",
       "      <td>121.33866</td>\n",
       "      <td>118.67466</td>\n",
       "      <td>121.93633</td>\n",
       "      <td>118.00566</td>\n",
       "    </tr>\n",
       "  </tbody>\n",
       "</table>\n",
       "</div>"
      ],
      "text/plain": [
       "              0      Price          2          3          4\n",
       "Date                                                       \n",
       "2013-10-01  BTC  123.65499  124.30466  124.75166  122.56349\n",
       "2013-10-02  BTC  125.45500  123.65499  125.75850  123.63383\n",
       "2013-10-03  BTC  108.58483  125.45500  125.66566   83.32833\n",
       "2013-10-04  BTC  118.67466  108.58483  118.67500  107.05816\n",
       "2013-10-05  BTC  121.33866  118.67466  121.93633  118.00566"
      ]
     },
     "execution_count": 2,
     "metadata": {},
     "output_type": "execute_result"
    }
   ],
   "source": [
    "import pandas as pd\n",
    "colnames = ['0','Date','Price','2','3','4']\n",
    "df = pd.read_csv('./data/BTC_USD_2013-10-01_2021-05-18-CoinDesk.csv',index_col=['Date'],parse_dates=['Date'], names=colnames, header=0)\n",
    "df.head()"
   ]
  },
  {
   "cell_type": "code",
   "execution_count": 77,
   "id": "78046ef8",
   "metadata": {},
   "outputs": [
    {
     "data": {
      "text/plain": [
       "array([123.65499, 125.455  ])"
      ]
     },
     "execution_count": 77,
     "metadata": {},
     "output_type": "execute_result"
    }
   ],
   "source": [
    "# bitdf = pd.DataFrame(df['Price'])\n",
    "# bitnp = bitdf['Price'].to_numpy()\n",
    "# bitnp[0:2]\n",
    "bitnp = df['Price'].to_numpy()\n",
    "bitnp[0:2]"
   ]
  },
  {
   "cell_type": "code",
   "execution_count": 4,
   "id": "dd814007",
   "metadata": {},
   "outputs": [
    {
     "data": {
      "text/plain": [
       "<AxesSubplot:xlabel='Date'>"
      ]
     },
     "execution_count": 4,
     "metadata": {},
     "output_type": "execute_result"
    },
    {
     "data": {
      "image/png": "[encoded data removed]",
      "text/plain": [
       "<Figure size 720x432 with 1 Axes>"
      ]
     },
     "metadata": {
      "needs_background": "light"
     },
     "output_type": "display_data"
    }
   ],
   "source": [
    "bitdf['Price'].plot(figsize=(10,6))"
   ]
  },
  {
   "cell_type": "code",
   "execution_count": 5,
   "id": "a4aed6a5",
   "metadata": {},
   "outputs": [
    {
     "data": {
      "text/plain": [
       "(array([  123.65499   ,   125.455     ,   108.58483   , ...,\n",
       "        47885.62525472, 45604.61575361, 43144.47129086]),\n",
       " 2787,\n",
       " array(['2013-10-01T00:00:00.000000000', '2013-10-02T00:00:00.000000000',\n",
       "        '2013-10-03T00:00:00.000000000', ...,\n",
       "        '2021-05-16T00:00:00.000000000', '2021-05-17T00:00:00.000000000',\n",
       "        '2021-05-18T00:00:00.000000000'], dtype='datetime64[ns]'),\n",
       " 2787)"
      ]
     },
     "execution_count": 5,
     "metadata": {},
     "output_type": "execute_result"
    }
   ],
   "source": [
    "# convert to numpy and split into train, test\n",
    "step = bitdf.index.to_numpy()\n",
    "bitnp, len(bitnp), step, len(step)"
   ]
  },
  {
   "cell_type": "code",
   "execution_count": 6,
   "id": "65edeeec",
   "metadata": {},
   "outputs": [
    {
     "data": {
      "text/plain": [
       "2229"
      ]
     },
     "execution_count": 6,
     "metadata": {},
     "output_type": "execute_result"
    }
   ],
   "source": [
    "trainsize = int(0.8*len(bitnp))\n",
    "trainsize"
   ]
  },
  {
   "cell_type": "code",
   "execution_count": 7,
   "id": "d788cd20",
   "metadata": {},
   "outputs": [
    {
     "data": {
      "text/plain": [
       "<matplotlib.collections.PathCollection at 0x2148a9774c0>"
      ]
     },
     "execution_count": 7,
     "metadata": {},
     "output_type": "execute_result"
    },
    {
     "data": {
      "image/png": "[encoded data removed]",
      "text/plain": [
       "<Figure size 720x432 with 1 Axes>"
      ]
     },
     "metadata": {
      "needs_background": "light"
     },
     "output_type": "display_data"
    }
   ],
   "source": [
    "xtrain, xtest = step[:trainsize], step[trainsize:]\n",
    "ytrain, ytest = bitnp[:trainsize], bitnp[trainsize:]\n",
    "\n",
    "import matplotlib.pyplot as plt\n",
    "plt.figure(figsize=(10,6))\n",
    "plt.scatter(xtrain,ytrain,s=.5)\n",
    "plt.scatter(xtest,ytest,s=.5)"
   ]
  },
  {
   "cell_type": "code",
   "execution_count": 8,
   "id": "ec9055ec",
   "metadata": {},
   "outputs": [
    {
     "data": {
      "text/plain": [
       "(557, 558, array([8760.89271814, 8749.52059102, 8656.97092235]))"
      ]
     },
     "execution_count": 8,
     "metadata": {},
     "output_type": "execute_result"
    }
   ],
   "source": [
    "naivefc = ytest[:-1]\n",
    "len(naivefc), len(ytest), naivefc[5:8]"
   ]
  },
  {
   "cell_type": "code",
   "execution_count": 9,
   "id": "784cc554",
   "metadata": {},
   "outputs": [
    {
     "data": {
      "text/plain": [
       "array([9226.48582088, 8794.35864452])"
      ]
     },
     "execution_count": 9,
     "metadata": {},
     "output_type": "execute_result"
    }
   ],
   "source": [
    "ytest[0:2]"
   ]
  },
  {
   "cell_type": "code",
   "execution_count": 10,
   "id": "19e450b4",
   "metadata": {},
   "outputs": [
    {
     "data": {
      "text/plain": [
       "(557, array([8749.52059102, 8656.97092235, 8500.64355816]))"
      ]
     },
     "execution_count": 10,
     "metadata": {},
     "output_type": "execute_result"
    }
   ],
   "source": [
    "yactual = ytest[1:]\n",
    "len(yactual), yactual[5:8]"
   ]
  },
  {
   "cell_type": "code",
   "execution_count": 11,
   "id": "cab2fdc9",
   "metadata": {},
   "outputs": [
    {
     "data": {
      "text/plain": [
       "(<tf.Tensor: shape=(), dtype=float64, numpy=567.9802273457542>,\n",
       " <tf.Tensor: shape=(), dtype=float64, numpy=1147547.125023896>,\n",
       " <tf.Tensor: shape=(), dtype=float64, numpy=1071.2362601330744>,\n",
       " <tf.Tensor: shape=(), dtype=float64, numpy=2.516524929982267>)"
      ]
     },
     "execution_count": 11,
     "metadata": {},
     "output_type": "execute_result"
    }
   ],
   "source": [
    "import tensorflow as tf\n",
    "mae = tf.keras.metrics.mean_absolute_error(yactual,naivefc)\n",
    "mse = tf.keras.metrics.mean_squared_error(ytest[1:],naivefc)\n",
    "rmse = tf.sqrt(mse)\n",
    "mape = tf.keras.metrics.mean_absolute_percentage_error(ytest[1:],naivefc)\n",
    "mae, mse, rmse, mape"
   ]
  },
  {
   "cell_type": "markdown",
   "id": "6fb45ef8",
   "metadata": {},
   "source": [
    "### Create Windows, Horizon"
   ]
  },
  {
   "cell_type": "code",
   "execution_count": 78,
   "id": "2bbd4a30",
   "metadata": {},
   "outputs": [
    {
     "data": {
      "text/plain": [
       "(array([[  123.65499   ,   125.455     ,   108.58483   , ...,\n",
       "           121.33866   ,   120.65533   ,   121.795     ],\n",
       "        [  125.455     ,   108.58483   ,   118.67466   , ...,\n",
       "           120.65533   ,   121.795     ,   123.033     ],\n",
       "        [  108.58483   ,   118.67466   ,   121.33866   , ...,\n",
       "           121.795     ,   123.033     ,   124.049     ],\n",
       "        ...,\n",
       "        [58788.20967893, 58102.19142623, 55715.54665129, ...,\n",
       "         52147.82118698, 49764.1320816 , 50032.69313676],\n",
       "        [58102.19142623, 55715.54665129, 56573.5554719 , ...,\n",
       "         49764.1320816 , 50032.69313676, 47885.62525472],\n",
       "        [55715.54665129, 56573.5554719 , 52147.82118698, ...,\n",
       "         50032.69313676, 47885.62525472, 45604.61575361]]),\n",
       " array([[  123.033     ],\n",
       "        [  124.049     ],\n",
       "        [  125.96116   ],\n",
       "        ...,\n",
       "        [47885.62525472],\n",
       "        [45604.61575361],\n",
       "        [43144.47129086]]))"
      ]
     },
     "execution_count": 78,
     "metadata": {},
     "output_type": "execute_result"
    }
   ],
   "source": [
    "import numpy as np\n",
    "nwindows = 7\n",
    "nhorizon = 1\n",
    "\n",
    "def make_windows(x,w=7,h=1):\n",
    "    #create 1d list of numbers of total size\n",
    "    d1list = np.arange(w + h)\n",
    "    # create 2d of this list\n",
    "    d2list = np.expand_dims(d1list,axis=0)\n",
    "    # create column of numbers to be added to the 2d list above\n",
    "    addnum = np.expand_dims(np.arange(len(x)-(w+h-1)), axis=0).T\n",
    "    # final index is the array where each d2list is added with addnum\n",
    "    window_indexes = d2list + addnum\n",
    "    # get values of the input matrix for these indexes\n",
    "    window_array = x[window_indexes]\n",
    "    # create windows and lables from this\n",
    "    windows = window_array[:, :-h]\n",
    "    labels  = window_array[:,-h:]\n",
    "    return windows, labels\n",
    "\n",
    "# take the target data and split into windows and labels\n",
    "windows, labels = make_windows(bitnp,nwindows,nhorizon)\n",
    "windows, labels"
   ]
  },
  {
   "cell_type": "code",
   "execution_count": 13,
   "id": "c6703de6",
   "metadata": {},
   "outputs": [
    {
     "data": {
      "text/plain": [
       "(2229, 2780, 2780, 2229, 2787)"
      ]
     },
     "execution_count": 13,
     "metadata": {},
     "output_type": "execute_result"
    }
   ],
   "source": [
    "len(xtrain), len(windows), len(labels), len(ytrain), len(bitnp)"
   ]
  },
  {
   "cell_type": "code",
   "execution_count": 14,
   "id": "e609f1c7",
   "metadata": {},
   "outputs": [
    {
     "name": "stdout",
     "output_type": "stream",
     "text": [
      "Window: [123.65499 125.455   108.58483 118.67466 121.33866 120.65533 121.795  ] , Label: [123.033]\n",
      "Window: [125.455   108.58483 118.67466 121.33866 120.65533 121.795   123.033  ] , Label: [124.049]\n",
      "Window: [108.58483 118.67466 121.33866 120.65533 121.795   123.033   124.049  ] , Label: [125.96116]\n"
     ]
    }
   ],
   "source": [
    "# View the first 3 windows/labels\n",
    "for i in range(3):\n",
    "  print(f\"Window: {windows[i]} , Label: {labels[i]}\")"
   ]
  },
  {
   "cell_type": "markdown",
   "id": "2cf9cf9f",
   "metadata": {},
   "source": [
    "### Split into train, test sets"
   ]
  },
  {
   "cell_type": "code",
   "execution_count": 15,
   "id": "e0071529",
   "metadata": {},
   "outputs": [
    {
     "data": {
      "text/plain": [
       "(2224, 556, 2224, 556)"
      ]
     },
     "execution_count": 15,
     "metadata": {},
     "output_type": "execute_result"
    }
   ],
   "source": [
    "# Make the train/test splits\n",
    "def make_train_test_splits(windows, labels, test_split=0.2):\n",
    "  \"\"\"\n",
    "  Splits matching pairs of windows and labels into train and test splits.\n",
    "  \"\"\"\n",
    "  split_size = int(len(windows) * (1-test_split)) # this will default to 80% train/20% test\n",
    "  train_windows = windows[:split_size]\n",
    "  train_labels = labels[:split_size]\n",
    "  test_windows = windows[split_size:]\n",
    "  test_labels = labels[split_size:]\n",
    "  return train_windows, test_windows, train_labels, test_labels\n",
    "train_windows, test_windows, train_labels, test_labels = make_train_test_splits(windows, labels)\n",
    "len(train_windows), len(test_windows), len(train_labels), len(test_labels)"
   ]
  },
  {
   "cell_type": "code",
   "execution_count": 16,
   "id": "97dddc43",
   "metadata": {},
   "outputs": [
    {
     "data": {
      "text/plain": [
       "(array([[123.65499, 125.455  , 108.58483, 118.67466, 121.33866, 120.65533,\n",
       "         121.795  ]]),\n",
       " array([[123.033]]))"
      ]
     },
     "execution_count": 16,
     "metadata": {},
     "output_type": "execute_result"
    }
   ],
   "source": [
    "train_windows[:1], train_labels[:1]"
   ]
  },
  {
   "cell_type": "markdown",
   "id": "bed77be6",
   "metadata": {},
   "source": [
    "### Build model"
   ]
  },
  {
   "cell_type": "code",
   "execution_count": 18,
   "id": "28f88d64",
   "metadata": {},
   "outputs": [
    {
     "name": "stdout",
     "output_type": "stream",
     "text": [
      "Epoch 1/100\n",
      " 1/18 [>.............................] - ETA: 6s - loss: 2600.4414INFO:tensorflow:Assets written to: ./checkpoints/model\\assets\n",
      "18/18 [==============================] - 1s 50ms/step - loss: 1181.9849 - val_loss: 3567.8286\n",
      "Epoch 2/100\n",
      " 1/18 [>.............................] - ETA: 0s - loss: 567.0725INFO:tensorflow:Assets written to: ./checkpoints/model\\assets\n",
      "18/18 [==============================] - 0s 25ms/step - loss: 331.9626 - val_loss: 1035.9146\n",
      "Epoch 3/100\n",
      " 1/18 [>.............................] - ETA: 0s - loss: 188.6700INFO:tensorflow:Assets written to: ./checkpoints/model\\assets\n",
      "18/18 [==============================] - 1s 38ms/step - loss: 201.8118 - val_loss: 1018.2408\n",
      "Epoch 4/100\n",
      " 1/18 [>.............................] - ETA: 0s - loss: 186.9095INFO:tensorflow:Assets written to: ./checkpoints/model\\assets\n",
      "18/18 [==============================] - 0s 27ms/step - loss: 182.6059 - val_loss: 1014.8156\n",
      "Epoch 5/100\n",
      " 1/18 [>.............................] - ETA: 0s - loss: 126.6918INFO:tensorflow:Assets written to: ./checkpoints/model\\assets\n",
      "18/18 [==============================] - 0s 29ms/step - loss: 177.5322 - val_loss: 987.7560\n",
      "Epoch 6/100\n",
      " 1/18 [>.............................] - ETA: 0s - loss: 153.7736INFO:tensorflow:Assets written to: ./checkpoints/model\\assets\n",
      "18/18 [==============================] - 0s 24ms/step - loss: 171.7976 - val_loss: 946.7408\n",
      "Epoch 7/100\n",
      " 1/18 [>.............................] - ETA: 0s - loss: 163.8468INFO:tensorflow:Assets written to: ./checkpoints/model\\assets\n",
      "18/18 [==============================] - 0s 28ms/step - loss: 168.9634 - val_loss: 917.6665\n",
      "Epoch 8/100\n",
      "18/18 [==============================] - 0s 3ms/step - loss: 164.8548 - val_loss: 995.2873\n",
      "Epoch 9/100\n",
      " 1/18 [>.............................] - ETA: 0s - loss: 167.4971INFO:tensorflow:Assets written to: ./checkpoints/model\\assets\n",
      "18/18 [==============================] - 0s 27ms/step - loss: 161.8094 - val_loss: 860.4446\n",
      "Epoch 10/100\n",
      "18/18 [==============================] - 0s 3ms/step - loss: 152.8098 - val_loss: 872.4327\n",
      "Epoch 11/100\n",
      " 1/18 [>.............................] - ETA: 0s - loss: 127.4044INFO:tensorflow:Assets written to: ./checkpoints/model\\assets\n",
      "18/18 [==============================] - 0s 27ms/step - loss: 148.0038 - val_loss: 810.7337\n",
      "Epoch 12/100\n",
      "18/18 [==============================] - 0s 3ms/step - loss: 145.4807 - val_loss: 891.1424\n",
      "Epoch 13/100\n",
      " 1/18 [>.............................] - ETA: 0s - loss: 157.3352INFO:tensorflow:Assets written to: ./checkpoints/model\\assets\n",
      "18/18 [==============================] - 0s 25ms/step - loss: 141.4166 - val_loss: 793.1133\n",
      "Epoch 14/100\n",
      " 1/18 [>.............................] - ETA: 0s - loss: 119.2486INFO:tensorflow:Assets written to: ./checkpoints/model\\assets\n",
      "18/18 [==============================] - 0s 26ms/step - loss: 136.8790 - val_loss: 775.7023\n",
      "Epoch 15/100\n",
      " 1/18 [>.............................] - ETA: 0s - loss: 116.9766INFO:tensorflow:Assets written to: ./checkpoints/model\\assets\n",
      "18/18 [==============================] - 0s 27ms/step - loss: 141.2275 - val_loss: 740.3608\n",
      "Epoch 16/100\n",
      " 1/18 [>.............................] - ETA: 0s - loss: 115.3636INFO:tensorflow:Assets written to: ./checkpoints/model\\assets\n",
      "18/18 [==============================] - 0s 27ms/step - loss: 133.8560 - val_loss: 717.1954\n",
      "Epoch 17/100\n",
      "18/18 [==============================] - 0s 2ms/step - loss: 128.4627 - val_loss: 720.1655\n",
      "Epoch 18/100\n",
      "18/18 [==============================] - 0s 3ms/step - loss: 127.4165 - val_loss: 863.8647\n",
      "Epoch 19/100\n",
      " 1/18 [>.............................] - ETA: 0s - loss: 113.1397INFO:tensorflow:Assets written to: ./checkpoints/model\\assets\n",
      "18/18 [==============================] - 0s 25ms/step - loss: 130.6127 - val_loss: 678.7393\n",
      "Epoch 20/100\n",
      "18/18 [==============================] - 0s 2ms/step - loss: 124.6359 - val_loss: 753.1708\n",
      "Epoch 21/100\n",
      " 1/18 [>.............................] - ETA: 0s - loss: 122.6936INFO:tensorflow:Assets written to: ./checkpoints/model\\assets\n",
      "18/18 [==============================] - 0s 25ms/step - loss: 122.9665 - val_loss: 674.9571\n",
      "Epoch 22/100\n",
      " 1/18 [>.............................] - ETA: 0s - loss: 94.2349INFO:tensorflow:Assets written to: ./checkpoints/model\\assets\n",
      "18/18 [==============================] - 0s 25ms/step - loss: 119.5553 - val_loss: 663.7404\n",
      "Epoch 23/100\n",
      " 1/18 [>.............................] - ETA: 0s - loss: 93.6681INFO:tensorflow:Assets written to: ./checkpoints/model\\assets\n",
      "18/18 [==============================] - 0s 27ms/step - loss: 119.5340 - val_loss: 647.2358\n",
      "Epoch 24/100\n",
      " 1/18 [>.............................] - ETA: 0s - loss: 114.6563INFO:tensorflow:Assets written to: ./checkpoints/model\\assets\n",
      "18/18 [==============================] - 1s 38ms/step - loss: 121.1117 - val_loss: 636.9357\n",
      "Epoch 25/100\n",
      " 1/18 [>.............................] - ETA: 0s - loss: 98.1049INFO:tensorflow:Assets written to: ./checkpoints/model\\assets\n",
      "18/18 [==============================] - 0s 24ms/step - loss: 117.8585 - val_loss: 631.0353\n",
      "Epoch 26/100\n",
      " 1/18 [>.............................] - ETA: 0s - loss: 113.2489INFO:tensorflow:Assets written to: ./checkpoints/model\\assets\n",
      "18/18 [==============================] - 1s 29ms/step - loss: 122.0943 - val_loss: 628.6070\n",
      "Epoch 27/100\n",
      "18/18 [==============================] - 0s 3ms/step - loss: 120.3350 - val_loss: 639.2016\n",
      "Epoch 28/100\n",
      " 1/18 [>.............................] - ETA: 0s - loss: 107.2039INFO:tensorflow:Assets written to: ./checkpoints/model\\assets\n",
      "18/18 [==============================] - 1s 30ms/step - loss: 116.5705 - val_loss: 619.3455\n",
      "Epoch 29/100\n",
      "18/18 [==============================] - 0s 3ms/step - loss: 118.0482 - val_loss: 644.0650\n",
      "Epoch 30/100\n",
      "18/18 [==============================] - 0s 3ms/step - loss: 118.0805 - val_loss: 637.5350\n",
      "Epoch 31/100\n",
      " 1/18 [>.............................] - ETA: 0s - loss: 111.5465INFO:tensorflow:Assets written to: ./checkpoints/model\\assets\n",
      "18/18 [==============================] - 0s 25ms/step - loss: 116.6020 - val_loss: 618.6920\n",
      "Epoch 32/100\n",
      "18/18 [==============================] - 0s 3ms/step - loss: 115.4066 - val_loss: 724.6335\n",
      "Epoch 33/100\n",
      "18/18 [==============================] - 0s 2ms/step - loss: 117.6677 - val_loss: 619.7456\n",
      "Epoch 34/100\n",
      " 1/18 [>.............................] - ETA: 0s - loss: 102.1013INFO:tensorflow:Assets written to: ./checkpoints/model\\assets\n",
      "18/18 [==============================] - 0s 24ms/step - loss: 114.1907 - val_loss: 601.8711\n",
      "Epoch 35/100\n",
      " 1/18 [>.............................] - ETA: 0s - loss: 119.3181INFO:tensorflow:Assets written to: ./checkpoints/model\\assets\n",
      "18/18 [==============================] - 0s 24ms/step - loss: 114.0345 - val_loss: 599.4445\n",
      "Epoch 36/100\n",
      " 1/18 [>.............................] - ETA: 0s - loss: 115.4761INFO:tensorflow:Assets written to: ./checkpoints/model\\assets\n",
      "18/18 [==============================] - 0s 25ms/step - loss: 116.0094 - val_loss: 597.6236\n",
      "Epoch 37/100\n",
      "18/18 [==============================] - 0s 3ms/step - loss: 113.3418 - val_loss: 600.0059\n",
      "Epoch 38/100\n",
      "18/18 [==============================] - 0s 3ms/step - loss: 113.5241 - val_loss: 608.6895\n",
      "Epoch 39/100\n",
      "18/18 [==============================] - 0s 2ms/step - loss: 112.6898 - val_loss: 713.6980\n",
      "Epoch 40/100\n",
      "18/18 [==============================] - 0s 2ms/step - loss: 119.8902 - val_loss: 669.3721\n",
      "Epoch 41/100\n",
      " 1/18 [>.............................] - ETA: 0s - loss: 127.4805INFO:tensorflow:Assets written to: ./checkpoints/model\\assets\n",
      "18/18 [==============================] - 0s 20ms/step - loss: 117.0843 - val_loss: 593.9669\n",
      "Epoch 42/100\n",
      "18/18 [==============================] - 0s 2ms/step - loss: 114.6743 - val_loss: 596.8165\n",
      "Epoch 43/100\n",
      "18/18 [==============================] - 0s 3ms/step - loss: 112.3330 - val_loss: 641.4641\n",
      "Epoch 44/100\n",
      "18/18 [==============================] - 0s 3ms/step - loss: 118.6103 - val_loss: 623.2852\n",
      "Epoch 45/100\n",
      "18/18 [==============================] - 0s 3ms/step - loss: 113.2534 - val_loss: 618.4403\n",
      "Epoch 46/100\n",
      "18/18 [==============================] - 0s 2ms/step - loss: 111.1801 - val_loss: 629.1574\n",
      "Epoch 47/100\n",
      "18/18 [==============================] - 0s 2ms/step - loss: 113.6958 - val_loss: 609.7017\n"
     ]
    },
    {
     "name": "stdout",
     "output_type": "stream",
     "text": [
      "Epoch 48/100\n",
      "18/18 [==============================] - 0s 2ms/step - loss: 111.9266 - val_loss: 619.5154\n",
      "Epoch 49/100\n",
      "18/18 [==============================] - 0s 3ms/step - loss: 112.7609 - val_loss: 703.8804\n",
      "Epoch 50/100\n",
      "18/18 [==============================] - 0s 3ms/step - loss: 118.2529 - val_loss: 604.2150\n",
      "Epoch 51/100\n",
      " 1/18 [>.............................] - ETA: 0s - loss: 114.5755INFO:tensorflow:Assets written to: ./checkpoints/model\\assets\n",
      "18/18 [==============================] - 0s 27ms/step - loss: 109.4611 - val_loss: 581.1265\n",
      "Epoch 52/100\n",
      " 1/18 [>.............................] - ETA: 0s - loss: 109.3633INFO:tensorflow:Assets written to: ./checkpoints/model\\assets\n",
      "18/18 [==============================] - 0s 25ms/step - loss: 109.1242 - val_loss: 578.7573\n",
      "Epoch 53/100\n",
      "18/18 [==============================] - 0s 3ms/step - loss: 111.4486 - val_loss: 581.6521\n",
      "Epoch 54/100\n",
      "18/18 [==============================] - 0s 3ms/step - loss: 115.6201 - val_loss: 593.5415\n",
      "Epoch 55/100\n",
      "18/18 [==============================] - 0s 3ms/step - loss: 120.2033 - val_loss: 579.7883\n",
      "Epoch 56/100\n",
      "18/18 [==============================] - 0s 2ms/step - loss: 108.6553 - val_loss: 606.9886\n",
      "Epoch 57/100\n",
      "18/18 [==============================] - 0s 3ms/step - loss: 111.8633 - val_loss: 613.7208\n",
      "Epoch 58/100\n",
      "18/18 [==============================] - 0s 2ms/step - loss: 113.5979 - val_loss: 697.4332\n",
      "Epoch 59/100\n",
      "18/18 [==============================] - 0s 2ms/step - loss: 140.5922 - val_loss: 720.7982\n",
      "Epoch 60/100\n",
      "18/18 [==============================] - 0s 2ms/step - loss: 125.4700 - val_loss: 752.3187\n",
      "Epoch 61/100\n",
      "18/18 [==============================] - 0s 2ms/step - loss: 111.4150 - val_loss: 619.8947\n",
      "Epoch 62/100\n",
      "18/18 [==============================] - 0s 2ms/step - loss: 111.5265 - val_loss: 717.4504\n",
      "Epoch 63/100\n",
      "18/18 [==============================] - 0s 2ms/step - loss: 117.0398 - val_loss: 732.1818\n",
      "Epoch 64/100\n",
      "18/18 [==============================] - 0s 2ms/step - loss: 112.8671 - val_loss: 580.0457\n",
      "Epoch 65/100\n",
      "18/18 [==============================] - 0s 3ms/step - loss: 111.6970 - val_loss: 726.9501\n",
      "Epoch 66/100\n",
      "18/18 [==============================] - 0s 3ms/step - loss: 113.8442 - val_loss: 579.2299\n",
      "Epoch 67/100\n",
      "18/18 [==============================] - 0s 3ms/step - loss: 110.6613 - val_loss: 617.6274\n",
      "Epoch 68/100\n",
      "18/18 [==============================] - 0s 3ms/step - loss: 112.5710 - val_loss: 616.5667\n",
      "Epoch 69/100\n",
      " 1/18 [>.............................] - ETA: 0s - loss: 101.7248INFO:tensorflow:Assets written to: ./checkpoints/model\\assets\n",
      "18/18 [==============================] - 0s 26ms/step - loss: 110.6934 - val_loss: 576.6589\n",
      "Epoch 70/100\n",
      "18/18 [==============================] - 0s 2ms/step - loss: 115.1604 - val_loss: 631.9029\n",
      "Epoch 71/100\n",
      " 1/18 [>.............................] - ETA: 0s - loss: 116.8119INFO:tensorflow:Assets written to: ./checkpoints/model\\assets\n",
      "18/18 [==============================] - 0s 26ms/step - loss: 108.9877 - val_loss: 569.1123\n",
      "Epoch 72/100\n",
      " 1/18 [>.............................] - ETA: 0s - loss: 85.0101INFO:tensorflow:Assets written to: ./checkpoints/model\\assets\n",
      "18/18 [==============================] - 1s 36ms/step - loss: 110.7229 - val_loss: 569.1076\n",
      "Epoch 73/100\n",
      "18/18 [==============================] - 0s 2ms/step - loss: 109.1692 - val_loss: 611.1005\n",
      "Epoch 74/100\n",
      "18/18 [==============================] - 0s 2ms/step - loss: 108.6806 - val_loss: 584.5425\n",
      "Epoch 75/100\n",
      "18/18 [==============================] - 0s 2ms/step - loss: 116.1929 - val_loss: 607.7258\n",
      "Epoch 76/100\n",
      "18/18 [==============================] - 0s 3ms/step - loss: 109.3967 - val_loss: 585.0511\n",
      "Epoch 77/100\n",
      "18/18 [==============================] - 0s 2ms/step - loss: 108.6297 - val_loss: 622.8829\n",
      "Epoch 78/100\n",
      "18/18 [==============================] - 0s 2ms/step - loss: 111.5004 - val_loss: 582.3210\n",
      "Epoch 79/100\n",
      " 1/18 [>.............................] - ETA: 0s - loss: 104.7386INFO:tensorflow:Assets written to: ./checkpoints/model\\assets\n",
      "18/18 [==============================] - 0s 25ms/step - loss: 108.0169 - val_loss: 567.4554\n",
      "Epoch 80/100\n",
      "18/18 [==============================] - 0s 3ms/step - loss: 111.7904 - val_loss: 576.1945\n",
      "Epoch 81/100\n",
      "18/18 [==============================] - 0s 2ms/step - loss: 109.3780 - val_loss: 586.9954\n",
      "Epoch 82/100\n",
      "18/18 [==============================] - 0s 2ms/step - loss: 108.5334 - val_loss: 605.7491\n",
      "Epoch 83/100\n",
      "18/18 [==============================] - 0s 3ms/step - loss: 112.8289 - val_loss: 625.6109\n",
      "Epoch 84/100\n",
      "18/18 [==============================] - 0s 2ms/step - loss: 114.6771 - val_loss: 647.3966\n",
      "Epoch 85/100\n",
      "18/18 [==============================] - 0s 3ms/step - loss: 111.4764 - val_loss: 607.4824\n",
      "Epoch 86/100\n",
      " 1/18 [>.............................] - ETA: 0s - loss: 114.2644INFO:tensorflow:Assets written to: ./checkpoints/model\\assets\n",
      "18/18 [==============================] - 0s 25ms/step - loss: 110.3578 - val_loss: 566.8312\n",
      "Epoch 87/100\n",
      "18/18 [==============================] - 0s 2ms/step - loss: 111.3003 - val_loss: 569.4874\n",
      "Epoch 88/100\n",
      "18/18 [==============================] - 0s 2ms/step - loss: 109.2507 - val_loss: 569.9129\n",
      "Epoch 89/100\n",
      "18/18 [==============================] - 0s 2ms/step - loss: 107.1518 - val_loss: 572.6838\n",
      "Epoch 90/100\n",
      "18/18 [==============================] - 0s 3ms/step - loss: 108.4075 - val_loss: 570.7235\n",
      "Epoch 91/100\n",
      "18/18 [==============================] - 0s 2ms/step - loss: 109.7327 - val_loss: 616.9225\n",
      "Epoch 92/100\n",
      "18/18 [==============================] - 0s 2ms/step - loss: 107.4307 - val_loss: 569.2355\n",
      "Epoch 93/100\n",
      "18/18 [==============================] - 0s 3ms/step - loss: 108.2345 - val_loss: 602.2197\n",
      "Epoch 94/100\n",
      "18/18 [==============================] - 0s 3ms/step - loss: 105.9245 - val_loss: 616.6102\n",
      "Epoch 95/100\n",
      "18/18 [==============================] - 0s 2ms/step - loss: 107.3022 - val_loss: 579.8444\n",
      "Epoch 96/100\n",
      "18/18 [==============================] - 0s 2ms/step - loss: 110.3522 - val_loss: 616.6502\n",
      "Epoch 97/100\n",
      " 1/18 [>.............................] - ETA: 0s - loss: 101.6131INFO:tensorflow:Assets written to: ./checkpoints/model\\assets\n",
      "18/18 [==============================] - 0s 25ms/step - loss: 108.0547 - val_loss: 565.3145\n",
      "Epoch 98/100\n",
      "18/18 [==============================] - 0s 3ms/step - loss: 108.2078 - val_loss: 571.4851\n",
      "Epoch 99/100\n",
      "18/18 [==============================] - 0s 2ms/step - loss: 109.5219 - val_loss: 576.1857\n",
      "Epoch 100/100\n",
      "18/18 [==============================] - 0s 2ms/step - loss: 114.0139 - val_loss: 569.8883\n"
     ]
    }
   ],
   "source": [
    "import tensorflow as tf\n",
    "from tensorflow.keras.layers import Dense\n",
    "\n",
    "tf.random.set_seed(12)\n",
    "model = tf.keras.Sequential([\n",
    "    Dense(128, activation='relu'),\n",
    "    Dense(nhorizon)\n",
    "])\n",
    "\n",
    "model.compile(loss = 'mae', optimizer = 'adam')\n",
    "savepath = './checkpoints/model/' & 'model1'\n",
    "savebest = tf.keras.callbacks.ModelCheckpoint(filepath=savepath,save_best_only=True, monitor='val_loss')\n",
    "\n",
    "history = model.fit(train_windows,train_labels, epochs = 100, batch_size=128,\n",
    "                    callbacks = [savebest],\n",
    "                    validation_data = (test_windows,test_labels))"
   ]
  },
  {
   "cell_type": "code",
   "execution_count": 33,
   "id": "a7d1ebc8",
   "metadata": {},
   "outputs": [
    {
     "ename": "TypeError",
     "evalue": "can only concatenate str (not \"Sequential\") to str",
     "output_type": "error",
     "traceback": [
      "\u001b[1;31m---------------------------------------------------------------------------\u001b[0m",
      "\u001b[1;31mTypeError\u001b[0m                                 Traceback (most recent call last)",
      "\u001b[1;32mC:\\Users\\GOPINA~1\\AppData\\Local\\Temp/ipykernel_23168/3534152153.py\u001b[0m in \u001b[0;36m<module>\u001b[1;34m\u001b[0m\n\u001b[1;32m----> 1\u001b[1;33m \u001b[0msavepath\u001b[0m \u001b[1;33m=\u001b[0m \u001b[1;34m'./checkpoints/model/'\u001b[0m \u001b[1;33m+\u001b[0m \u001b[0mmodel\u001b[0m\u001b[1;33m\u001b[0m\u001b[1;33m\u001b[0m\u001b[0m\n\u001b[0m\u001b[0;32m      2\u001b[0m \u001b[0msavepath\u001b[0m\u001b[1;33m\u001b[0m\u001b[1;33m\u001b[0m\u001b[0m\n",
      "\u001b[1;31mTypeError\u001b[0m: can only concatenate str (not \"Sequential\") to str"
     ]
    }
   ],
   "source": [
    "savepath = './checkpoints/model/' + model\n",
    "savepath"
   ]
  },
  {
   "cell_type": "code",
   "execution_count": 19,
   "id": "ccd2cfa3",
   "metadata": {},
   "outputs": [
    {
     "data": {
      "text/plain": [
       "<AxesSubplot:>"
      ]
     },
     "execution_count": 19,
     "metadata": {},
     "output_type": "execute_result"
    },
    {
     "data": {
      "image/png": "[encoded data removed]",
      "text/plain": [
       "<Figure size 432x288 with 1 Axes>"
      ]
     },
     "metadata": {
      "needs_background": "light"
     },
     "output_type": "display_data"
    }
   ],
   "source": [
    "pd.DataFrame(history.history).plot()"
   ]
  },
  {
   "cell_type": "code",
   "execution_count": 21,
   "id": "90e136e4",
   "metadata": {},
   "outputs": [
    {
     "name": "stdout",
     "output_type": "stream",
     "text": [
      "18/18 [==============================] - 0s 1ms/step - loss: 569.8884\n"
     ]
    },
    {
     "data": {
      "text/plain": [
       "569.8883666992188"
      ]
     },
     "execution_count": 21,
     "metadata": {},
     "output_type": "execute_result"
    }
   ],
   "source": [
    "model.evaluate(test_windows,test_labels)"
   ]
  },
  {
   "cell_type": "code",
   "execution_count": 22,
   "id": "0e2131db",
   "metadata": {},
   "outputs": [
    {
     "data": {
      "text/plain": [
       "array([[ 8898.318 ],\n",
       "       [ 8813.025 ],\n",
       "       [ 9082.744 ],\n",
       "       [ 8842.459 ],\n",
       "       [ 8775.14  ],\n",
       "       [ 8786.7   ],\n",
       "       [ 8722.905 ],\n",
       "       [ 8565.374 ],\n",
       "       [ 8502.119 ],\n",
       "       [ 8570.261 ],\n",
       "       [ 8307.005 ],\n",
       "       [ 8150.9272],\n",
       "       [ 8110.9126],\n",
       "       [ 7724.531 ],\n",
       "       [ 7322.275 ],\n",
       "       [ 7301.6255],\n",
       "       [ 7124.8574],\n",
       "       [ 7211.634 ],\n",
       "       [ 7193.1484],\n",
       "       [ 7502.3877],\n",
       "       [ 7474.4966],\n",
       "       [ 7711.364 ],\n",
       "       [ 7629.2   ],\n",
       "       [ 7436.9043],\n",
       "       [ 7364.414 ],\n",
       "       [ 7352.797 ],\n",
       "       [ 7272.5264],\n",
       "       [ 7400.966 ],\n",
       "       [ 7545.2505],\n",
       "       [ 7580.618 ],\n",
       "       [ 7586.9087],\n",
       "       [ 7403.1543],\n",
       "       [ 7278.365 ],\n",
       "       [ 7234.1416],\n",
       "       [ 7229.4316],\n",
       "       [ 7270.824 ],\n",
       "       [ 7149.377 ],\n",
       "       [ 7135.0337],\n",
       "       [ 6953.5747],\n",
       "       [ 6650.541 ],\n",
       "       [ 7311.2017],\n",
       "       [ 7287.576 ],\n",
       "       [ 7174.4224],\n",
       "       [ 7281.614 ],\n",
       "       [ 7293.9336],\n",
       "       [ 7223.3755],\n",
       "       [ 7251.773 ],\n",
       "       [ 7259.357 ],\n",
       "       [ 7228.3613],\n",
       "       [ 7254.8022],\n",
       "       [ 7339.7993],\n",
       "       [ 7421.3667],\n",
       "       [ 7315.485 ],\n",
       "       [ 7218.025 ],\n",
       "       [ 7205.867 ],\n",
       "       [ 7027.7485],\n",
       "       [ 7264.9233],\n",
       "       [ 7389.964 ],\n",
       "       [ 7395.2354],\n",
       "       [ 7694.467 ],\n",
       "       [ 8055.7793],\n",
       "       [ 8137.9707],\n",
       "       [ 7889.424 ],\n",
       "       [ 8063.286 ],\n",
       "       [ 8143.908 ],\n",
       "       [ 8192.827 ],\n",
       "       [ 8165.5776],\n",
       "       [ 8682.608 ],\n",
       "       [ 8920.872 ],\n",
       "       [ 8793.484 ],\n",
       "       [ 8921.6455],\n",
       "       [ 8996.135 ],\n",
       "       [ 8742.94  ],\n",
       "       [ 8672.048 ],\n",
       "       [ 8741.817 ],\n",
       "       [ 8704.103 ],\n",
       "       [ 8462.145 ],\n",
       "       [ 8461.958 ],\n",
       "       [ 8410.89  ],\n",
       "       [ 8573.333 ],\n",
       "       [ 8893.015 ],\n",
       "       [ 9166.239 ],\n",
       "       [ 9360.541 ],\n",
       "       [ 9571.264 ],\n",
       "       [ 9478.813 ],\n",
       "       [ 9408.087 ],\n",
       "       [ 9426.675 ],\n",
       "       [ 9342.441 ],\n",
       "       [ 9235.513 ],\n",
       "       [ 9598.017 ],\n",
       "       [ 9757.458 ],\n",
       "       [ 9841.215 ],\n",
       "       [ 9960.006 ],\n",
       "       [10163.673 ],\n",
       "       [ 9955.462 ],\n",
       "       [10209.452 ],\n",
       "       [10423.482 ],\n",
       "       [10315.133 ],\n",
       "       [10386.149 ],\n",
       "       [10049.068 ],\n",
       "       [ 9912.804 ],\n",
       "       [ 9714.233 ],\n",
       "       [10147.5   ],\n",
       "       [ 9867.485 ],\n",
       "       [ 9662.867 ],\n",
       "       [ 9695.085 ],\n",
       "       [ 9744.878 ],\n",
       "       [ 9947.042 ],\n",
       "       [ 9744.601 ],\n",
       "       [ 9461.385 ],\n",
       "       [ 8901.511 ],\n",
       "       [ 8789.698 ],\n",
       "       [ 8825.928 ],\n",
       "       [ 8713.528 ],\n",
       "       [ 8595.474 ],\n",
       "       [ 8898.045 ],\n",
       "       [ 8886.42  ],\n",
       "       [ 8804.94  ],\n",
       "       [ 9065.505 ],\n",
       "       [ 9191.631 ],\n",
       "       [ 9015.579 ],\n",
       "       [ 8303.654 ],\n",
       "       [ 7902.218 ],\n",
       "       [ 7965.762 ],\n",
       "       [ 8014.821 ],\n",
       "       [ 6162.9883],\n",
       "       [ 5549.1167],\n",
       "       [ 5350.084 ],\n",
       "       [ 5377.8535],\n",
       "       [ 5057.4062],\n",
       "       [ 5301.2305],\n",
       "       [ 5438.9253],\n",
       "       [ 6161.8896],\n",
       "       [ 6281.5293],\n",
       "       [ 6201.8926],\n",
       "       [ 5944.2266],\n",
       "       [ 6380.5664],\n",
       "       [ 6815.1274],\n",
       "       [ 6787.161 ],\n",
       "       [ 6743.3857],\n",
       "       [ 6714.283 ],\n",
       "       [ 6336.6025],\n",
       "       [ 5970.6914],\n",
       "       [ 6404.6455],\n",
       "       [ 6531.852 ],\n",
       "       [ 6567.4297],\n",
       "       [ 6823.0347],\n",
       "       [ 6844.0005],\n",
       "       [ 6883.5044],\n",
       "       [ 6847.999 ],\n",
       "       [ 7244.165 ],\n",
       "       [ 7265.64  ],\n",
       "       [ 7375.177 ],\n",
       "       [ 7372.9775],\n",
       "       [ 6971.7373],\n",
       "       [ 6877.613 ],\n",
       "       [ 7049.503 ],\n",
       "       [ 6972.543 ],\n",
       "       [ 6914.9365],\n",
       "       [ 6769.6914],\n",
       "       [ 7126.672 ],\n",
       "       [ 7150.893 ],\n",
       "       [ 7282.441 ],\n",
       "       [ 7244.374 ],\n",
       "       [ 6937.807 ],\n",
       "       [ 6910.175 ],\n",
       "       [ 7123.379 ],\n",
       "       [ 7559.2017],\n",
       "       [ 7580.6895],\n",
       "       [ 7568.3135],\n",
       "       [ 7647.715 ],\n",
       "       [ 7804.4033],\n",
       "       [ 7821.7026],\n",
       "       [ 8652.259 ],\n",
       "       [ 8877.798 ],\n",
       "       [ 8898.867 ],\n",
       "       [ 8981.851 ],\n",
       "       [ 8968.667 ],\n",
       "       [ 8944.665 ],\n",
       "       [ 9007.978 ],\n",
       "       [ 9369.81  ],\n",
       "       [ 9904.089 ],\n",
       "       [10008.2705],\n",
       "       [ 9714.265 ],\n",
       "       [ 8929.2295],\n",
       "       [ 8620.408 ],\n",
       "       [ 8819.038 ],\n",
       "       [ 9330.059 ],\n",
       "       [ 9767.63  ],\n",
       "       [ 9496.188 ],\n",
       "       [ 9424.991 ],\n",
       "       [ 9689.417 ],\n",
       "       [ 9801.952 ],\n",
       "       [ 9781.995 ],\n",
       "       [ 9609.298 ],\n",
       "       [ 9236.962 ],\n",
       "       [ 9205.481 ],\n",
       "       [ 9267.399 ],\n",
       "       [ 9132.447 ],\n",
       "       [ 8959.825 ],\n",
       "       [ 8875.415 ],\n",
       "       [ 9115.827 ],\n",
       "       [ 9520.271 ],\n",
       "       [ 9519.15  ],\n",
       "       [ 9691.724 ],\n",
       "       [ 9527.438 ],\n",
       "       [10183.382 ],\n",
       "       [ 9739.511 ],\n",
       "       [ 9653.536 ],\n",
       "       [ 9832.048 ],\n",
       "       [ 9755.538 ],\n",
       "       [ 9724.274 ],\n",
       "       [ 9767.68  ],\n",
       "       [ 9844.403 ],\n",
       "       [ 9845.062 ],\n",
       "       [ 9911.058 ],\n",
       "       [ 9408.897 ],\n",
       "       [ 9440.282 ],\n",
       "       [ 9516.271 ],\n",
       "       [ 9430.339 ],\n",
       "       [ 9468.282 ],\n",
       "       [ 9548.445 ],\n",
       "       [ 9526.145 ],\n",
       "       [ 9452.755 ],\n",
       "       [ 9339.46  ],\n",
       "       [ 9383.969 ],\n",
       "       [ 9353.865 ],\n",
       "       [ 9670.279 ],\n",
       "       [ 9697.406 ],\n",
       "       [ 9404.905 ],\n",
       "       [ 9281.866 ],\n",
       "       [ 9224.895 ],\n",
       "       [ 9096.025 ],\n",
       "       [ 9126.485 ],\n",
       "       [ 9225.583 ],\n",
       "       [ 9212.161 ],\n",
       "       [ 9267.741 ],\n",
       "       [ 9169.617 ],\n",
       "       [ 9135.457 ],\n",
       "       [ 9165.958 ],\n",
       "       [ 9117.982 ],\n",
       "       [ 9290.477 ],\n",
       "       [ 9311.921 ],\n",
       "       [ 9488.575 ],\n",
       "       [ 9333.589 ],\n",
       "       [ 9276.054 ],\n",
       "       [ 9277.145 ],\n",
       "       [ 9329.865 ],\n",
       "       [ 9301.961 ],\n",
       "       [ 9300.835 ],\n",
       "       [ 9267.403 ],\n",
       "       [ 9191.141 ],\n",
       "       [ 9198.954 ],\n",
       "       [ 9224.101 ],\n",
       "       [ 9240.018 ],\n",
       "       [ 9224.036 ],\n",
       "       [ 9408.584 ],\n",
       "       [ 9576.705 ],\n",
       "       [ 9668.149 ],\n",
       "       [ 9631.181 ],\n",
       "       [ 9733.705 ],\n",
       "       [ 9967.2   ],\n",
       "       [11064.036 ],\n",
       "       [11115.187 ],\n",
       "       [11283.567 ],\n",
       "       [11200.661 ],\n",
       "       [11392.63  ],\n",
       "       [11794.759 ],\n",
       "       [11324.938 ],\n",
       "       [11261.246 ],\n",
       "       [11284.991 ],\n",
       "       [11663.004 ],\n",
       "       [11871.231 ],\n",
       "       [11733.94  ],\n",
       "       [11775.3   ],\n",
       "       [11748.286 ],\n",
       "       [11874.272 ],\n",
       "       [11486.172 ],\n",
       "       [11544.093 ],\n",
       "       [11791.501 ],\n",
       "       [11865.826 ],\n",
       "       [11944.827 ],\n",
       "       [11958.675 ],\n",
       "       [12391.462 ],\n",
       "       [12222.539 ],\n",
       "       [11843.2   ],\n",
       "       [11848.795 ],\n",
       "       [11690.202 ],\n",
       "       [11717.065 ],\n",
       "       [11728.066 ],\n",
       "       [11795.339 ],\n",
       "       [11499.711 ],\n",
       "       [11478.554 ],\n",
       "       [11387.025 ],\n",
       "       [11511.321 ],\n",
       "       [11582.159 ],\n",
       "       [11699.962 ],\n",
       "       [11745.609 ],\n",
       "       [11984.649 ],\n",
       "       [11590.544 ],\n",
       "       [10842.374 ],\n",
       "       [10580.488 ],\n",
       "       [10165.346 ],\n",
       "       [10213.19  ],\n",
       "       [10413.072 ],\n",
       "       [10163.39  ],\n",
       "       [10261.672 ],\n",
       "       [10387.771 ],\n",
       "       [10445.169 ],\n",
       "       [10485.274 ],\n",
       "       [10385.442 ],\n",
       "       [10674.488 ],\n",
       "       [10889.343 ],\n",
       "       [11078.581 ],\n",
       "       [11020.618 ],\n",
       "       [10983.192 ],\n",
       "       [11089.098 ],\n",
       "       [10951.781 ],\n",
       "       [10621.202 ],\n",
       "       [10556.769 ],\n",
       "       [10355.38  ],\n",
       "       [10654.149 ],\n",
       "       [10802.204 ],\n",
       "       [10806.309 ],\n",
       "       [10802.212 ],\n",
       "       [10900.038 ],\n",
       "       [10849.114 ],\n",
       "       [10796.418 ],\n",
       "       [10695.683 ],\n",
       "       [10625.349 ],\n",
       "       [10608.867 ],\n",
       "       [10700.235 ],\n",
       "       [10807.208 ],\n",
       "       [10678.199 ],\n",
       "       [10679.937 ],\n",
       "       [10917.142 ],\n",
       "       [11110.497 ],\n",
       "       [11388.64  ],\n",
       "       [11415.996 ],\n",
       "       [11676.774 ],\n",
       "       [11559.503 ],\n",
       "       [11452.833 ],\n",
       "       [11540.513 ],\n",
       "       [11448.643 ],\n",
       "       [11413.63  ],\n",
       "       [11508.595 ],\n",
       "       [11802.613 ],\n",
       "       [12000.254 ],\n",
       "       [13000.5205],\n",
       "       [13281.375 ],\n",
       "       [13048.476 ],\n",
       "       [13096.625 ],\n",
       "       [13096.858 ],\n",
       "       [13112.472 ],\n",
       "       [13688.241 ],\n",
       "       [13468.595 ],\n",
       "       [13488.16  ],\n",
       "       [13624.761 ],\n",
       "       [13933.681 ],\n",
       "       [13857.099 ],\n",
       "       [13705.226 ],\n",
       "       [13863.339 ],\n",
       "       [14205.737 ],\n",
       "       [15346.503 ],\n",
       "       [15695.895 ],\n",
       "       [14993.501 ],\n",
       "       [15399.214 ],\n",
       "       [15441.643 ],\n",
       "       [15462.39  ],\n",
       "       [15829.782 ],\n",
       "       [16301.274 ],\n",
       "       [16463.268 ],\n",
       "       [16131.901 ],\n",
       "       [15981.63  ],\n",
       "       [16707.346 ],\n",
       "       [17629.893 ],\n",
       "       [17966.396 ],\n",
       "       [18040.27  ],\n",
       "       [18606.318 ],\n",
       "       [18747.709 ],\n",
       "       [18736.557 ],\n",
       "       [18585.018 ],\n",
       "       [19048.57  ],\n",
       "       [18938.92  ],\n",
       "       [17503.064 ],\n",
       "       [17011.74  ],\n",
       "       [17761.078 ],\n",
       "       [18255.084 ],\n",
       "       [19307.674 ],\n",
       "       [19206.424 ],\n",
       "       [19232.959 ],\n",
       "       [19521.824 ],\n",
       "       [19043.936 ],\n",
       "       [19077.936 ],\n",
       "       [19203.893 ],\n",
       "       [19230.982 ],\n",
       "       [18846.139 ],\n",
       "       [18621.951 ],\n",
       "       [18472.045 ],\n",
       "       [18260.264 ],\n",
       "       [18853.148 ],\n",
       "       [19184.152 ],\n",
       "       [19348.22  ],\n",
       "       [19518.025 ],\n",
       "       [21149.076 ],\n",
       "       [22884.377 ],\n",
       "       [23209.508 ],\n",
       "       [23870.365 ],\n",
       "       [23742.232 ],\n",
       "       [23357.201 ],\n",
       "       [23491.441 ],\n",
       "       [23400.318 ],\n",
       "       [23692.85  ],\n",
       "       [24583.709 ],\n",
       "       [26320.736 ],\n",
       "       [26666.74  ],\n",
       "       [26811.38  ],\n",
       "       [27075.35  ],\n",
       "       [28680.264 ],\n",
       "       [29362.95  ],\n",
       "       [29496.348 ],\n",
       "       [31887.363 ],\n",
       "       [33214.66  ],\n",
       "       [31939.037 ],\n",
       "       [34008.21  ],\n",
       "       [36366.355 ],\n",
       "       [39514.723 ],\n",
       "       [40784.598 ],\n",
       "       [40461.844 ],\n",
       "       [39080.777 ],\n",
       "       [35133.617 ],\n",
       "       [34136.88  ],\n",
       "       [36758.277 ],\n",
       "       [38699.87  ],\n",
       "       [37328.21  ],\n",
       "       [36112.438 ],\n",
       "       [36409.76  ],\n",
       "       [36622.168 ],\n",
       "       [36769.19  ],\n",
       "       [35419.824 ],\n",
       "       [31316.268 ],\n",
       "       [32784.492 ],\n",
       "       [32614.229 ],\n",
       "       [32442.973 ],\n",
       "       [32576.85  ],\n",
       "       [32508.412 ],\n",
       "       [30988.53  ],\n",
       "       [32995.35  ],\n",
       "       [35002.875 ],\n",
       "       [35011.91  ],\n",
       "       [33445.707 ],\n",
       "       [33546.84  ],\n",
       "       [35570.793 ],\n",
       "       [37524.74  ],\n",
       "       [37617.152 ],\n",
       "       [37917.336 ],\n",
       "       [40157.926 ],\n",
       "       [39156.004 ],\n",
       "       [43906.26  ],\n",
       "       [46801.062 ],\n",
       "       [45815.043 ],\n",
       "       [47222.48  ],\n",
       "       [48164.355 ],\n",
       "       [47539.574 ],\n",
       "       [49009.414 ],\n",
       "       [48656.81  ],\n",
       "       [48982.113 ],\n",
       "       [51942.848 ],\n",
       "       [52325.402 ],\n",
       "       [55427.684 ],\n",
       "       [55446.09  ],\n",
       "       [57069.45  ],\n",
       "       [55041.418 ],\n",
       "       [49160.95  ],\n",
       "       [48448.88  ],\n",
       "       [48625.246 ],\n",
       "       [46490.004 ],\n",
       "       [46523.44  ],\n",
       "       [45538.223 ],\n",
       "       [48825.98  ],\n",
       "       [48626.016 ],\n",
       "       [50584.332 ],\n",
       "       [49038.64  ],\n",
       "       [49123.082 ],\n",
       "       [49212.84  ],\n",
       "       [50617.9   ],\n",
       "       [51780.73  ],\n",
       "       [54356.625 ],\n",
       "       [57049.496 ],\n",
       "       [58016.56  ],\n",
       "       [57702.61  ],\n",
       "       [60490.082 ],\n",
       "       [60866.223 ],\n",
       "       [57225.77  ],\n",
       "       [56544.34  ],\n",
       "       [58564.566 ],\n",
       "       [58633.17  ],\n",
       "       [58660.72  ],\n",
       "       [58828.543 ],\n",
       "       [58251.46  ],\n",
       "       [55102.457 ],\n",
       "       [54740.26  ],\n",
       "       [53384.41  ],\n",
       "       [52465.215 ],\n",
       "       [54336.777 ],\n",
       "       [56420.445 ],\n",
       "       [55945.453 ],\n",
       "       [57476.496 ],\n",
       "       [58992.54  ],\n",
       "       [59185.684 ],\n",
       "       [59250.504 ],\n",
       "       [59143.85  ],\n",
       "       [58037.37  ],\n",
       "       [58295.727 ],\n",
       "       [59088.45  ],\n",
       "       [58551.78  ],\n",
       "       [56977.348 ],\n",
       "       [57828.727 ],\n",
       "       [58538.54  ],\n",
       "       [59511.37  ],\n",
       "       [60112.28  ],\n",
       "       [60192.05  ],\n",
       "       [63049.754 ],\n",
       "       [63544.184 ],\n",
       "       [63647.92  ],\n",
       "       [62477.38  ],\n",
       "       [61012.457 ],\n",
       "       [57632.492 ],\n",
       "       [56348.184 ],\n",
       "       [56790.34  ],\n",
       "       [54876.715 ],\n",
       "       [52393.74  ],\n",
       "       [50895.28  ],\n",
       "       [50907.086 ],\n",
       "       [49167.51  ],\n",
       "       [52914.938 ],\n",
       "       [55420.277 ],\n",
       "       [55157.848 ],\n",
       "       [53638.426 ],\n",
       "       [56828.383 ],\n",
       "       [58272.754 ],\n",
       "       [57033.223 ],\n",
       "       [57268.62  ],\n",
       "       [54508.984 ],\n",
       "       [56824.8   ],\n",
       "       [57195.973 ],\n",
       "       [57370.504 ],\n",
       "       [58823.496 ],\n",
       "       [58608.33  ],\n",
       "       [56376.754 ],\n",
       "       [56521.285 ],\n",
       "       [53147.848 ],\n",
       "       [50138.855 ],\n",
       "       [50008.7   ],\n",
       "       [48505.582 ],\n",
       "       [46095.26  ]], dtype=float32)"
      ]
     },
     "execution_count": 22,
     "metadata": {},
     "output_type": "execute_result"
    }
   ],
   "source": [
    "ypreds = model.predict(test_windows)\n",
    "ypreds"
   ]
  },
  {
   "cell_type": "code",
   "execution_count": 23,
   "id": "16fe3f5e",
   "metadata": {},
   "outputs": [
    {
     "data": {
      "text/plain": [
       "(array([[8898.318],\n",
       "        [8813.025]], dtype=float32),\n",
       " array([[8798.04205463],\n",
       "        [9081.18687849]]))"
      ]
     },
     "execution_count": 23,
     "metadata": {},
     "output_type": "execute_result"
    }
   ],
   "source": [
    "ypreds[0:2], test_labels[0:2]"
   ]
  },
  {
   "cell_type": "code",
   "execution_count": 24,
   "id": "58d9516a",
   "metadata": {},
   "outputs": [],
   "source": [
    "def evaluate_preds(y_true, y_pred):\n",
    "  # Make sure float32 (for metric calculations)\n",
    "  y_true = tf.squeeze(tf.cast(y_true, dtype=tf.float32))\n",
    "  y_pred = tf.squeeze(tf.cast(y_pred, dtype=tf.float32))\n",
    "\n",
    "  # Calculate various metrics\n",
    "  mae = tf.keras.metrics.mean_absolute_error(y_true, y_pred)\n",
    "  mse = tf.keras.metrics.mean_squared_error(y_true, y_pred) # puts and emphasis on outliers (all errors get squared)\n",
    "  rmse = tf.sqrt(mse)\n",
    "  mape = tf.keras.metrics.mean_absolute_percentage_error(y_true, y_pred)\n",
    "  #mase = mean_absolute_scaled_error(y_true, y_pred)\n",
    "  \n",
    "  return {\"mae\": mae.numpy(),\n",
    "          \"mse\": mse.numpy(),\n",
    "          \"rmse\": rmse.numpy(),\n",
    "          \"mape\": mape.numpy()} #,\"mase\": mase.numpy()}"
   ]
  },
  {
   "cell_type": "code",
   "execution_count": 25,
   "id": "11bea614",
   "metadata": {},
   "outputs": [
    {
     "data": {
      "text/plain": [
       "{'mae': 569.88837, 'mse': 1171336.0, 'rmse': 1082.2827, 'mape': 2.5473719}"
      ]
     },
     "execution_count": 25,
     "metadata": {},
     "output_type": "execute_result"
    }
   ],
   "source": [
    "evaluate_preds(y_true=test_labels, y_pred=ypreds)"
   ]
  },
  {
   "cell_type": "code",
   "execution_count": 26,
   "id": "fa72bc8a",
   "metadata": {},
   "outputs": [
    {
     "name": "stdout",
     "output_type": "stream",
     "text": [
      "18/18 [==============================] - 0s 1ms/step - loss: 569.8884\n"
     ]
    },
    {
     "data": {
      "text/plain": [
       "569.8883666992188"
      ]
     },
     "execution_count": 26,
     "metadata": {},
     "output_type": "execute_result"
    }
   ],
   "source": [
    "model.evaluate(test_windows, test_labels)"
   ]
  },
  {
   "cell_type": "code",
   "execution_count": 27,
   "id": "c37a9499",
   "metadata": {},
   "outputs": [
    {
     "name": "stdout",
     "output_type": "stream",
     "text": [
      "18/18 [==============================] - 0s 1ms/step - loss: 565.3145\n"
     ]
    },
    {
     "data": {
      "text/plain": [
       "565.314453125"
      ]
     },
     "execution_count": 27,
     "metadata": {},
     "output_type": "execute_result"
    }
   ],
   "source": [
    "# Load in saved best performing model_1 and evaluate on test data\n",
    "model_1 = tf.keras.models.load_model(\"./checkpoints/model\")\n",
    "model_1.evaluate(test_windows, test_labels)"
   ]
  },
  {
   "cell_type": "code",
   "execution_count": 49,
   "id": "a8542f2a",
   "metadata": {},
   "outputs": [
    {
     "name": "stdout",
     "output_type": "stream",
     "text": [
      "Window: [123.65499 125.455   108.58483 118.67466 121.33866 120.65533 121.795\n",
      " 123.033   124.049  ] , Label: [125.96116 125.27966 125.9275 ]\n",
      "Window: [125.455   108.58483 118.67466 121.33866 120.65533 121.795   123.033\n",
      " 124.049   125.96116] , Label: [125.27966 125.9275  126.38333]\n",
      "Window: [108.58483 118.67466 121.33866 120.65533 121.795   123.033   124.049\n",
      " 125.96116 125.27966] , Label: [125.9275  126.38333 135.24199]\n"
     ]
    }
   ],
   "source": [
    "nhorizon=3\n",
    "nwindows=9\n",
    "# take the target data and split into windows and labels\n",
    "windows, labels = make_windows(bitnp,nwindows,nhorizon)\n",
    "# View the first 3 windows/labels\n",
    "for i in range(3):\n",
    "  print(f\"Window: {windows[i]} , Label: {labels[i]}\")"
   ]
  },
  {
   "cell_type": "code",
   "execution_count": 68,
   "id": "94e3ab20",
   "metadata": {},
   "outputs": [
    {
     "name": "stdout",
     "output_type": "stream",
     "text": [
      "INFO:tensorflow:Assets written to: ./checkpoints\\model3\\assets\n",
      "INFO:tensorflow:Assets written to: ./checkpoints\\model3\\assets\n",
      "INFO:tensorflow:Assets written to: ./checkpoints\\model3\\assets\n",
      "INFO:tensorflow:Assets written to: ./checkpoints\\model3\\assets\n",
      "INFO:tensorflow:Assets written to: ./checkpoints\\model3\\assets\n",
      "INFO:tensorflow:Assets written to: ./checkpoints\\model3\\assets\n",
      "INFO:tensorflow:Assets written to: ./checkpoints\\model3\\assets\n",
      "INFO:tensorflow:Assets written to: ./checkpoints\\model3\\assets\n",
      "INFO:tensorflow:Assets written to: ./checkpoints\\model3\\assets\n",
      "INFO:tensorflow:Assets written to: ./checkpoints\\model3\\assets\n",
      "INFO:tensorflow:Assets written to: ./checkpoints\\model3\\assets\n",
      "INFO:tensorflow:Assets written to: ./checkpoints\\model3\\assets\n",
      "INFO:tensorflow:Assets written to: ./checkpoints\\model3\\assets\n",
      "INFO:tensorflow:Assets written to: ./checkpoints\\model3\\assets\n",
      "INFO:tensorflow:Assets written to: ./checkpoints\\model3\\assets\n",
      "INFO:tensorflow:Assets written to: ./checkpoints\\model3\\assets\n",
      "INFO:tensorflow:Assets written to: ./checkpoints\\model3\\assets\n",
      "INFO:tensorflow:Assets written to: ./checkpoints\\model3\\assets\n",
      "INFO:tensorflow:Assets written to: ./checkpoints\\model3\\assets\n",
      "INFO:tensorflow:Assets written to: ./checkpoints\\model3\\assets\n",
      "INFO:tensorflow:Assets written to: ./checkpoints\\model3\\assets\n",
      "INFO:tensorflow:Assets written to: ./checkpoints\\model3\\assets\n",
      "INFO:tensorflow:Assets written to: ./checkpoints\\model3\\assets\n",
      "INFO:tensorflow:Assets written to: ./checkpoints\\model3\\assets\n",
      "INFO:tensorflow:Assets written to: ./checkpoints\\model3\\assets\n",
      "INFO:tensorflow:Assets written to: ./checkpoints\\model3\\assets\n",
      "INFO:tensorflow:Assets written to: ./checkpoints\\model3\\assets\n",
      "INFO:tensorflow:Assets written to: ./checkpoints\\model3\\assets\n"
     ]
    }
   ],
   "source": [
    "# Create model (same as model_1 except with different data input size)\n",
    "model_3 = tf.keras.Sequential([\n",
    "    Dense(64, activation=\"relu\"),\n",
    "    Dense(128, activation=\"relu\"),\n",
    "    Dense(nhorizon)\n",
    "], name=\"model_3_dense\")\n",
    "\n",
    "model_3.compile(loss=\"mae\",\n",
    "                optimizer=tf.keras.optimizers.Adam())\n",
    "savepath = './checkpoints/' + 'model3'\n",
    "savebest = tf.keras.callbacks.ModelCheckpoint(filepath=savepath,save_best_only=True, monitor='val_loss',verbose=0)\n",
    "history3 = model_3.fit(train_windows,\n",
    "            train_labels,\n",
    "            batch_size=128,\n",
    "            epochs=100,\n",
    "            verbose=0,\n",
    "            validation_data=(test_windows, test_labels),\n",
    "            callbacks=[savebest])"
   ]
  },
  {
   "cell_type": "code",
   "execution_count": 69,
   "id": "ea6c1e13",
   "metadata": {},
   "outputs": [
    {
     "name": "stdout",
     "output_type": "stream",
     "text": [
      "18/18 [==============================] - 0s 1ms/step - loss: 600.0480\n"
     ]
    },
    {
     "data": {
      "text/plain": [
       "600.0479736328125"
      ]
     },
     "execution_count": 69,
     "metadata": {},
     "output_type": "execute_result"
    }
   ],
   "source": [
    "model_3.evaluate(test_windows, test_labels)"
   ]
  },
  {
   "cell_type": "code",
   "execution_count": 75,
   "id": "739b8c04",
   "metadata": {},
   "outputs": [
    {
     "data": {
      "text/plain": [
       "(array([[47057.934, 46509.562, 45899.637]], dtype=float32),\n",
       " array([[47885.62525472],\n",
       "        [45604.61575361],\n",
       "        [43144.47129086]]))"
      ]
     },
     "execution_count": 75,
     "metadata": {},
     "output_type": "execute_result"
    }
   ],
   "source": [
    "model_3.predict(test_windows[-1:]), test_labels[-3:]"
   ]
  },
  {
   "cell_type": "code",
   "execution_count": 66,
   "id": "cba47b31",
   "metadata": {},
   "outputs": [
    {
     "name": "stdout",
     "output_type": "stream",
     "text": [
      "18/18 [==============================] - 0s 1ms/step - loss: 582.7297\n"
     ]
    },
    {
     "data": {
      "text/plain": [
       "582.729736328125"
      ]
     },
     "execution_count": 66,
     "metadata": {},
     "output_type": "execute_result"
    }
   ],
   "source": [
    "# Load in best version of model_3 and evaluate\n",
    "model_3 = tf.keras.models.load_model(savepath)\n",
    "model_3.evaluate(test_windows, test_labels)"
   ]
  },
  {
   "cell_type": "code",
   "execution_count": 53,
   "id": "2e078f5b",
   "metadata": {},
   "outputs": [
    {
     "name": "stdout",
     "output_type": "stream",
     "text": [
      "18/18 [==============================] - 0s 1ms/step - loss: 569.8884\n"
     ]
    },
    {
     "data": {
      "text/plain": [
       "569.8883666992188"
      ]
     },
     "execution_count": 53,
     "metadata": {},
     "output_type": "execute_result"
    }
   ],
   "source": [
    "model.evaluate(test_windows, test_labels)"
   ]
  },
  {
   "cell_type": "code",
   "execution_count": 63,
   "id": "64f48b8a",
   "metadata": {},
   "outputs": [
    {
     "data": {
      "text/plain": [
       "<AxesSubplot:>"
      ]
     },
     "execution_count": 63,
     "metadata": {},
     "output_type": "execute_result"
    },
    {
     "data": {
      "image/png": "[encoded data removed]",
      "text/plain": [
       "<Figure size 432x288 with 1 Axes>"
      ]
     },
     "metadata": {
      "needs_background": "light"
     },
     "output_type": "display_data"
    }
   ],
   "source": [
    "pd.DataFrame(history3.history).plot()"
   ]
  },
  {
   "cell_type": "code",
   "execution_count": 67,
   "id": "52728126",
   "metadata": {},
   "outputs": [
    {
     "data": {
      "text/plain": [
       "<AxesSubplot:>"
      ]
     },
     "execution_count": 67,
     "metadata": {},
     "output_type": "execute_result"
    },
    {
     "data": {
      "image/png": "[encoded data removed]",
      "text/plain": [
       "<Figure size 432x288 with 1 Axes>"
      ]
     },
     "metadata": {
      "needs_background": "light"
     },
     "output_type": "display_data"
    }
   ],
   "source": [
    "pd.DataFrame(history3.history).plot()"
   ]
  }
 ],
 "metadata": {
  "kernelspec": {
   "display_name": "Anaconda (base)",
   "language": "python",
   "name": "anaconda-base"
  },
  "language_info": {
   "codemirror_mode": {
    "name": "ipython",
    "version": 3
   },
   "file_extension": ".py",
   "mimetype": "text/x-python",
   "name": "python",
   "nbconvert_exporter": "python",
   "pygments_lexer": "ipython3",
   "version": "3.9.7"
  }
 },
 "nbformat": 4,
 "nbformat_minor": 5
}
