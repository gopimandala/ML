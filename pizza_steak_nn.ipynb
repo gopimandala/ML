{
 "cells": [
  {
   "cell_type": "code",
   "execution_count": 1,
   "id": "6add2303",
   "metadata": {},
   "outputs": [],
   "source": [
    "import zipfile\n",
    "# Download zip file of pizza_steak images\n",
    "# !wget https://storage.googleapis.com/ztm_tf_course/food_vision/pizza_steak.zip \n",
    "\n",
    "# # Unzip the downloaded file\n",
    "# zip_ref = zipfile.ZipFile(\"pizza_steak.zip\", \"r\")\n",
    "# zip_ref.extractall()\n",
    "# zip_ref.close()"
   ]
  },
  {
   "cell_type": "code",
   "execution_count": 13,
   "id": "8a037147",
   "metadata": {},
   "outputs": [
    {
     "name": "stdout",
     "output_type": "stream",
     "text": [
      "Found 1500 images belonging to 2 classes.\n",
      "Found 500 images belonging to 2 classes.\n"
     ]
    }
   ],
   "source": [
    "import pandas as pd\n",
    "import tensorflow as tf\n",
    "from tensorflow.keras.preprocessing.image import ImageDataGenerator\n",
    "\n",
    "tf.random.set_seed(12)\n",
    "\n",
    "traindir = \"./pizza_steak/train\"\n",
    "valdir = \"./pizza_steak/test\"\n",
    "preddir = \"./pizza_steak/predict\"\n",
    "\n",
    "# idgtrain = ImageDataGenerator(rescale = 1./255, \n",
    "#                               horizontal_flip=True \n",
    "#                               )\n",
    "# idgval   = ImageDataGenerator(rescale = 1./255)\n",
    "# idgpred = ImageDataGenerator(rescale = 1./255)\n",
    "\n",
    "idgtrain = ImageDataGenerator()\n",
    "idgval   = ImageDataGenerator()\n",
    "idgpred  = ImageDataGenerator()\n",
    "\n",
    "traindata = idgtrain.flow_from_directory(directory = traindir, target_size = (224,224), class_mode = 'binary')\n",
    "valdata = idgtrain.flow_from_directory(directory = valdir, target_size = (224,224), class_mode = 'binary')"
   ]
  },
  {
   "cell_type": "code",
   "execution_count": 3,
   "id": "da514d8a",
   "metadata": {},
   "outputs": [
    {
     "name": "stdout",
     "output_type": "stream",
     "text": [
      "(32, 224, 224, 3) (32,)\n"
     ]
    }
   ],
   "source": [
    "for a, b in traindata:\n",
    "    print(a.shape,b.shape)\n",
    "    break"
   ]
  },
  {
   "cell_type": "code",
   "execution_count": 23,
   "id": "0e206aae",
   "metadata": {},
   "outputs": [],
   "source": [
    "from tensorflow.keras import Sequential\n",
    "from tensorflow.keras.layers import Dense, Dropout, Conv2D, MaxPool2D, Flatten\n",
    "from tensorflow.keras.callbacks import EarlyStopping, ModelCheckpoint, ReduceLROnPlateau\n",
    "\n",
    "tf.keras.backend.clear_session()\n",
    "model = Sequential([\n",
    "    tf.keras.layers.Rescaling(scale=1./255, offset=0.0),\n",
    "    Conv2D(filters = 10,\n",
    "           kernel_size = 3,\n",
    "           strides=1,\n",
    "           activation = 'relu',\n",
    "           input_shape = (224,224,3)),\n",
    "    Flatten(),\n",
    "    Dense(10, activation = 'relu'),\n",
    "    Dense(1, activation='sigmoid')\n",
    "])\n",
    "model.compile(loss = 'binary_crossentropy', optimizer = 'adam', metrics = 'accuracy')\n",
    "\n",
    "reduce_lr = ReduceLROnPlateau(monitor='val_accuracy', factor=0.1,\n",
    "                              patience=5, \n",
    "                              min_delta=0.001,\n",
    "                              min_lr=0.00001)\n",
    "\n",
    "earlystopping = EarlyStopping(monitor='val_accuracy',\n",
    "                             min_delta=0.005,\n",
    "                             patience=10)\n",
    "\n",
    "filepath='./my_pizza_model.h5'\n",
    "modelcheckpoint = ModelCheckpoint(filepath=filepath, save_best_only=True)\n",
    "\n",
    "callbacks=[reduce_lr,earlystopping, modelcheckpoint]"
   ]
  },
  {
   "cell_type": "code",
   "execution_count": 24,
   "id": "db483af5",
   "metadata": {},
   "outputs": [
    {
     "name": "stdout",
     "output_type": "stream",
     "text": [
      "Epoch 1/50\n",
      "47/47 [==============================] - 12s 242ms/step - loss: 1.5749 - accuracy: 0.5980 - val_loss: 0.6817 - val_accuracy: 0.5020 - lr: 0.0010\n",
      "Epoch 2/50\n",
      "47/47 [==============================] - 15s 328ms/step - loss: 0.6585 - accuracy: 0.5740 - val_loss: 0.5369 - val_accuracy: 0.8040 - lr: 0.0010\n",
      "Epoch 3/50\n",
      "47/47 [==============================] - 15s 318ms/step - loss: 0.5498 - accuracy: 0.7773 - val_loss: 0.5222 - val_accuracy: 0.8260 - lr: 0.0010\n",
      "Epoch 4/50\n",
      "47/47 [==============================] - 15s 325ms/step - loss: 0.4480 - accuracy: 0.8240 - val_loss: 0.3724 - val_accuracy: 0.8360 - lr: 0.0010\n",
      "Epoch 5/50\n",
      "47/47 [==============================] - 15s 322ms/step - loss: 0.2638 - accuracy: 0.8920 - val_loss: 0.3909 - val_accuracy: 0.8240 - lr: 0.0010\n",
      "Epoch 6/50\n",
      "47/47 [==============================] - 15s 314ms/step - loss: 0.1040 - accuracy: 0.9633 - val_loss: 0.3779 - val_accuracy: 0.8280 - lr: 0.0010\n",
      "Epoch 7/50\n",
      "47/47 [==============================] - 15s 311ms/step - loss: 0.0431 - accuracy: 0.9920 - val_loss: 0.4390 - val_accuracy: 0.8360 - lr: 0.0010\n",
      "Epoch 8/50\n",
      "47/47 [==============================] - 15s 323ms/step - loss: 0.0229 - accuracy: 0.9967 - val_loss: 0.4140 - val_accuracy: 0.8360 - lr: 0.0010\n",
      "Epoch 9/50\n",
      "47/47 [==============================] - 15s 317ms/step - loss: 0.0086 - accuracy: 0.9993 - val_loss: 0.4277 - val_accuracy: 0.8480 - lr: 0.0010\n",
      "Epoch 10/50\n",
      "47/47 [==============================] - 15s 316ms/step - loss: 0.0062 - accuracy: 0.9993 - val_loss: 0.4327 - val_accuracy: 0.8460 - lr: 0.0010\n",
      "Epoch 11/50\n",
      "47/47 [==============================] - 15s 320ms/step - loss: 0.0036 - accuracy: 1.0000 - val_loss: 0.4805 - val_accuracy: 0.8400 - lr: 0.0010\n",
      "Epoch 12/50\n",
      "47/47 [==============================] - 15s 320ms/step - loss: 0.0028 - accuracy: 1.0000 - val_loss: 0.4507 - val_accuracy: 0.8500 - lr: 0.0010\n",
      "Epoch 13/50\n",
      "47/47 [==============================] - 15s 318ms/step - loss: 0.0020 - accuracy: 1.0000 - val_loss: 0.4674 - val_accuracy: 0.8460 - lr: 0.0010\n",
      "Epoch 14/50\n",
      "47/47 [==============================] - 15s 321ms/step - loss: 0.0017 - accuracy: 1.0000 - val_loss: 0.4770 - val_accuracy: 0.8460 - lr: 0.0010\n",
      "Epoch 15/50\n",
      "47/47 [==============================] - 15s 318ms/step - loss: 0.0014 - accuracy: 1.0000 - val_loss: 0.4733 - val_accuracy: 0.8500 - lr: 0.0010\n",
      "Epoch 16/50\n",
      "47/47 [==============================] - 15s 327ms/step - loss: 0.0012 - accuracy: 1.0000 - val_loss: 0.4828 - val_accuracy: 0.8480 - lr: 0.0010\n",
      "Epoch 17/50\n",
      "47/47 [==============================] - 15s 320ms/step - loss: 0.0010 - accuracy: 1.0000 - val_loss: 0.4924 - val_accuracy: 0.8420 - lr: 0.0010\n",
      "Epoch 18/50\n",
      "47/47 [==============================] - 15s 323ms/step - loss: 8.9535e-04 - accuracy: 1.0000 - val_loss: 0.4900 - val_accuracy: 0.8460 - lr: 1.0000e-04\n",
      "Epoch 19/50\n",
      "47/47 [==============================] - 15s 321ms/step - loss: 8.7504e-04 - accuracy: 1.0000 - val_loss: 0.4907 - val_accuracy: 0.8480 - lr: 1.0000e-04\n"
     ]
    }
   ],
   "source": [
    "history = model.fit(traindata, epochs = 50, validation_data = valdata, callbacks=callbacks)"
   ]
  },
  {
   "cell_type": "code",
   "execution_count": 17,
   "id": "91c18f2c",
   "metadata": {},
   "outputs": [
    {
     "name": "stdout",
     "output_type": "stream",
     "text": [
      "Epoch 1/5\n",
      "47/47 [==============================] - 11s 232ms/step - loss: 0.6932 - accuracy: 0.5000 - val_loss: 0.6932 - val_accuracy: 0.4980\n",
      "Epoch 2/5\n",
      "47/47 [==============================] - 13s 267ms/step - loss: 0.6932 - accuracy: 0.5000 - val_loss: 0.6932 - val_accuracy: 0.4980\n",
      "Epoch 3/5\n",
      "47/47 [==============================] - 14s 292ms/step - loss: 0.6932 - accuracy: 0.5000 - val_loss: 0.6932 - val_accuracy: 0.4980\n",
      "Epoch 4/5\n",
      "47/47 [==============================] - 14s 301ms/step - loss: 0.6932 - accuracy: 0.5000 - val_loss: 0.6932 - val_accuracy: 0.4980\n",
      "Epoch 5/5\n",
      "47/47 [==============================] - 14s 305ms/step - loss: 0.6932 - accuracy: 0.5000 - val_loss: 0.6932 - val_accuracy: 0.4980\n"
     ]
    }
   ],
   "source": [
    "history = model.fit(traindata, epochs = 5, validation_data = valdata)"
   ]
  },
  {
   "cell_type": "code",
   "execution_count": 31,
   "id": "28d266fc",
   "metadata": {},
   "outputs": [
    {
     "name": "stdout",
     "output_type": "stream",
     "text": [
      "Found 10 images belonging to 1 classes.\n"
     ]
    }
   ],
   "source": [
    "preddata = idgtrain.flow_from_directory(directory = preddir, target_size = (224,224), class_mode = None, shuffle = False)"
   ]
  },
  {
   "cell_type": "code",
   "execution_count": 25,
   "id": "72c77655",
   "metadata": {},
   "outputs": [
    {
     "data": {
      "text/plain": [
       "<AxesSubplot:>"
      ]
     },
     "execution_count": 25,
     "metadata": {},
     "output_type": "execute_result"
    },
    {
     "data": {
      "image/png": "[encoded data removed]",
      "text/plain": [
       "<Figure size 432x288 with 1 Axes>"
      ]
     },
     "metadata": {
      "needs_background": "light"
     },
     "output_type": "display_data"
    }
   ],
   "source": [
    "pd.DataFrame(history.history).plot()"
   ]
  },
  {
   "cell_type": "code",
   "execution_count": 9,
   "id": "a94a41e6",
   "metadata": {},
   "outputs": [
    {
     "data": {
      "text/plain": [
       "<AxesSubplot:>"
      ]
     },
     "execution_count": 9,
     "metadata": {},
     "output_type": "execute_result"
    },
    {
     "data": {
      "image/png": "[encoded data removed]",
      "text/plain": [
       "<Figure size 432x288 with 1 Axes>"
      ]
     },
     "metadata": {
      "needs_background": "light"
     },
     "output_type": "display_data"
    }
   ],
   "source": [
    "pd.DataFrame(history.history).plot()"
   ]
  },
  {
   "cell_type": "code",
   "execution_count": 32,
   "id": "8654923a",
   "metadata": {},
   "outputs": [
    {
     "name": "stdout",
     "output_type": "stream",
     "text": [
      "[[1.]\n",
      " [1.]\n",
      " [1.]\n",
      " [0.]\n",
      " [0.]\n",
      " [0.]\n",
      " [0.]\n",
      " [0.]\n",
      " [0.]\n",
      " [0.]]\n",
      "tf.Tensor(\n",
      "[[1.]\n",
      " [1.]\n",
      " [1.]\n",
      " [0.]\n",
      " [0.]\n",
      " [0.]\n",
      " [0.]\n",
      " [0.]\n",
      " [0.]\n",
      " [0.]], shape=(10, 1), dtype=float32)\n",
      "{'pizza': 0, 'steak': 1}\n",
      "dict_items([('pizza', 0), ('steak', 1)])\n"
     ]
    },
    {
     "data": {
      "text/plain": [
       "['steak',\n",
       " 'steak',\n",
       " 'steak',\n",
       " 'pizza',\n",
       " 'pizza',\n",
       " 'pizza',\n",
       " 'pizza',\n",
       " 'pizza',\n",
       " 'pizza',\n",
       " 'pizza']"
      ]
     },
     "execution_count": 32,
     "metadata": {},
     "output_type": "execute_result"
    }
   ],
   "source": [
    "preddata.reset()\n",
    "ypred = bestmodel.predict(preddata)\n",
    "print(ypred)\n",
    "\n",
    "import numpy as np\n",
    "predicted_class_indices=tf.round(ypred)\n",
    "print(predicted_class_indices)\n",
    "labels = (traindata.class_indices)\n",
    "print(labels)\n",
    "print(labels.items())\n",
    "flip_labels = dict((v,k) for k,v in labels.items()) # converts {'pizza':0} to {0:'pizza'}\n",
    "\n",
    "predictions = [flip_labels[int(k)] for k in predicted_class_indices]\n",
    "predictions"
   ]
  },
  {
   "cell_type": "code",
   "execution_count": 11,
   "id": "d6c81234",
   "metadata": {},
   "outputs": [
    {
     "name": "stdout",
     "output_type": "stream",
     "text": [
      "INFO:tensorflow:Assets written to: model_final1\\assets\n"
     ]
    }
   ],
   "source": [
    "model.save(\"model_final1\")"
   ]
  },
  {
   "cell_type": "code",
   "execution_count": 26,
   "id": "42ffbf5f",
   "metadata": {},
   "outputs": [
    {
     "data": {
      "text/plain": [
       "array([[0.38094193],\n",
       "       [0.9692935 ],\n",
       "       [0.22192076],\n",
       "       [0.9955939 ],\n",
       "       [0.00246817],\n",
       "       [0.00497407],\n",
       "       [0.9958381 ],\n",
       "       [0.87503195],\n",
       "       [0.01655918],\n",
       "       [0.00249484]], dtype=float32)"
      ]
     },
     "execution_count": 26,
     "metadata": {},
     "output_type": "execute_result"
    }
   ],
   "source": [
    "bestmodel = tf.keras.models.load_model(\"model_final.h5\")\n",
    "bestmodel.predict(preddata)"
   ]
  }
 ],
 "metadata": {
  "kernelspec": {
   "display_name": "Anaconda (base)",
   "language": "python",
   "name": "anaconda-base"
  },
  "language_info": {
   "codemirror_mode": {
    "name": "ipython",
    "version": 3
   },
   "file_extension": ".py",
   "mimetype": "text/x-python",
   "name": "python",
   "nbconvert_exporter": "python",
   "pygments_lexer": "ipython3",
   "version": "3.9.7"
  }
 },
 "nbformat": 4,
 "nbformat_minor": 5
}
