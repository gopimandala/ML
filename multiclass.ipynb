{
 "cells": [
  {
   "cell_type": "code",
   "execution_count": 1,
   "id": "ece38c1b",
   "metadata": {},
   "outputs": [
    {
     "data": {
      "text/plain": [
       "((60000, 28, 28), (60000,), (10000, 28, 28), (10000,))"
      ]
     },
     "execution_count": 1,
     "metadata": {},
     "output_type": "execute_result"
    }
   ],
   "source": [
    "import tensorflow as tf\n",
    "from tensorflow.keras.datasets import fashion_mnist\n",
    "(train_data, train_labels), (test_data, test_labels) = fashion_mnist.load_data()\n",
    "train_data.shape, train_labels.shape, test_data.shape, test_labels.shape"
   ]
  },
  {
   "cell_type": "code",
   "execution_count": 2,
   "id": "2b992f4a",
   "metadata": {},
   "outputs": [
    {
     "data": {
      "text/plain": [
       "(dtype('uint8'), 3, (60000, 28, 28))"
      ]
     },
     "execution_count": 2,
     "metadata": {},
     "output_type": "execute_result"
    }
   ],
   "source": [
    "train_data.dtype, train_data.ndim, train_data.shape"
   ]
  },
  {
   "cell_type": "code",
   "execution_count": 3,
   "id": "cdc456fe",
   "metadata": {},
   "outputs": [
    {
     "data": {
      "text/plain": [
       "array([[  0,   0,   0,   0,   0,   0,   0,   0,   0,   0,   0,   0,   0,\n",
       "          0,   0,   0,   0,   0,   0,   0,   0,   0,   0,   0,   0,   0,\n",
       "          0,   0],\n",
       "       [  0,   0,   0,   0,   0,   0,   0,   0,   0,   0,   0,   0,   0,\n",
       "          0,   0,   0,   0,   0,   0,   0,   0,   0,   0,   0,   0,   0,\n",
       "          0,   0],\n",
       "       [  0,   0,   0,   0,   0,   0,   0,   0,   0,   0,   0,   0,   0,\n",
       "          0,   0,   0,   0,   0,   0,   0,   0,   0,   0,   0,   0,   0,\n",
       "          0,   0],\n",
       "       [  0,   0,   0,   0,   0,   0,   0,   0,   0,   0,   0,   0,   1,\n",
       "          0,   0,  13,  73,   0,   0,   1,   4,   0,   0,   0,   0,   1,\n",
       "          1,   0],\n",
       "       [  0,   0,   0,   0,   0,   0,   0,   0,   0,   0,   0,   0,   3,\n",
       "          0,  36, 136, 127,  62,  54,   0,   0,   0,   1,   3,   4,   0,\n",
       "          0,   3],\n",
       "       [  0,   0,   0,   0,   0,   0,   0,   0,   0,   0,   0,   0,   6,\n",
       "          0, 102, 204, 176, 134, 144, 123,  23,   0,   0,   0,   0,  12,\n",
       "         10,   0],\n",
       "       [  0,   0,   0,   0,   0,   0,   0,   0,   0,   0,   0,   0,   0,\n",
       "          0, 155, 236, 207, 178, 107, 156, 161, 109,  64,  23,  77, 130,\n",
       "         72,  15],\n",
       "       [  0,   0,   0,   0,   0,   0,   0,   0,   0,   0,   0,   1,   0,\n",
       "         69, 207, 223, 218, 216, 216, 163, 127, 121, 122, 146, 141,  88,\n",
       "        172,  66],\n",
       "       [  0,   0,   0,   0,   0,   0,   0,   0,   0,   1,   1,   1,   0,\n",
       "        200, 232, 232, 233, 229, 223, 223, 215, 213, 164, 127, 123, 196,\n",
       "        229,   0],\n",
       "       [  0,   0,   0,   0,   0,   0,   0,   0,   0,   0,   0,   0,   0,\n",
       "        183, 225, 216, 223, 228, 235, 227, 224, 222, 224, 221, 223, 245,\n",
       "        173,   0],\n",
       "       [  0,   0,   0,   0,   0,   0,   0,   0,   0,   0,   0,   0,   0,\n",
       "        193, 228, 218, 213, 198, 180, 212, 210, 211, 213, 223, 220, 243,\n",
       "        202,   0],\n",
       "       [  0,   0,   0,   0,   0,   0,   0,   0,   0,   1,   3,   0,  12,\n",
       "        219, 220, 212, 218, 192, 169, 227, 208, 218, 224, 212, 226, 197,\n",
       "        209,  52],\n",
       "       [  0,   0,   0,   0,   0,   0,   0,   0,   0,   0,   6,   0,  99,\n",
       "        244, 222, 220, 218, 203, 198, 221, 215, 213, 222, 220, 245, 119,\n",
       "        167,  56],\n",
       "       [  0,   0,   0,   0,   0,   0,   0,   0,   0,   4,   0,   0,  55,\n",
       "        236, 228, 230, 228, 240, 232, 213, 218, 223, 234, 217, 217, 209,\n",
       "         92,   0],\n",
       "       [  0,   0,   1,   4,   6,   7,   2,   0,   0,   0,   0,   0, 237,\n",
       "        226, 217, 223, 222, 219, 222, 221, 216, 223, 229, 215, 218, 255,\n",
       "         77,   0],\n",
       "       [  0,   3,   0,   0,   0,   0,   0,   0,   0,  62, 145, 204, 228,\n",
       "        207, 213, 221, 218, 208, 211, 218, 224, 223, 219, 215, 224, 244,\n",
       "        159,   0],\n",
       "       [  0,   0,   0,   0,  18,  44,  82, 107, 189, 228, 220, 222, 217,\n",
       "        226, 200, 205, 211, 230, 224, 234, 176, 188, 250, 248, 233, 238,\n",
       "        215,   0],\n",
       "       [  0,  57, 187, 208, 224, 221, 224, 208, 204, 214, 208, 209, 200,\n",
       "        159, 245, 193, 206, 223, 255, 255, 221, 234, 221, 211, 220, 232,\n",
       "        246,   0],\n",
       "       [  3, 202, 228, 224, 221, 211, 211, 214, 205, 205, 205, 220, 240,\n",
       "         80, 150, 255, 229, 221, 188, 154, 191, 210, 204, 209, 222, 228,\n",
       "        225,   0],\n",
       "       [ 98, 233, 198, 210, 222, 229, 229, 234, 249, 220, 194, 215, 217,\n",
       "        241,  65,  73, 106, 117, 168, 219, 221, 215, 217, 223, 223, 224,\n",
       "        229,  29],\n",
       "       [ 75, 204, 212, 204, 193, 205, 211, 225, 216, 185, 197, 206, 198,\n",
       "        213, 240, 195, 227, 245, 239, 223, 218, 212, 209, 222, 220, 221,\n",
       "        230,  67],\n",
       "       [ 48, 203, 183, 194, 213, 197, 185, 190, 194, 192, 202, 214, 219,\n",
       "        221, 220, 236, 225, 216, 199, 206, 186, 181, 177, 172, 181, 205,\n",
       "        206, 115],\n",
       "       [  0, 122, 219, 193, 179, 171, 183, 196, 204, 210, 213, 207, 211,\n",
       "        210, 200, 196, 194, 191, 195, 191, 198, 192, 176, 156, 167, 177,\n",
       "        210,  92],\n",
       "       [  0,   0,  74, 189, 212, 191, 175, 172, 175, 181, 185, 188, 189,\n",
       "        188, 193, 198, 204, 209, 210, 210, 211, 188, 188, 194, 192, 216,\n",
       "        170,   0],\n",
       "       [  2,   0,   0,   0,  66, 200, 222, 237, 239, 242, 246, 243, 244,\n",
       "        221, 220, 193, 191, 179, 182, 182, 181, 176, 166, 168,  99,  58,\n",
       "          0,   0],\n",
       "       [  0,   0,   0,   0,   0,   0,   0,  40,  61,  44,  72,  41,  35,\n",
       "          0,   0,   0,   0,   0,   0,   0,   0,   0,   0,   0,   0,   0,\n",
       "          0,   0],\n",
       "       [  0,   0,   0,   0,   0,   0,   0,   0,   0,   0,   0,   0,   0,\n",
       "          0,   0,   0,   0,   0,   0,   0,   0,   0,   0,   0,   0,   0,\n",
       "          0,   0],\n",
       "       [  0,   0,   0,   0,   0,   0,   0,   0,   0,   0,   0,   0,   0,\n",
       "          0,   0,   0,   0,   0,   0,   0,   0,   0,   0,   0,   0,   0,\n",
       "          0,   0]], dtype=uint8)"
      ]
     },
     "execution_count": 3,
     "metadata": {},
     "output_type": "execute_result"
    }
   ],
   "source": [
    "train_data[0]"
   ]
  },
  {
   "cell_type": "code",
   "execution_count": 34,
   "id": "7139afae",
   "metadata": {},
   "outputs": [
    {
     "name": "stdout",
     "output_type": "stream",
     "text": [
      "Model: \"sequential\"\n",
      "_________________________________________________________________\n",
      " Layer (type)                Output Shape              Param #   \n",
      "=================================================================\n",
      " flatten (Flatten)           (None, 784)               0         \n",
      "                                                                 \n",
      " dense (Dense)               (None, 100)               78500     \n",
      "                                                                 \n",
      " dense_1 (Dense)             (None, 100)               10100     \n",
      "                                                                 \n",
      " dense_2 (Dense)             (None, 10)                1010      \n",
      "                                                                 \n",
      "=================================================================\n",
      "Total params: 89,610\n",
      "Trainable params: 89,610\n",
      "Non-trainable params: 0\n",
      "_________________________________________________________________\n"
     ]
    }
   ],
   "source": [
    "tf.random.set_seed(42)\n",
    "tf.keras.backend.clear_session()\n",
    "model = tf.keras.Sequential()\n",
    "model.add(tf.keras.layers.Flatten(input_shape=(28,28)))\n",
    "model.add(tf.keras.layers.Dense(100,activation='relu'))\n",
    "model.add(tf.keras.layers.Dense(100,activation='relu'))\n",
    "model.add(tf.keras.layers.Dense(10,activation='softmax'))\n",
    "\n",
    "model.compile(loss=tf.keras.losses.sparse_categorical_crossentropy,\n",
    "              optimizer=tf.keras.optimizers.Adam(lr=0.001),\n",
    "              metrics='accuracy')\n",
    "model.summary()"
   ]
  },
  {
   "cell_type": "code",
   "execution_count": 5,
   "id": "7c1f4b63",
   "metadata": {},
   "outputs": [
    {
     "name": "stdout",
     "output_type": "stream",
     "text": [
      "Epoch 1/10\n",
      "1875/1875 [==============================] - 2s 926us/step - loss: 2.4818 - accuracy: 0.1773 - val_loss: 1.9851 - val_accuracy: 0.2394\n",
      "Epoch 2/10\n",
      "1875/1875 [==============================] - 2s 819us/step - loss: 1.9254 - accuracy: 0.2607 - val_loss: 1.7678 - val_accuracy: 0.3267\n",
      "Epoch 3/10\n",
      "1875/1875 [==============================] - 2s 891us/step - loss: 1.6449 - accuracy: 0.3374 - val_loss: 1.5680 - val_accuracy: 0.3562\n",
      "Epoch 4/10\n",
      "1875/1875 [==============================] - 2s 810us/step - loss: 1.5206 - accuracy: 0.3607 - val_loss: 1.5176 - val_accuracy: 0.3621\n",
      "Epoch 5/10\n",
      "1875/1875 [==============================] - 2s 912us/step - loss: 1.4922 - accuracy: 0.3699 - val_loss: 1.4781 - val_accuracy: 0.3665\n",
      "Epoch 6/10\n",
      "1875/1875 [==============================] - 2s 816us/step - loss: 1.4688 - accuracy: 0.3799 - val_loss: 1.4985 - val_accuracy: 0.3582\n",
      "Epoch 7/10\n",
      "1875/1875 [==============================] - 2s 847us/step - loss: 1.4334 - accuracy: 0.3968 - val_loss: 1.4208 - val_accuracy: 0.4125\n",
      "Epoch 8/10\n",
      "1875/1875 [==============================] - 2s 930us/step - loss: 1.3989 - accuracy: 0.4102 - val_loss: 1.4782 - val_accuracy: 0.3826\n",
      "Epoch 9/10\n",
      "1875/1875 [==============================] - 2s 896us/step - loss: 1.3588 - accuracy: 0.4298 - val_loss: 1.3989 - val_accuracy: 0.4342\n",
      "Epoch 10/10\n",
      "1875/1875 [==============================] - 2s 845us/step - loss: 1.3325 - accuracy: 0.4388 - val_loss: 1.3235 - val_accuracy: 0.4396\n"
     ]
    }
   ],
   "source": [
    "non_norm_hist = model.fit(train_data,train_labels,epochs=10,validation_data=(test_data, test_labels))"
   ]
  },
  {
   "cell_type": "code",
   "execution_count": 6,
   "id": "0d8e1a32",
   "metadata": {},
   "outputs": [
    {
     "name": "stdout",
     "output_type": "stream",
     "text": [
      "313/313 [==============================] - 0s 572us/step - loss: 1.3235 - accuracy: 0.4396\n"
     ]
    },
    {
     "data": {
      "text/plain": [
       "[1.3235172033309937, 0.43959999084472656]"
      ]
     },
     "execution_count": 6,
     "metadata": {},
     "output_type": "execute_result"
    }
   ],
   "source": [
    "model.evaluate(test_data, test_labels)"
   ]
  },
  {
   "cell_type": "code",
   "execution_count": 7,
   "id": "808ad3d0",
   "metadata": {},
   "outputs": [
    {
     "data": {
      "image/png": "[encoded data removed]",
      "text/plain": [
       "<Figure size 432x288 with 1 Axes>"
      ]
     },
     "metadata": {
      "needs_background": "light"
     },
     "output_type": "display_data"
    }
   ],
   "source": [
    "import matplotlib.pyplot as plt\n",
    "plt.imshow(test_data[21]);"
   ]
  },
  {
   "cell_type": "code",
   "execution_count": 8,
   "id": "14c3dc1d",
   "metadata": {},
   "outputs": [
    {
     "data": {
      "text/plain": [
       "array([[0.0000000e+00, 0.0000000e+00, 0.0000000e+00, 0.0000000e+00,\n",
       "        0.0000000e+00, 4.4994877e-04, 0.0000000e+00, 9.9923563e-01,\n",
       "        1.8001418e-16, 3.1450816e-04]], dtype=float32)"
      ]
     },
     "execution_count": 8,
     "metadata": {},
     "output_type": "execute_result"
    }
   ],
   "source": [
    "model.predict(test_data[22].reshape(1,28,28))"
   ]
  },
  {
   "cell_type": "code",
   "execution_count": 35,
   "id": "03f0a788",
   "metadata": {},
   "outputs": [
    {
     "name": "stdout",
     "output_type": "stream",
     "text": [
      "Epoch 1/100\n",
      "1875/1875 [==============================] - 3s 1ms/step - loss: 0.4911 - accuracy: 0.8251 - val_loss: 0.4167 - val_accuracy: 0.8487 - lr: 0.0010\n",
      "Epoch 2/100\n",
      "1875/1875 [==============================] - 2s 1ms/step - loss: 0.3664 - accuracy: 0.8662 - val_loss: 0.4384 - val_accuracy: 0.8451 - lr: 0.0010\n",
      "Epoch 3/100\n",
      "1875/1875 [==============================] - 2s 1ms/step - loss: 0.3338 - accuracy: 0.8772 - val_loss: 0.3757 - val_accuracy: 0.8599 - lr: 0.0010\n",
      "Epoch 4/100\n",
      "1875/1875 [==============================] - 2s 1ms/step - loss: 0.3100 - accuracy: 0.8872 - val_loss: 0.3714 - val_accuracy: 0.8654 - lr: 0.0010\n",
      "Epoch 5/100\n",
      "1875/1875 [==============================] - 2s 1ms/step - loss: 0.2926 - accuracy: 0.8909 - val_loss: 0.3614 - val_accuracy: 0.8667 - lr: 0.0010\n",
      "Epoch 6/100\n",
      "1875/1875 [==============================] - 2s 1ms/step - loss: 0.2764 - accuracy: 0.8956 - val_loss: 0.3824 - val_accuracy: 0.8562 - lr: 0.0010\n",
      "Epoch 7/100\n",
      "1875/1875 [==============================] - 2s 1ms/step - loss: 0.2683 - accuracy: 0.8990 - val_loss: 0.3486 - val_accuracy: 0.8777 - lr: 0.0010\n",
      "Epoch 8/100\n",
      "1875/1875 [==============================] - 3s 1ms/step - loss: 0.2570 - accuracy: 0.9034 - val_loss: 0.3321 - val_accuracy: 0.8824 - lr: 0.0010\n",
      "Epoch 9/100\n",
      "1875/1875 [==============================] - 3s 2ms/step - loss: 0.2467 - accuracy: 0.9073 - val_loss: 0.3300 - val_accuracy: 0.8823 - lr: 0.0010\n",
      "Epoch 10/100\n",
      "1875/1875 [==============================] - 3s 1ms/step - loss: 0.2375 - accuracy: 0.9095 - val_loss: 0.3373 - val_accuracy: 0.8787 - lr: 0.0010\n",
      "Epoch 11/100\n",
      "1875/1875 [==============================] - 3s 1ms/step - loss: 0.2318 - accuracy: 0.9113 - val_loss: 0.3220 - val_accuracy: 0.8897 - lr: 0.0010\n",
      "Epoch 12/100\n",
      "1875/1875 [==============================] - 2s 1ms/step - loss: 0.2234 - accuracy: 0.9159 - val_loss: 0.3351 - val_accuracy: 0.8851 - lr: 0.0010\n",
      "Epoch 13/100\n",
      "1875/1875 [==============================] - 3s 1ms/step - loss: 0.2161 - accuracy: 0.9183 - val_loss: 0.3317 - val_accuracy: 0.8866 - lr: 0.0010\n",
      "Epoch 14/100\n",
      "1875/1875 [==============================] - 3s 2ms/step - loss: 0.2102 - accuracy: 0.9192 - val_loss: 0.3371 - val_accuracy: 0.8877 - lr: 0.0010\n",
      "Epoch 15/100\n",
      "1875/1875 [==============================] - 2s 1ms/step - loss: 0.2026 - accuracy: 0.9231 - val_loss: 0.3637 - val_accuracy: 0.8804 - lr: 0.0010\n",
      "Epoch 16/100\n",
      "1875/1875 [==============================] - 3s 1ms/step - loss: 0.1966 - accuracy: 0.9257 - val_loss: 0.3385 - val_accuracy: 0.8912 - lr: 0.0010\n",
      "Epoch 17/100\n",
      "1875/1875 [==============================] - 3s 1ms/step - loss: 0.1539 - accuracy: 0.9417 - val_loss: 0.3214 - val_accuracy: 0.8980 - lr: 1.0000e-04\n",
      "Epoch 18/100\n",
      "1875/1875 [==============================] - 3s 1ms/step - loss: 0.1461 - accuracy: 0.9452 - val_loss: 0.3257 - val_accuracy: 0.8965 - lr: 1.0000e-04\n",
      "Epoch 19/100\n",
      "1875/1875 [==============================] - 2s 1ms/step - loss: 0.1423 - accuracy: 0.9467 - val_loss: 0.3281 - val_accuracy: 0.8961 - lr: 1.0000e-04\n",
      "Epoch 20/100\n",
      "1875/1875 [==============================] - 3s 2ms/step - loss: 0.1390 - accuracy: 0.9479 - val_loss: 0.3308 - val_accuracy: 0.8972 - lr: 1.0000e-04\n",
      "Epoch 21/100\n",
      "1875/1875 [==============================] - 3s 1ms/step - loss: 0.1368 - accuracy: 0.9487 - val_loss: 0.3332 - val_accuracy: 0.8989 - lr: 1.0000e-04\n",
      "Epoch 22/100\n",
      "1875/1875 [==============================] - 3s 1ms/step - loss: 0.1309 - accuracy: 0.9518 - val_loss: 0.3327 - val_accuracy: 0.8976 - lr: 1.0000e-05\n",
      "Epoch 23/100\n",
      "1875/1875 [==============================] - 3s 1ms/step - loss: 0.1299 - accuracy: 0.9518 - val_loss: 0.3330 - val_accuracy: 0.8967 - lr: 1.0000e-05\n",
      "Epoch 24/100\n",
      "1875/1875 [==============================] - 3s 1ms/step - loss: 0.1295 - accuracy: 0.9521 - val_loss: 0.3338 - val_accuracy: 0.8966 - lr: 1.0000e-05\n",
      "Epoch 25/100\n",
      "1875/1875 [==============================] - 3s 1ms/step - loss: 0.1292 - accuracy: 0.9523 - val_loss: 0.3340 - val_accuracy: 0.8978 - lr: 1.0000e-05\n",
      "Epoch 26/100\n",
      "1875/1875 [==============================] - 3s 2ms/step - loss: 0.1289 - accuracy: 0.9525 - val_loss: 0.3341 - val_accuracy: 0.8984 - lr: 1.0000e-05\n",
      "Epoch 27/100\n",
      "1875/1875 [==============================] - 3s 1ms/step - loss: 0.1287 - accuracy: 0.9526 - val_loss: 0.3351 - val_accuracy: 0.8975 - lr: 1.0000e-05\n"
     ]
    }
   ],
   "source": [
    "train_ndata=train_data/255\n",
    "test_ndata=test_data/255\n",
    "\n",
    "from tensorflow.keras.callbacks import EarlyStopping, ModelCheckpoint, ReduceLROnPlateau\n",
    "reduce_lr = ReduceLROnPlateau(monitor='val_loss', factor=0.1,\n",
    "                              patience=5,\n",
    "                              min_delta=0.01,\n",
    "                              mode='min',\n",
    "                              min_lr=0.00001)\n",
    "\n",
    "earlystopping = EarlyStopping(monitor='val_loss',\n",
    "                             min_delta=0.0005,\n",
    "                             patience=10)\n",
    "\n",
    "filepath='./my_multiclass_model.h5'\n",
    "modelcheckpoint = ModelCheckpoint(filepath=filepath, save_best_only=True)\n",
    "\n",
    "callbacks=[earlystopping,modelcheckpoint,reduce_lr]\n",
    "\n",
    "norm_hist = model.fit(train_ndata,train_labels,epochs=100,validation_data=(test_ndata, test_labels),callbacks=callbacks)"
   ]
  },
  {
   "cell_type": "code",
   "execution_count": 37,
   "id": "36b07c6c",
   "metadata": {},
   "outputs": [
    {
     "name": "stdout",
     "output_type": "stream",
     "text": [
      "313/313 [==============================] - 0s 753us/step - loss: 0.3214 - accuracy: 0.8980\n"
     ]
    },
    {
     "data": {
      "text/plain": [
       "[0.32136550545692444, 0.8980000019073486]"
      ]
     },
     "execution_count": 37,
     "metadata": {},
     "output_type": "execute_result"
    }
   ],
   "source": [
    "bestmodel = tf.keras.models.load_model(filepath)\n",
    "bestmodel.evaluate(test_ndata, test_labels)"
   ]
  },
  {
   "cell_type": "code",
   "execution_count": null,
   "id": "48862749",
   "metadata": {},
   "outputs": [],
   "source": [
    "model.evaluate(test_ndata, test_labels)"
   ]
  },
  {
   "cell_type": "code",
   "execution_count": 10,
   "id": "2214f807",
   "metadata": {},
   "outputs": [
    {
     "data": {
      "text/plain": [
       "(array([[1.4079860e-07, 8.5984702e-08, 9.4464497e-07, 3.2452113e-05,\n",
       "         8.0875736e-08, 6.3804120e-01, 8.7623498e-08, 3.5658601e-01,\n",
       "         5.6770234e-04, 4.7714030e-03]], dtype=float32),\n",
       " (1, 10),\n",
       " 2,\n",
       " <tf.Tensor: shape=(), dtype=int64, numpy=5>)"
      ]
     },
     "execution_count": 10,
     "metadata": {},
     "output_type": "execute_result"
    }
   ],
   "source": [
    "mypred = model.predict(test_ndata[21].reshape(1,28,28))\n",
    "mypred, mypred.shape, mypred.ndim, tf.argmax(mypred[0])"
   ]
  },
  {
   "cell_type": "code",
   "execution_count": 11,
   "id": "d0ec36e5",
   "metadata": {},
   "outputs": [
    {
     "data": {
      "text/plain": [
       "<AxesSubplot:>"
      ]
     },
     "execution_count": 11,
     "metadata": {},
     "output_type": "execute_result"
    },
    {
     "data": {
      "image/png": "[encoded data removed]",
      "text/plain": [
       "<Figure size 432x288 with 1 Axes>"
      ]
     },
     "metadata": {
      "needs_background": "light"
     },
     "output_type": "display_data"
    }
   ],
   "source": [
    "import pandas as pd\n",
    "pd.DataFrame(non_norm_hist.history).plot()"
   ]
  },
  {
   "cell_type": "code",
   "execution_count": 19,
   "id": "c9b472e1",
   "metadata": {},
   "outputs": [
    {
     "data": {
      "text/plain": [
       "<AxesSubplot:>"
      ]
     },
     "execution_count": 19,
     "metadata": {},
     "output_type": "execute_result"
    },
    {
     "data": {
      "image/png": "[encoded data removed]",
      "text/plain": [
       "<Figure size 432x288 with 1 Axes>"
      ]
     },
     "metadata": {
      "needs_background": "light"
     },
     "output_type": "display_data"
    }
   ],
   "source": [
    "pd.DataFrame(norm_hist.history).plot()"
   ]
  },
  {
   "cell_type": "code",
   "execution_count": 13,
   "id": "0459f8ad",
   "metadata": {},
   "outputs": [
    {
     "data": {
      "text/plain": [
       "(10000, 10)"
      ]
     },
     "execution_count": 13,
     "metadata": {},
     "output_type": "execute_result"
    }
   ],
   "source": [
    "y_pred = model.predict(test_ndata)\n",
    "y_pred.shape"
   ]
  },
  {
   "cell_type": "code",
   "execution_count": 14,
   "id": "ae04b00a",
   "metadata": {},
   "outputs": [
    {
     "data": {
      "text/plain": [
       "array([[851,   8,  11,  42,   1,   2,  74,   0,  11,   0],\n",
       "       [  6, 960,   4,  24,   3,   0,   2,   0,   1,   0],\n",
       "       [ 29,   2, 690,   9, 156,   0, 109,   0,   5,   0],\n",
       "       [ 44,  18,   9, 850,  30,   1,  45,   1,   2,   0],\n",
       "       [  1,   1,  82,  48, 770,   0,  93,   0,   5,   0],\n",
       "       [  3,   0,   0,   1,   0, 924,   0,  42,   5,  25],\n",
       "       [224,   2,  95,  32, 102,   0, 530,   0,  15,   0],\n",
       "       [  0,   0,   0,   0,   0,  43,   0, 924,   0,  33],\n",
       "       [ 12,   0,   6,   6,   6,  16,  25,   5, 924,   0],\n",
       "       [  0,   0,   0,   0,   0,  32,   0,  39,   2, 927]], dtype=int64)"
      ]
     },
     "execution_count": 14,
     "metadata": {},
     "output_type": "execute_result"
    }
   ],
   "source": [
    "from sklearn.metrics import confusion_matrix\n",
    "confusion_matrix(y_true = test_labels, y_pred = tf.argmax(y_pred,1))\n"
   ]
  },
  {
   "cell_type": "code",
   "execution_count": 15,
   "id": "e0f3a628",
   "metadata": {},
   "outputs": [
    {
     "data": {
      "text/plain": [
       "(array([9, 2, 1, ..., 8, 1, 5], dtype=uint8),\n",
       " array([[2.9172254e-06, 5.1070570e-09, 2.1276858e-07, ..., 1.3247527e-01,\n",
       "         7.8708436e-03, 6.5877420e-01],\n",
       "        [1.0857530e-04, 6.6478814e-09, 9.7292322e-01, ..., 2.0408059e-08,\n",
       "         3.8256872e-04, 3.4927834e-14],\n",
       "        [5.0745814e-07, 9.9975878e-01, 2.8887857e-07, ..., 3.4386507e-05,\n",
       "         8.6889645e-10, 1.2264782e-07],\n",
       "        ...,\n",
       "        [1.2976658e-02, 1.8518611e-08, 1.5070086e-02, ..., 6.4305955e-06,\n",
       "         5.1698524e-01, 6.7629855e-07],\n",
       "        [1.9673305e-05, 9.8867446e-01, 1.8020772e-08, ..., 2.5249947e-05,\n",
       "         9.1080770e-09, 9.8855270e-04],\n",
       "        [2.1723549e-04, 7.5277367e-06, 1.0523889e-03, ..., 1.4675365e-02,\n",
       "         3.2510899e-02, 1.4597038e-04]], dtype=float32),\n",
       " <tf.Tensor: shape=(10000,), dtype=int64, numpy=array([9, 2, 1, ..., 8, 1, 5], dtype=int64)>)"
      ]
     },
     "execution_count": 15,
     "metadata": {},
     "output_type": "execute_result"
    }
   ],
   "source": [
    "test_labels, y_pred, tf.argmax(y_pred,1)"
   ]
  },
  {
   "cell_type": "code",
   "execution_count": null,
   "id": "4ea5129d",
   "metadata": {},
   "outputs": [],
   "source": []
  }
 ],
 "metadata": {
  "kernelspec": {
   "display_name": "Anaconda (base)",
   "language": "python",
   "name": "anaconda-base"
  },
  "language_info": {
   "codemirror_mode": {
    "name": "ipython",
    "version": 3
   },
   "file_extension": ".py",
   "mimetype": "text/x-python",
   "name": "python",
   "nbconvert_exporter": "python",
   "pygments_lexer": "ipython3",
   "version": "3.9.7"
  }
 },
 "nbformat": 4,
 "nbformat_minor": 5
}
